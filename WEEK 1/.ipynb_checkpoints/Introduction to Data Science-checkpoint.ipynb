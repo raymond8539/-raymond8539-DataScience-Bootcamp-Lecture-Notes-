{
 "cells": [
  {
   "cell_type": "markdown",
   "id": "20a6a5ce-784f-47bf-8dc9-e4a37e32d8a3",
   "metadata": {},
   "source": [
    "#week 1:Day 1- Introduction to Data Science"
   ]
  },
  {
   "cell_type": "markdown",
   "id": "3f64fe23-91c8-4ff7-81e8-8d7563fd82a9",
   "metadata": {},
   "source": [
    "# Introduction to data and Data Science"
   ]
  },
  {
   "cell_type": "markdown",
   "id": "0de9da78-9f25-4cef-bf8c-ee6a8795da8e",
   "metadata": {
    "jp-MarkdownHeadingCollapsed": true,
    "tags": []
   },
   "source": [
    " Twenty-five years ago, a statistician was responsible for gathering and cleaning data set and applying various statistical method to data.\n",
    "but as he years goes by and technology continues to advanced, statisticians tarted to use analytical tools to extract patterns from data (data mining)\n",
    " and use new mathematical and statistical model to perform more accurate forcast. Statistician that have upgraded their skill with  modern tcechnology  are now refer to as data scientist."
   ]
  },
  {
   "cell_type": "markdown",
   "id": "76e07e55-403c-40f6-bba2-0fdad63db964",
   "metadata": {},
   "source": [
    "# What is Data?"
   ]
  },
  {
   "cell_type": "markdown",
   "id": "99c67584-72fe-488b-89b7-eb96ab019445",
   "metadata": {},
   "source": [
    "Data is a digital information stored in a computer."
   ]
  },
  {
   "cell_type": "markdown",
   "id": "f9a118dd-4c16-49de-9165-a3632e5c37db",
   "metadata": {},
   "source": [
    "# Definition of Data Science"
   ]
  },
  {
   "cell_type": "markdown",
   "id": "faffb5e7-35b9-4cb3-a669-6e9cf65778ff",
   "metadata": {},
   "source": [
    "1) Data science is the study of data.\n",
    "2) Data science is the art of discovery insight and trends that are hiding behind data.\n",
    "3) Data science is the study of available past data to extract existing patterns and trends in order to generate insight,\n",
    "   and methods to solve problems\n",
    "\n"
   ]
  },
  {
   "cell_type": "markdown",
   "id": "7d985559-0807-4bfd-a1aa-09fbfc76f8f4",
   "metadata": {},
   "source": [
    "# Data Analysis and Data Analytics"
   ]
  },
  {
   "cell_type": "markdown",
   "id": "a8541d71-e5b5-4992-90a6-bf0fe00b77f0",
   "metadata": {},
   "source": [
    "The difference between data analysis and data analytic, is that while analysis look towards th past, analytics looks toward the future.\n",
    "Data analysis is the process of studying a given data set , dividing them into small components, and studying the subcomponents individually and their relationship with one another. While data analytics on the other hand, is taking analyzed data and working onit in a meaningful and useful way to make well-versed business decisions.\n",
    "One of the differences between them is that in data analysis, experts explore past data, and break down the macro elements into micros with the help of statistical analysis and draft a conclusion with deeper and more significant insights.\n",
    "Data analytics utilizes different variables and create predictive and productive models to challenge in a competitive marketplace. There are qualitative and quantitative analysis, also qualitative and quantitative analytics.\n"
   ]
  },
  {
   "cell_type": "markdown",
   "id": "1aff39b6-a003-4813-aba4-323ed369c68d",
   "metadata": {},
   "source": [
    "# Qualitative and Quantitative Data Analysis"
   ]
  },
  {
   "cell_type": "markdown",
   "id": "cafac312-6aae-4a66-9506-a12b5d051b2b",
   "metadata": {},
   "source": [
    "qualitative analysis is relying on past data to explain why things happened or ended the way they did.\n",
    "While quantitative analysis is using past data to tell when and why sales decrease"
   ]
  },
  {
   "cell_type": "markdown",
   "id": "2f139a59-1d1f-40de-8ab0-42e2e6e85407",
   "metadata": {},
   "source": [
    "# qualitative and quantitative analytics"
   ]
  },
  {
   "cell_type": "markdown",
   "id": "744b942e-6644-422f-b818-fcedf2e58d6f",
   "metadata": {},
   "source": [
    "Qualitative analytics is using your intuition and experience in conjuction with analysis to plan your next business move . whil quantitative analytics is applying mathematical formulars and algorithm to the numbers you have gathered from your analysis.\n"
   ]
  },
  {
   "cell_type": "markdown",
   "id": "36429aed-4f6b-4b25-8613-728a1d585124",
   "metadata": {},
   "source": [
    "With the help of technology data scientist can now predict more accurately with the use of computers and other tools installed in the computer as softwares. Computer is an electronic machine that recieve instructions from you in a language that it understands, process that instruction and give you back an output. Since this computer cannot think on it's own, it is our responsibility to give it sequential instruction called \"CODE\". The process or art of giving the computer instruction is what is called programming (telling the computer what to do).\n",
    "This lead us to \"python\". It is important to precise and accurate when passing instructions to your machine because it can not tell what you are thinking when you make a mistake, it simply gives you what you throw into it or gives you an error message when it does not understand what you mean.\n",
    "\n"
   ]
  },
  {
   "cell_type": "markdown",
   "id": "28255460-6024-491e-a90d-118bd5a281df",
   "metadata": {},
   "source": [
    "# Python as a Language\n",
    "This is the language of the python, and individuals who can speak this language this language are known as pythonista.\n",
    "and just as said before you must be precise communicating with the machine because it will give you error if it does not understand you.\n",
    "# Reserved Words\n",
    "These are words python place specific meaning to andd cannot be understood to mean anything else apart from python know them to be.\n",
    "they include;and, del, from, none, true, as, elif, global, else, if, not, while, break, except, import, or, with, class, false, in, pass, yield, continue, finally, is, raise, def, for, lambda,return nonlocal."
   ]
  },
  {
   "cell_type": "markdown",
   "id": "bd239d30-887e-460a-a76f-86f9277ad3b6",
   "metadata": {},
   "source": [
    "# A Script\n",
    "A script usually contains a sequence of statements. If there is more than one statement, the result appears one at a time as the statements executes. Example;"
   ]
  },
  {
   "cell_type": "code",
   "execution_count": 10,
   "id": "050f57f0-4492-4e5c-9a30-58c5efc48630",
   "metadata": {},
   "outputs": [
    {
     "name": "stdout",
     "output_type": "stream",
     "text": [
      "3\n",
      "4\n"
     ]
    }
   ],
   "source": [
    "x=3\n",
    "print(x)\n",
    "x=4\n",
    "print(x)\n"
   ]
  },
  {
   "cell_type": "markdown",
   "id": "22f75036-5e08-42a5-9a36-7790053b9e5d",
   "metadata": {},
   "source": [
    "where x is the variable name under which the value 2 and 3 are stored"
   ]
  },
  {
   "cell_type": "markdown",
   "id": "1a720613-e297-43b3-b434-fe97a07f374a",
   "metadata": {},
   "source": [
    "# statement\n",
    "A statement is a unit of code that the python interpreter can execute. There are two kind of statement;\n",
    "1) Assignment statement ;This is a statement in which the assignment operator (=) is used to assign a literal , value of a variable,the result of any expression or  the return value of a method to a variables.e.g a=10, b=a*4\n",
    "2) Expression statement;This is a set of variables, constants, and arithmetical operators e.g d+h+R*5*4. A value all by itself is consider an expression.\n"
   ]
  },
  {
   "cell_type": "markdown",
   "id": "ffb42222-e772-4342-bfd1-f5817008c650",
   "metadata": {},
   "source": [
    "# Operators and Operands\n",
    "  Operators are special symbolsthat represents computations like addition(+), multiplication(*), subtraction(-) etc, and the values these operators .are appilied to are called operands."
   ]
  },
  {
   "cell_type": "markdown",
   "id": "9da07a5c-9bdc-41b6-8603-b22f8c359d16",
   "metadata": {},
   "source": [
    "# Program Steps:\n",
    "1) sequential step; Here the computer executes a series of statement or lines one after the other.\n",
    "2) Conditional step; Here the computer can skip steps if the conditions are not met. It is the condition that controls the execution of the program.\n",
    "3) Repeat Step; Here the computer keep repeating the same thing ."
   ]
  },
  {
   "cell_type": "code",
   "execution_count": 11,
   "id": "35bb5b08-49c6-4532-acdf-d2f35ccb1559",
   "metadata": {},
   "outputs": [
    {
     "name": "stdout",
     "output_type": "stream",
     "text": [
      "2\n",
      "4\n"
     ]
    }
   ],
   "source": [
    "# example of sequential step\n",
    "x=2\n",
    "print(x)\n",
    "x=x+2\n",
    "print(x)\n"
   ]
  },
  {
   "cell_type": "code",
   "execution_count": 15,
   "id": "2297cb48-4f0d-4e73-82fe-ed1af9047062",
   "metadata": {},
   "outputs": [
    {
     "name": "stdout",
     "output_type": "stream",
     "text": [
      "smaller\n"
     ]
    }
   ],
   "source": [
    "# example of condional step\n",
    "x=5\n",
    "if x<10:\n",
    "    print('smaller')\n",
    "    if x>20:\n",
    "        print('bigger')\n",
    "        print('finis')\n",
    "              "
   ]
  },
  {
   "cell_type": "code",
   "execution_count": 16,
   "id": "7d0e5e27-7e6d-428c-bf91-74f43d68c311",
   "metadata": {},
   "outputs": [
    {
     "name": "stdout",
     "output_type": "stream",
     "text": [
      "5\n",
      "blast off\n",
      "4\n",
      "blast off\n",
      "3\n",
      "blast off\n",
      "2\n",
      "blast off\n",
      "1\n",
      "blast off\n"
     ]
    }
   ],
   "source": [
    "# example of repeat step\n",
    "n=5\n",
    "while n>0:\n",
    "    print(n)\n",
    "    n=n-1\n",
    "    print('blast off')\n",
    "    "
   ]
  },
  {
   "cell_type": "code",
   "execution_count": null,
   "id": "77419397-4f8f-4efd-8c22-c227dd16f052",
   "metadata": {},
   "outputs": [],
   "source": []
  },
  {
   "cell_type": "code",
   "execution_count": null,
   "id": "9c970ea2-af09-44b4-a8d5-aaf2a3c04261",
   "metadata": {},
   "outputs": [],
   "source": []
  }
 ],
 "metadata": {
  "kernelspec": {
   "display_name": "Python 3 (ipykernel)",
   "language": "python",
   "name": "python3"
  },
  "language_info": {
   "codemirror_mode": {
    "name": "ipython",
    "version": 3
   },
   "file_extension": ".py",
   "mimetype": "text/x-python",
   "name": "python",
   "nbconvert_exporter": "python",
   "pygments_lexer": "ipython3",
   "version": "3.9.13"
  }
 },
 "nbformat": 4,
 "nbformat_minor": 5
}
