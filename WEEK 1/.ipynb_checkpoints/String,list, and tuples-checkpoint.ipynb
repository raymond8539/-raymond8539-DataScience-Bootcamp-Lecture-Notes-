{
 "cells": [
  {
   "cell_type": "markdown",
   "id": "b64e1709-f052-4aec-a842-787ca555f836",
   "metadata": {},
   "source": [
    "# Strings\n",
    "Python string is the collection of the characters surrounded by single quotes, double quotes, or triple quotes. The computer does not understand the characters; internally, it stores manipulated character as the combination of the 0's and 1's.\n",
    "In Python, strings can be created by enclosing the character or the sequence of characters in the quotes. Python allows us to use single quotes, double quotes, or triple quotes to create the string.\n",
    "\n"
   ]
  },
  {
   "cell_type": "code",
   "execution_count": 2,
   "id": "e6fb8a82-5f2f-4fea-9e58-11ede9ff55f7",
   "metadata": {},
   "outputs": [
    {
     "name": "stdout",
     "output_type": "stream",
     "text": [
      "<class 'type'>\n"
     ]
    }
   ],
   "source": [
    "#Consider the following example in Python to create a string.\n",
    "\n",
    "#Syntax:\n",
    "#str = \"Hi Python !\"    \n",
    "#Here, if we check the type of the variable str using a Python script\n",
    "\n",
    "print(type(str)) #, then it will print a string (str). "
   ]
  },
  {
   "cell_type": "code",
   "execution_count": 1,
   "id": "10f20749-1cc1-4ef5-b130-777da1e9764d",
   "metadata": {},
   "outputs": [
    {
     "name": "stdout",
     "output_type": "stream",
     "text": [
      "Hello Python\n",
      "Hello Python\n",
      "''Triple quotes are generally used for  \n",
      "    represent the multiline or \n",
      "    docstring\n"
     ]
    }
   ],
   "source": [
    "# examples\n",
    "#Using single quotes  \n",
    "str1 = 'Hello Python'  \n",
    "print(str1)  \n",
    "#Using double quotes  \n",
    "str2 = \"Hello Python\"  \n",
    "print(str2)  \n",
    "  \n",
    "#Using triple quotes  \n",
    "str3 = '''''Triple quotes are generally used for  \n",
    "    represent the multiline or \n",
    "    docstring'''   \n",
    "print(str3)  "
   ]
  },
  {
   "cell_type": "markdown",
   "id": "430cae5d-21b5-4ca7-9376-a9171a62f1d6",
   "metadata": {},
   "source": [
    "# list\n",
    "A list in Python is used to store the sequence of various types of data. A list can be defined as a collection of values or items of different types. Python lists are mutable type which implies that we may modify its element after it has been formed. The items in the list are separated with the comma (,) and enclosed with the square brackets []."
   ]
  },
  {
   "cell_type": "markdown",
   "id": "db8b2c50-b7e1-449f-9779-e1674f77eb69",
   "metadata": {},
   "source": [
    "# Characteristics of Lists\n",
    "The list has the following characteristics:\n",
    "\n",
    "1)The lists are ordered.\n",
    "2)The element of the list can access by index.\n",
    "3)The lists are the mutable type.\n",
    "4)The lists are mutable types.\n",
    "5)A list can store the number of various elements.\n"
   ]
  },
  {
   "cell_type": "code",
   "execution_count": 2,
   "id": "196f3ff1-6eb3-4a27-bf4c-a575c7296c80",
   "metadata": {},
   "outputs": [
    {
     "name": "stdout",
     "output_type": "stream",
     "text": [
      "[1, 2, 'rayfadda', 'justice', 1.9]\n",
      "['Rita', 'Ebube', 'Henry', 'Emma']\n",
      "<class 'list'>\n",
      "<class 'list'>\n"
     ]
    }
   ],
   "source": [
    "# a simple list   \n",
    "list1 = [1, 2, \"rayfadda\", \"justice\", 1.9]      \n",
    "list2 = [\"Rita\", \"Ebube\", \"Henry\", \"Emma\"]   \n",
    "  \n",
    "# printing the list  \n",
    "print(list1)  \n",
    "print(list2)  \n",
    "  \n",
    "# printing the type of list  \n",
    "print(type(list1))  \n",
    "print(type(list2))  \n"
   ]
  },
  {
   "cell_type": "code",
   "execution_count": null,
   "id": "4c75538f-6f1c-4999-9534-722438198708",
   "metadata": {},
   "outputs": [],
   "source": [
    "#Lists permanently preserve the element's order. It is the arranged gathering of things because of this.\n",
    "\n",
    "# list example in detail  \n",
    "emp = [ \"Raymond\", 502, \"USA\"]       \n",
    "Dep1 = [ \"CS\",10]    \n",
    "Dep2 = [ \"IT\",11]      \n",
    "HOD_CS = [ 10,\"Mr. Holding\"]      \n",
    "HOD_IT = [11, \"Mr. Bewon\"]      \n",
    "print(\"printing employee data ...\")      \n",
    "print(\" Name : %s, ID: %d, Country: %s\" %(emp[0], emp[1], emp[2]))      \n",
    "print(\"printing departments ...\")     \n",
    "print(\"Department 1:\\nName: %s, ID: %d\\n Department 2:\\n Name: %s, ID: %s\"%( Dep1[0], Dep2[1], Dep2[0], Dep2[1]))      \n",
    "print(\"HOD Details ....\")      \n",
    "print(\"CS HOD Name: %s, Id: %d\" %(HOD_CS[1], HOD_CS[0]))      \n",
    "print(\"IT HOD Name: %s, Id: %d\" %(HOD_IT[1], HOD_IT[0]))      \n",
    "print(type(emp), type(Dep1), type(Dep2), type(HOD_CS), type(HOD_IT))"
   ]
  },
  {
   "cell_type": "markdown",
   "id": "9c9443de-eed0-4807-91e8-82f09740befe",
   "metadata": {},
   "source": [
    "# List Indexing and Splitting\n",
    "The indexing is processed in the same way as it happens with the strings. The elements of the list can be accessed by using the slice operator [].The index starts from 0 and goes to length - 1. The first element of the list is stored at the 0th index, the second element of the list is stored at the 1st index, and so on.\n",
    "\n",
    "We can get the sub-list of the list using the following syntax.\n",
    "\n",
    "list_varible(start:stop:step) \n",
    "\n",
    "The start denotes the starting index position of the list.\n",
    "The stop denotes the last index position of the list.\n",
    "The step is used to skip the nth element within a start:stop\n",
    "The initial index is represented by the start parameter, the ending index is determined by the step, and also the number of elements which are \"stepped\" through is the value of the end parameter. In the absence of a specific value for step, the default value equals 1. Inside the resultant SubList, the item also with index start would be present, but the one with the index finish will not. A list's initial element seems to have the index of 0.\n",
    "\n",
    "\n"
   ]
  },
  {
   "cell_type": "code",
   "execution_count": 11,
   "id": "ee1a3e5e-494d-41d7-bc2e-c07a94618f68",
   "metadata": {},
   "outputs": [
    {
     "name": "stdout",
     "output_type": "stream",
     "text": [
      "1\n",
      "2\n",
      "3\n",
      "4\n",
      "[1, 2, 3, 4, 5, 6]\n",
      "[1, 2, 3, 4, 5, 6, 7]\n",
      "[3, 4, 5]\n",
      "[2, 4, 6]\n",
      "[1, 2, 3, 4, 5, 6]\n",
      "4\n"
     ]
    }
   ],
   "source": [
    "list = [1,2,3,4,5,6,7]    \n",
    "print(list[0])    \n",
    "print(list[1])    \n",
    "print(list[2])    \n",
    "print(list[3])    \n",
    "# Slicing the elements    \n",
    "print(list[0:6])    \n",
    "# By default, the index value is 0 so its starts from the 0th element and go for index -1.    \n",
    "print(list[:])    \n",
    "print(list[2:5])    \n",
    "print(list[1:6:2]) \n",
    "print(list[-9:-1])\n",
    "print(list[-4])"
   ]
  },
  {
   "cell_type": "markdown",
   "id": "8be3437f-8434-4c65-a162-24613f1016bf",
   "metadata": {},
   "source": [
    "# Updating List Values\n",
    "Lists are the most versatile data structures in Python since they are mutable, and their values can be updated by using the slice and assignment operator. Python also provides append() and insert() methods, which can be used to add values to the list."
   ]
  },
  {
   "cell_type": "code",
   "execution_count": 12,
   "id": "3af3792c-6477-4715-a072-b1b2bbf2fb36",
   "metadata": {},
   "outputs": [
    {
     "name": "stdout",
     "output_type": "stream",
     "text": [
      "[1, 2, 3, 4, 5, 6, 20]\n"
     ]
    }
   ],
   "source": [
    "list[6]=20\n",
    "print(list)"
   ]
  },
  {
   "cell_type": "code",
   "execution_count": 14,
   "id": "13967a41-0d5f-4fd4-a3d1-c9cfb4116c8d",
   "metadata": {},
   "outputs": [
    {
     "name": "stdout",
     "output_type": "stream",
     "text": [
      "[1, 2, 3, 4, 5, 6, 20, 50]\n"
     ]
    }
   ],
   "source": [
    "# we can add to the list\n",
    "list.append(50)\n",
    "print(list)"
   ]
  },
  {
   "cell_type": "code",
   "execution_count": 15,
   "id": "f0f3fdc8-08be-445f-968b-f7a6eb10d103",
   "metadata": {},
   "outputs": [
    {
     "name": "stdout",
     "output_type": "stream",
     "text": [
      "[1, 2, 3, 4, 5, 6, 20]\n"
     ]
    }
   ],
   "source": [
    "# to remove from the list\n",
    "list.remove(50)\n",
    "print(list)"
   ]
  },
  {
   "cell_type": "code",
   "execution_count": 17,
   "id": "117fdee1-ef4d-46a6-a9ec-1095337e46d6",
   "metadata": {},
   "outputs": [
    {
     "name": "stdout",
     "output_type": "stream",
     "text": [
      "[1, 2, 3, 4, 20]\n"
     ]
    }
   ],
   "source": [
    "list.remove(list[4])\n",
    "print(list)"
   ]
  },
  {
   "cell_type": "code",
   "execution_count": 18,
   "id": "7043ccab-51b4-4418-a0ea-4ea9b45ee4d8",
   "metadata": {},
   "outputs": [
    {
     "name": "stdout",
     "output_type": "stream",
     "text": [
      "[1, 2, 3, 4, 5, 6, 7, 8, 9, 10]\n"
     ]
    }
   ],
   "source": [
    "#concatenation ; to join two list together \n",
    "a = [1,2,3,4,5]\n",
    "b = [6,7,8,9,10]\n",
    "c= a+b\n",
    "print(c)"
   ]
  },
  {
   "cell_type": "code",
   "execution_count": 19,
   "id": "a8e56bdd-1516-407a-bb51-0b1724017111",
   "metadata": {},
   "outputs": [
    {
     "data": {
      "text/plain": [
       "10"
      ]
     },
     "execution_count": 19,
     "metadata": {},
     "output_type": "execute_result"
    }
   ],
   "source": [
    "#len() function gives us the number of item in a list\n",
    "len(c)"
   ]
  },
  {
   "cell_type": "code",
   "execution_count": 20,
   "id": "54f0b849-c59f-495b-9eb7-6839d97f1194",
   "metadata": {},
   "outputs": [
    {
     "data": {
      "text/plain": [
       "10"
      ]
     },
     "execution_count": 20,
     "metadata": {},
     "output_type": "execute_result"
    }
   ],
   "source": [
    "#max() function returns the maximum number in the list\n",
    "max(c)"
   ]
  },
  {
   "cell_type": "code",
   "execution_count": 21,
   "id": "e801fa13-63ee-40df-8480-7935d0f4cdd5",
   "metadata": {},
   "outputs": [
    {
     "data": {
      "text/plain": [
       "1"
      ]
     },
     "execution_count": 21,
     "metadata": {},
     "output_type": "execute_result"
    }
   ],
   "source": [
    "# min returns the minimum number in the list\n",
    "min(c)"
   ]
  },
  {
   "cell_type": "code",
   "execution_count": 22,
   "id": "0fbecc8e-238f-484e-ac31-bf691b3232c1",
   "metadata": {},
   "outputs": [
    {
     "data": {
      "text/plain": [
       "[1, 2, 3, 4, 20]"
      ]
     },
     "execution_count": 22,
     "metadata": {},
     "output_type": "execute_result"
    }
   ],
   "source": [
    "# repeatition of list\n",
    "\n",
    "list"
   ]
  },
  {
   "cell_type": "code",
   "execution_count": 23,
   "id": "b256a5a5-6dd0-4a36-b76a-83811560d2a9",
   "metadata": {},
   "outputs": [],
   "source": [
    "r = list *2"
   ]
  },
  {
   "cell_type": "code",
   "execution_count": 24,
   "id": "861fd766-1819-456b-931a-031f950ef0ae",
   "metadata": {},
   "outputs": [
    {
     "name": "stdout",
     "output_type": "stream",
     "text": [
      "[1, 2, 3, 4, 20, 1, 2, 3, 4, 20]\n"
     ]
    }
   ],
   "source": [
    "print(r)"
   ]
  },
  {
   "cell_type": "code",
   "execution_count": 25,
   "id": "69a317fd-bb66-4f5a-9089-9fc4f24ab395",
   "metadata": {},
   "outputs": [
    {
     "data": {
      "text/plain": [
       "[1, 2, 3, 4, 20]"
      ]
     },
     "execution_count": 25,
     "metadata": {},
     "output_type": "execute_result"
    }
   ],
   "source": [
    "# iteration of list\n",
    "list\n"
   ]
  },
  {
   "cell_type": "code",
   "execution_count": 26,
   "id": "2f52832f-4730-420d-9a56-66d263bf37c0",
   "metadata": {},
   "outputs": [
    {
     "name": "stdout",
     "output_type": "stream",
     "text": [
      "1\n",
      "2\n",
      "3\n",
      "4\n",
      "20\n"
     ]
    }
   ],
   "source": [
    "for i in list:\n",
    "    print(i)"
   ]
  },
  {
   "cell_type": "code",
   "execution_count": 27,
   "id": "f6252d95-dae3-44c1-afd6-92b68fef03b0",
   "metadata": {},
   "outputs": [
    {
     "name": "stdout",
     "output_type": "stream",
     "text": [
      "Raymond\n",
      "Lucky\n",
      "Rita\n",
      "Mike\n",
      "Evelyn\n",
      "Godfrey\n"
     ]
    }
   ],
   "source": [
    "names = ['Raymond','Lucky','Rita','Mike','Evelyn','Godfrey']\n",
    "for name in names:\n",
    "    print(name)"
   ]
  },
  {
   "cell_type": "code",
   "execution_count": 29,
   "id": "f4e83292-52a9-4e2b-9e44-fe6304ddff56",
   "metadata": {},
   "outputs": [
    {
     "data": {
      "text/plain": [
       "True"
      ]
     },
     "execution_count": 29,
     "metadata": {},
     "output_type": "execute_result"
    }
   ],
   "source": [
    "# you can check if an item is part of the list (check for membership)\n",
    "\n",
    "'Raymond' in names"
   ]
  },
  {
   "cell_type": "code",
   "execution_count": 30,
   "id": "2dceaf78-fcfb-4a21-9906-c2ce241bd702",
   "metadata": {},
   "outputs": [
    {
     "data": {
      "text/plain": [
       "False"
      ]
     },
     "execution_count": 30,
     "metadata": {},
     "output_type": "execute_result"
    }
   ],
   "source": [
    "'Ebube' in names"
   ]
  },
  {
   "cell_type": "code",
   "execution_count": 35,
   "id": "8e2a392f-e5f9-4474-929a-37fde3301ee6",
   "metadata": {},
   "outputs": [
    {
     "name": "stdin",
     "output_type": "stream",
     "text": [
      "Enter the number of elements in the list: 3\n",
      "Enter the list element: 3\n",
      "Enter the list element: 3\n",
      "Enter the list element: 3\n"
     ]
    },
    {
     "name": "stdout",
     "output_type": "stream",
     "text": [
      "printing the list items..\n",
      "3  3  3  "
     ]
    }
   ],
   "source": [
    "###### Declaring the empty list    \n",
    "l =[]    \n",
    "#Number of elements will be entered by the user      \n",
    "n = int(input(\"Enter the number of elements in the list:\"))    \n",
    "# for loop to take the input    \n",
    "for i in range(0,n):       \n",
    "    # The input is taken from the user and added to the list as the item    \n",
    "    l.append(input(\"Enter the list element:\"))       \n",
    "print(\"printing the list items..\")     \n",
    "# traversal loop to print the list items      \n",
    "for i in l:     \n",
    "    print(i, end = \"  \")   \n",
    "    "
   ]
  },
  {
   "cell_type": "code",
   "execution_count": 34,
   "id": "c058e8db-50ea-46e7-a53f-62806ed70738",
   "metadata": {},
   "outputs": [
    {
     "name": "stdin",
     "output_type": "stream",
     "text": [
      "enter the number of names in the list: 2\n",
      "my name is godfry\n"
     ]
    },
    {
     "name": "stdout",
     "output_type": "stream",
     "text": [
      "number of names..\n",
      "2 3 godfry "
     ]
    },
    {
     "name": "stdin",
     "output_type": "stream",
     "text": [
      "my name is 4\n"
     ]
    },
    {
     "name": "stdout",
     "output_type": "stream",
     "text": [
      "number of names..\n",
      "2 3 godfry 4 "
     ]
    }
   ],
   "source": [
    "w=[2,3]\n",
    "d= int(input('enter the number of names in the list:'))\n",
    "for i in range(0,d):\n",
    "    w.append(input('my name is'))\n",
    "    print('number of names..')\n",
    "    for i in w :\n",
    "        print(i, end =\" \")"
   ]
  },
  {
   "cell_type": "code",
   "execution_count": 36,
   "id": "39f45901-6d67-4443-b913-0b0240d701b2",
   "metadata": {},
   "outputs": [
    {
     "data": {
      "text/plain": [
       "[1, 2, 3, 4, 20]"
      ]
     },
     "execution_count": 36,
     "metadata": {},
     "output_type": "execute_result"
    }
   ],
   "source": [
    "list\n",
    "\n"
   ]
  },
  {
   "cell_type": "code",
   "execution_count": 42,
   "id": "77b9b4ae-6f31-47ee-9925-8b0c719d783b",
   "metadata": {},
   "outputs": [
    {
     "name": "stdout",
     "output_type": "stream",
     "text": [
      "the sum is: 1\n",
      "the sum is: 3\n",
      "the sum is: 6\n",
      "the sum is: 10\n",
      "the sum is: 30\n"
     ]
    }
   ],
   "source": [
    "sum = 0\n",
    "for i in list:\n",
    "    sum=sum+i\n",
    "    print('the sum is:', sum)\n",
    "    "
   ]
  },
  {
   "cell_type": "code",
   "execution_count": 41,
   "id": "1dbfdf4b-8a0c-4ba9-a9a9-88404be808ff",
   "metadata": {},
   "outputs": [
    {
     "name": "stdout",
     "output_type": "stream",
     "text": [
      "[1]\n",
      "[1, 2]\n",
      "[1, 2, 3]\n",
      "[1, 2, 3, 4]\n",
      "[1, 2, 3, 4, 5]\n",
      "[1, 2, 3, 4, 5, 6]\n",
      "[1, 2, 3, 4, 5, 6, 7]\n",
      "[1, 2, 3, 4, 5, 6, 7, 8]\n",
      "[1, 2, 3, 4, 5, 6, 7, 8, 9]\n"
     ]
    }
   ],
   "source": [
    "# to deal with duplicate \n",
    "numbers =[1,1,2,2,3,3,4,4,5,5,6,6,7,7,8,8,9,9]\n",
    "figures=[]\n",
    "for i in numbers:\n",
    "     if i not in figures:\n",
    "            figures.append(i)\n",
    "            print(figures)\n"
   ]
  },
  {
   "cell_type": "markdown",
   "id": "80078d7e-f7dd-4378-ade4-67e341306962",
   "metadata": {},
   "source": []
  },
  {
   "cell_type": "markdown",
   "id": "91385775-15ae-4707-8165-a745cc84f3b0",
   "metadata": {},
   "source": [
    "# Tuples\n",
    "A Python Tuple is a group of items that are separated by commas. The indexing, nested objects, and repetitions of a tuple are somewhat like those of a list, however unlike a list, a tuple is immutable.\n",
    "\n",
    "The distinction between the two is that while we can edit the contents of a list, we cannot alter the elements of a tuple once they have been assigned.\n"
   ]
  },
  {
   "cell_type": "markdown",
   "id": "e29944d5-8e1b-4714-8e16-8edb2d20962f",
   "metadata": {},
   "source": [
    "# Features of Python Tuple\n",
    "Tuples are an immutable data type, which means that once they have been generated, their elements cannot be changed.\n",
    "Since tuples are ordered sequences, each element has a specific order that will never change.\n",
    "# Creating of Tuple:\n",
    "To create a tuple, all the objects (or \"elements\") must be enclosed in parenthesis (), each one separated by a comma. Although it is not necessary to include parentheses, doing so is advised.\n",
    "\n",
    "A tuple can contain any number of items, including ones with different data types (dictionary, string, float, list, etc.).\n",
    "\n",
    "\n",
    "\n"
   ]
  },
  {
   "cell_type": "code",
   "execution_count": 56,
   "id": "6a0c8f06-1a70-44f4-89b7-bf1de7ea0e12",
   "metadata": {},
   "outputs": [
    {
     "name": "stdout",
     "output_type": "stream",
     "text": [
      "Empty tuple:  ()\n",
      "Tuple with integers:  (4, 6, 8, 10, 12, 14)\n",
      "Tuple with different data types:  (4, 'Python', 9.3)\n",
      "A nested tuple:  ('Python', {4: 5, 6: 2, 8: 2}, (5, 3, 5, 6))\n"
     ]
    }
   ],
   "source": [
    "# Python program to show how to create a tuple    \n",
    "# Creating an empty tuple    \n",
    "empty_tuple = ()    \n",
    "print(\"Empty tuple: \", empty_tuple)    \n",
    "    \n",
    "# Creating tuple having integers    \n",
    "int_tuple = (4, 6, 8, 10, 12, 14)    \n",
    "print(\"Tuple with integers: \", int_tuple)    \n",
    "    \n",
    "# Creating a tuple having objects of different data types    \n",
    "mixed_tuple = (4, \"Python\", 9.3)    \n",
    "print(\"Tuple with different data types: \", mixed_tuple)    \n",
    "    \n",
    "# Creating a nested tuple    \n",
    "nested_tuple = (\"Python\", {4: 5, 6: 2, 8:2}, (5, 3, 5, 6))    \n",
    "print(\"A nested tuple: \", nested_tuple)    \n"
   ]
  },
  {
   "cell_type": "code",
   "execution_count": null,
   "id": "48171532-1071-4128-9237-9439f94cbc14",
   "metadata": {},
   "outputs": [],
   "source": []
  }
 ],
 "metadata": {
  "kernelspec": {
   "display_name": "Python 3 (ipykernel)",
   "language": "python",
   "name": "python3"
  },
  "language_info": {
   "codemirror_mode": {
    "name": "ipython",
    "version": 3
   },
   "file_extension": ".py",
   "mimetype": "text/x-python",
   "name": "python",
   "nbconvert_exporter": "python",
   "pygments_lexer": "ipython3",
   "version": "3.9.13"
  }
 },
 "nbformat": 4,
 "nbformat_minor": 5
}
