{
 "cells": [
  {
   "cell_type": "markdown",
   "id": "f88b9e5b-5528-4cff-8e25-b1e703d25d23",
   "metadata": {},
   "source": [
    "# Week 1: Day3- Loops and Iterations"
   ]
  },
  {
   "cell_type": "markdown",
   "id": "62f22afb-34a7-4f97-b37b-ca642fda6241",
   "metadata": {},
   "source": [
    "# Loops\n",
    "This is a statement that runs repeatedly as long as the condition is met. Once the condition proves otherwise, it stops that statement and move to the next."
   ]
  },
  {
   "cell_type": "code",
   "execution_count": 3,
   "id": "687d6910-43e5-487b-97a5-ce555a1ef784",
   "metadata": {},
   "outputs": [
    {
     "name": "stdout",
     "output_type": "stream",
     "text": [
      "5\n",
      "4\n",
      "blastoff\n",
      "4\n",
      "3\n",
      "blastoff\n",
      "3\n",
      "2\n",
      "blastoff\n",
      "2\n",
      "1\n",
      "blastoff\n",
      "1\n",
      "0\n",
      "blastoff\n"
     ]
    }
   ],
   "source": [
    "n=5\n",
    "while n > 0:\n",
    "    print(n)\n",
    "    n= n-1\n",
    "    print(n)\n",
    "    print('blastoff')"
   ]
  },
  {
   "cell_type": "markdown",
   "id": "4734b24a-9318-4d9c-84f9-94b8cb5680e0",
   "metadata": {},
   "source": [
    "# Counting in a Loop\n",
    "This is a loop where the computer counts string or integer or members (values) individually and give you the total number. For example;"
   ]
  },
  {
   "cell_type": "code",
   "execution_count": 5,
   "id": "0f170e49-be44-45e5-9a42-2d152b7f6941",
   "metadata": {},
   "outputs": [
    {
     "name": "stdout",
     "output_type": "stream",
     "text": [
      "Before 0\n",
      "1 9\n",
      "After 1\n",
      "2 41\n",
      "After 2\n",
      "3 12\n",
      "After 3\n",
      "4 3\n",
      "After 4\n",
      "5 74\n",
      "After 5\n",
      "6 15\n",
      "After 6\n"
     ]
    }
   ],
   "source": [
    "zork = 0\n",
    "print('Before', zork)\n",
    "for things in [9,41,12,3,74,15]:\n",
    "    zork += 1\n",
    "    print(zork, things)\n",
    "    print('After', zork)"
   ]
  },
  {
   "cell_type": "markdown",
   "id": "28c5feab-d01f-4103-b2cc-e0f8dec17a75",
   "metadata": {},
   "source": [
    "# Summing in a Loop and finding the average\n",
    "To add up a value we encounter in a loop, we introduce a sum variable that starts at 0 and we add the value to the sum each time through the loop. we can also find the average in a loop."
   ]
  },
  {
   "cell_type": "code",
   "execution_count": 8,
   "id": "f9e4ea72-7c1b-47e9-a1cb-de1a04aa5b70",
   "metadata": {},
   "outputs": [
    {
     "name": "stdout",
     "output_type": "stream",
     "text": [
      "Before 0 0\n",
      "count= 1 sum= 9 9\n",
      "After 1 9\n",
      "9.0\n",
      "count= 2 sum= 50 41\n",
      "After 2 50\n",
      "25.0\n",
      "count= 3 sum= 62 12\n",
      "After 3 62\n",
      "20.666666666666668\n",
      "count= 4 sum= 65 3\n",
      "After 4 65\n",
      "16.25\n",
      "count= 5 sum= 139 74\n",
      "After 5 139\n",
      "27.8\n",
      "count= 6 sum= 154 15\n",
      "After 6 154\n",
      "25.666666666666668\n"
     ]
    }
   ],
   "source": [
    "count = 0\n",
    "sum = 0\n",
    "print('Before', count, sum)\n",
    "for values in [9,41,12,3,74,15]:\n",
    "    count += 1\n",
    "    sum += values\n",
    "    print('count=',count,'sum=', sum, values)\n",
    "    print('After',count, sum)\n",
    "    print(sum/count)\n"
   ]
  },
  {
   "cell_type": "markdown",
   "id": "aaa0d7f1-29bf-43b9-a009-9dede7fbbf4f",
   "metadata": {},
   "source": [
    "# Filtering in a Loop\n",
    "We can use the if statement in the loop to catch/filter the value we are looking for. values can be anything, it could be list of names,numbers and so on."
   ]
  },
  {
   "cell_type": "code",
   "execution_count": 9,
   "id": "15487700-cf0a-43a9-8c67-af6bbfc0774f",
   "metadata": {},
   "outputs": [
    {
     "name": "stdout",
     "output_type": "stream",
     "text": [
      "large number 41\n",
      "after\n",
      "large number 74\n",
      "after\n"
     ]
    }
   ],
   "source": [
    "for value in [9,41,12,3,74,15]:\n",
    "    if value > 20:\n",
    "        print('large number', value)\n",
    "        print('after')"
   ]
  },
  {
   "cell_type": "markdown",
   "id": "21f70c51-9fad-41ee-a989-1437a7309f8f",
   "metadata": {},
   "source": [
    "# searching using a boolean variable\n",
    "If we just want to search and know if the value was found, we use a variable that starts at false and set it to true as soon as we find what we are looking for.\n",
    "Example;"
   ]
  },
  {
   "cell_type": "code",
   "execution_count": 13,
   "id": "d4632ba6-4d9f-4ae0-b7a2-5feedd9480b8",
   "metadata": {},
   "outputs": [
    {
     "name": "stdout",
     "output_type": "stream",
     "text": [
      "Before False\n",
      "True 3\n",
      "After True\n"
     ]
    }
   ],
   "source": [
    "found = False\n",
    "print('Before', found)\n",
    "for value in [9,41,12,3,74,15]:\n",
    "        if value == 3 : \n",
    "            found= True\n",
    "            print(found,value)\n",
    "            print('After',found)"
   ]
  },
  {
   "cell_type": "markdown",
   "id": "9c2cf79e-554a-4a6a-b2f5-96a750f5c858",
   "metadata": {},
   "source": [
    "The reason we set found to false initially is because we have not found 3 yet , it is only going to read true when it find 3, and if there is no statement or condition to set it back to false, it read true all through after 3 has been found."
   ]
  },
  {
   "cell_type": "markdown",
   "id": "3b45a70e-ee00-44d6-9c06-423b8ded4893",
   "metadata": {},
   "source": [
    "To look for the largest number, set the initial number as 0 or -1 or any number that is smaller that the smallest number in the set. Example;"
   ]
  },
  {
   "cell_type": "code",
   "execution_count": 15,
   "id": "2f9c71a7-9e8e-4469-975d-4199fa4c78df",
   "metadata": {},
   "outputs": [
    {
     "name": "stdout",
     "output_type": "stream",
     "text": [
      "Before 0\n",
      "9 9\n",
      "After 9\n",
      "41 41\n",
      "After 41\n",
      "74 74\n",
      "After 74\n"
     ]
    }
   ],
   "source": [
    "largest_so_far = 0 \n",
    "print('Before', largest_so_far)\n",
    "for the_num in [9,41,12,3,74,15]:\n",
    "    if the_num > largest_so_far:\n",
    "        largest_so_far = the_num\n",
    "        print(largest_so_far, the_num)\n",
    "        print('After', largest_so_far)\n",
    "    "
   ]
  },
  {
   "cell_type": "code",
   "execution_count": null,
   "id": "c3dbc2cb-98d7-4463-964e-750fb1ba3699",
   "metadata": {},
   "outputs": [],
   "source": [
    "To look fo the smallest number, one of the way to do that is to set the smallest so far to be bigger than the largest number in the set. example"
   ]
  },
  {
   "cell_type": "code",
   "execution_count": 17,
   "id": "29c170ad-9c85-4b0e-9d9a-5042f2847e46",
   "metadata": {},
   "outputs": [
    {
     "name": "stdout",
     "output_type": "stream",
     "text": [
      "Before 200\n",
      "9 9\n",
      "After 9\n",
      "3 3\n",
      "After 3\n"
     ]
    }
   ],
   "source": [
    "smallest_so_far = 200 \n",
    "print('Before', smallest_so_far)\n",
    "for the_num in [9,41,12,3,74,15]:\n",
    "    if the_num < smallest_so_far:\n",
    "        smallest_so_far = the_num\n",
    "        print(smallest_so_far, the_num)\n",
    "        print('After', smallest_so_far)\n",
    "    "
   ]
  },
  {
   "cell_type": "markdown",
   "id": "2a2a4aa3-357b-4fc9-a63e-55e899244e89",
   "metadata": {},
   "source": [
    "# while loop "
   ]
  }
 ],
 "metadata": {
  "kernelspec": {
   "display_name": "Python 3 (ipykernel)",
   "language": "python",
   "name": "python3"
  },
  "language_info": {
   "codemirror_mode": {
    "name": "ipython",
    "version": 3
   },
   "file_extension": ".py",
   "mimetype": "text/x-python",
   "name": "python",
   "nbconvert_exporter": "python",
   "pygments_lexer": "ipython3",
   "version": "3.9.13"
  }
 },
 "nbformat": 4,
 "nbformat_minor": 5
}
