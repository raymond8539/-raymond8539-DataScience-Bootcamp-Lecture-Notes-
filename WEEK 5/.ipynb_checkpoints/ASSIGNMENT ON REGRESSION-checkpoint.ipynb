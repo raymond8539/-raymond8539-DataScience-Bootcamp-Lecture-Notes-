{
 "cells": [
  {
   "cell_type": "markdown",
   "id": "7a805c2b-e46a-4dc6-9561-68f488481a5d",
   "metadata": {},
   "source": [
    "Based on the lesson, Linear Regression Analysis | Linear Regression in Python | Machine Learning Algorithms (36 mins) from Week 5: Day 3 on the LMS, predict the loss of 1000 companies. Use only two attributes (Product Development and Advertisement) in the dataset as independent variables. The Loss attribute in the dataset should be the dependent variable. Click here for dataset."
   ]
  },
  {
   "cell_type": "code",
   "execution_count": 27,
   "id": "0d0918a1-50ce-4fe3-a7ae-1b09ce43ac20",
   "metadata": {},
   "outputs": [],
   "source": [
    "# import libraries\n",
    "import numpy as np \n",
    "import pandas as pd\n",
    "import matplotlib.pyplot as plt\n",
    "import statsmodels.api as sm \n",
    "import seaborn as sns \n",
    "sns.set()\n",
    "from sklearn.linear_model import LinearRegression\n",
    "from sklearn.preprocessing import StandardScaler\n",
    "from sklearn.model_selection import train_test_split"
   ]
  },
  {
   "cell_type": "code",
   "execution_count": 28,
   "id": "21e6ce12-12d1-4db3-9447-35c297bf9d55",
   "metadata": {},
   "outputs": [],
   "source": [
    "# load the data \n",
    "data = pd.read_csv('1000_Companies_Loss.csv')"
   ]
  },
  {
   "cell_type": "code",
   "execution_count": 29,
   "id": "9915a2e5-7201-4ea6-993b-b01891e5c2e8",
   "metadata": {},
   "outputs": [
    {
     "data": {
      "text/html": [
       "<div>\n",
       "<style scoped>\n",
       "    .dataframe tbody tr th:only-of-type {\n",
       "        vertical-align: middle;\n",
       "    }\n",
       "\n",
       "    .dataframe tbody tr th {\n",
       "        vertical-align: top;\n",
       "    }\n",
       "\n",
       "    .dataframe thead th {\n",
       "        text-align: right;\n",
       "    }\n",
       "</style>\n",
       "<table border=\"1\" class=\"dataframe\">\n",
       "  <thead>\n",
       "    <tr style=\"text-align: right;\">\n",
       "      <th></th>\n",
       "      <th>R&amp;D Spend</th>\n",
       "      <th>Product Development</th>\n",
       "      <th>Administration</th>\n",
       "      <th>Marketing Spend</th>\n",
       "      <th>Advertisement</th>\n",
       "      <th>State</th>\n",
       "      <th>Profit</th>\n",
       "      <th>Loss</th>\n",
       "    </tr>\n",
       "  </thead>\n",
       "  <tbody>\n",
       "    <tr>\n",
       "      <th>0</th>\n",
       "      <td>165349.20</td>\n",
       "      <td>82674.60</td>\n",
       "      <td>136897.800</td>\n",
       "      <td>471784.1000</td>\n",
       "      <td>78630.68</td>\n",
       "      <td>New York</td>\n",
       "      <td>192261.83000</td>\n",
       "      <td>1.922618e+04</td>\n",
       "    </tr>\n",
       "    <tr>\n",
       "      <th>1</th>\n",
       "      <td>162597.70</td>\n",
       "      <td>81298.85</td>\n",
       "      <td>151377.590</td>\n",
       "      <td>443898.5300</td>\n",
       "      <td>73983.09</td>\n",
       "      <td>California</td>\n",
       "      <td>191792.06000</td>\n",
       "      <td>1.917921e+04</td>\n",
       "    </tr>\n",
       "    <tr>\n",
       "      <th>2</th>\n",
       "      <td>153441.51</td>\n",
       "      <td>76720.76</td>\n",
       "      <td>101145.550</td>\n",
       "      <td>407934.5400</td>\n",
       "      <td>67989.09</td>\n",
       "      <td>Florida</td>\n",
       "      <td>191050.39000</td>\n",
       "      <td>1.910504e+04</td>\n",
       "    </tr>\n",
       "    <tr>\n",
       "      <th>3</th>\n",
       "      <td>144372.41</td>\n",
       "      <td>72186.21</td>\n",
       "      <td>118671.850</td>\n",
       "      <td>383199.6200</td>\n",
       "      <td>63866.60</td>\n",
       "      <td>New York</td>\n",
       "      <td>182901.99000</td>\n",
       "      <td>1.829020e+04</td>\n",
       "    </tr>\n",
       "    <tr>\n",
       "      <th>4</th>\n",
       "      <td>142107.34</td>\n",
       "      <td>71053.67</td>\n",
       "      <td>91391.770</td>\n",
       "      <td>366168.4200</td>\n",
       "      <td>61028.07</td>\n",
       "      <td>Florida</td>\n",
       "      <td>166187.94000</td>\n",
       "      <td>1.661879e+04</td>\n",
       "    </tr>\n",
       "    <tr>\n",
       "      <th>...</th>\n",
       "      <td>...</td>\n",
       "      <td>...</td>\n",
       "      <td>...</td>\n",
       "      <td>...</td>\n",
       "      <td>...</td>\n",
       "      <td>...</td>\n",
       "      <td>...</td>\n",
       "      <td>...</td>\n",
       "    </tr>\n",
       "    <tr>\n",
       "      <th>995</th>\n",
       "      <td>54135.00</td>\n",
       "      <td>5413500.00</td>\n",
       "      <td>118451.999</td>\n",
       "      <td>173232.6695</td>\n",
       "      <td>1732326.70</td>\n",
       "      <td>California</td>\n",
       "      <td>95279.96251</td>\n",
       "      <td>9.527996e+07</td>\n",
       "    </tr>\n",
       "    <tr>\n",
       "      <th>996</th>\n",
       "      <td>134970.00</td>\n",
       "      <td>13497000.00</td>\n",
       "      <td>130390.080</td>\n",
       "      <td>329204.0228</td>\n",
       "      <td>3292040.23</td>\n",
       "      <td>California</td>\n",
       "      <td>164336.60550</td>\n",
       "      <td>1.643366e+08</td>\n",
       "    </tr>\n",
       "    <tr>\n",
       "      <th>997</th>\n",
       "      <td>100275.47</td>\n",
       "      <td>10027547.00</td>\n",
       "      <td>241926.310</td>\n",
       "      <td>227142.8200</td>\n",
       "      <td>2271428.20</td>\n",
       "      <td>California</td>\n",
       "      <td>413956.48000</td>\n",
       "      <td>4.139565e+08</td>\n",
       "    </tr>\n",
       "    <tr>\n",
       "      <th>998</th>\n",
       "      <td>128456.23</td>\n",
       "      <td>12845623.00</td>\n",
       "      <td>321652.140</td>\n",
       "      <td>281692.3200</td>\n",
       "      <td>2816923.20</td>\n",
       "      <td>California</td>\n",
       "      <td>333962.19000</td>\n",
       "      <td>3.339622e+08</td>\n",
       "    </tr>\n",
       "    <tr>\n",
       "      <th>999</th>\n",
       "      <td>161181.72</td>\n",
       "      <td>16118172.00</td>\n",
       "      <td>270939.860</td>\n",
       "      <td>295442.1700</td>\n",
       "      <td>2954421.70</td>\n",
       "      <td>New York</td>\n",
       "      <td>476485.43000</td>\n",
       "      <td>4.764854e+08</td>\n",
       "    </tr>\n",
       "  </tbody>\n",
       "</table>\n",
       "<p>1000 rows × 8 columns</p>\n",
       "</div>"
      ],
      "text/plain": [
       "     R&D Spend  Product Development  Administration  Marketing Spend  \\\n",
       "0    165349.20             82674.60      136897.800      471784.1000   \n",
       "1    162597.70             81298.85      151377.590      443898.5300   \n",
       "2    153441.51             76720.76      101145.550      407934.5400   \n",
       "3    144372.41             72186.21      118671.850      383199.6200   \n",
       "4    142107.34             71053.67       91391.770      366168.4200   \n",
       "..         ...                  ...             ...              ...   \n",
       "995   54135.00           5413500.00      118451.999      173232.6695   \n",
       "996  134970.00          13497000.00      130390.080      329204.0228   \n",
       "997  100275.47          10027547.00      241926.310      227142.8200   \n",
       "998  128456.23          12845623.00      321652.140      281692.3200   \n",
       "999  161181.72          16118172.00      270939.860      295442.1700   \n",
       "\n",
       "     Advertisement       State        Profit          Loss  \n",
       "0         78630.68    New York  192261.83000  1.922618e+04  \n",
       "1         73983.09  California  191792.06000  1.917921e+04  \n",
       "2         67989.09     Florida  191050.39000  1.910504e+04  \n",
       "3         63866.60    New York  182901.99000  1.829020e+04  \n",
       "4         61028.07     Florida  166187.94000  1.661879e+04  \n",
       "..             ...         ...           ...           ...  \n",
       "995     1732326.70  California   95279.96251  9.527996e+07  \n",
       "996     3292040.23  California  164336.60550  1.643366e+08  \n",
       "997     2271428.20  California  413956.48000  4.139565e+08  \n",
       "998     2816923.20  California  333962.19000  3.339622e+08  \n",
       "999     2954421.70    New York  476485.43000  4.764854e+08  \n",
       "\n",
       "[1000 rows x 8 columns]"
      ]
     },
     "execution_count": 29,
     "metadata": {},
     "output_type": "execute_result"
    }
   ],
   "source": [
    "data"
   ]
  },
  {
   "cell_type": "code",
   "execution_count": 30,
   "id": "c6a1edeb-e6c8-4093-964f-48017d58ac39",
   "metadata": {},
   "outputs": [],
   "source": [
    "ladata = data[['Product Development','Advertisement','Loss']]"
   ]
  },
  {
   "cell_type": "code",
   "execution_count": 31,
   "id": "8abc9520-c11c-49b9-9412-a436647ca789",
   "metadata": {},
   "outputs": [
    {
     "data": {
      "text/html": [
       "<div>\n",
       "<style scoped>\n",
       "    .dataframe tbody tr th:only-of-type {\n",
       "        vertical-align: middle;\n",
       "    }\n",
       "\n",
       "    .dataframe tbody tr th {\n",
       "        vertical-align: top;\n",
       "    }\n",
       "\n",
       "    .dataframe thead th {\n",
       "        text-align: right;\n",
       "    }\n",
       "</style>\n",
       "<table border=\"1\" class=\"dataframe\">\n",
       "  <thead>\n",
       "    <tr style=\"text-align: right;\">\n",
       "      <th></th>\n",
       "      <th>Product Development</th>\n",
       "      <th>Advertisement</th>\n",
       "      <th>Loss</th>\n",
       "    </tr>\n",
       "  </thead>\n",
       "  <tbody>\n",
       "    <tr>\n",
       "      <th>0</th>\n",
       "      <td>82674.60</td>\n",
       "      <td>78630.68</td>\n",
       "      <td>1.922618e+04</td>\n",
       "    </tr>\n",
       "    <tr>\n",
       "      <th>1</th>\n",
       "      <td>81298.85</td>\n",
       "      <td>73983.09</td>\n",
       "      <td>1.917921e+04</td>\n",
       "    </tr>\n",
       "    <tr>\n",
       "      <th>2</th>\n",
       "      <td>76720.76</td>\n",
       "      <td>67989.09</td>\n",
       "      <td>1.910504e+04</td>\n",
       "    </tr>\n",
       "    <tr>\n",
       "      <th>3</th>\n",
       "      <td>72186.21</td>\n",
       "      <td>63866.60</td>\n",
       "      <td>1.829020e+04</td>\n",
       "    </tr>\n",
       "    <tr>\n",
       "      <th>4</th>\n",
       "      <td>71053.67</td>\n",
       "      <td>61028.07</td>\n",
       "      <td>1.661879e+04</td>\n",
       "    </tr>\n",
       "    <tr>\n",
       "      <th>...</th>\n",
       "      <td>...</td>\n",
       "      <td>...</td>\n",
       "      <td>...</td>\n",
       "    </tr>\n",
       "    <tr>\n",
       "      <th>995</th>\n",
       "      <td>5413500.00</td>\n",
       "      <td>1732326.70</td>\n",
       "      <td>9.527996e+07</td>\n",
       "    </tr>\n",
       "    <tr>\n",
       "      <th>996</th>\n",
       "      <td>13497000.00</td>\n",
       "      <td>3292040.23</td>\n",
       "      <td>1.643366e+08</td>\n",
       "    </tr>\n",
       "    <tr>\n",
       "      <th>997</th>\n",
       "      <td>10027547.00</td>\n",
       "      <td>2271428.20</td>\n",
       "      <td>4.139565e+08</td>\n",
       "    </tr>\n",
       "    <tr>\n",
       "      <th>998</th>\n",
       "      <td>12845623.00</td>\n",
       "      <td>2816923.20</td>\n",
       "      <td>3.339622e+08</td>\n",
       "    </tr>\n",
       "    <tr>\n",
       "      <th>999</th>\n",
       "      <td>16118172.00</td>\n",
       "      <td>2954421.70</td>\n",
       "      <td>4.764854e+08</td>\n",
       "    </tr>\n",
       "  </tbody>\n",
       "</table>\n",
       "<p>1000 rows × 3 columns</p>\n",
       "</div>"
      ],
      "text/plain": [
       "     Product Development  Advertisement          Loss\n",
       "0               82674.60       78630.68  1.922618e+04\n",
       "1               81298.85       73983.09  1.917921e+04\n",
       "2               76720.76       67989.09  1.910504e+04\n",
       "3               72186.21       63866.60  1.829020e+04\n",
       "4               71053.67       61028.07  1.661879e+04\n",
       "..                   ...            ...           ...\n",
       "995           5413500.00     1732326.70  9.527996e+07\n",
       "996          13497000.00     3292040.23  1.643366e+08\n",
       "997          10027547.00     2271428.20  4.139565e+08\n",
       "998          12845623.00     2816923.20  3.339622e+08\n",
       "999          16118172.00     2954421.70  4.764854e+08\n",
       "\n",
       "[1000 rows x 3 columns]"
      ]
     },
     "execution_count": 31,
     "metadata": {},
     "output_type": "execute_result"
    }
   ],
   "source": [
    "ladata"
   ]
  },
  {
   "cell_type": "code",
   "execution_count": 32,
   "id": "71323206-a6a0-4a9a-9ef1-d300eabbe2b0",
   "metadata": {},
   "outputs": [],
   "source": [
    "# declaring the dependent and independent variables\n",
    "x = ladata[['Product Development','Advertisement']]\n",
    "y = ladata['Loss']"
   ]
  },
  {
   "cell_type": "code",
   "execution_count": 33,
   "id": "257441c9-aca7-4e0d-b056-9324085d120f",
   "metadata": {},
   "outputs": [
    {
     "data": {
      "text/plain": [
       "(1000, 2)"
      ]
     },
     "execution_count": 33,
     "metadata": {},
     "output_type": "execute_result"
    }
   ],
   "source": [
    "x.shape"
   ]
  },
  {
   "cell_type": "code",
   "execution_count": 34,
   "id": "00ac1161-c572-425a-907d-1f1d6fff9258",
   "metadata": {},
   "outputs": [
    {
     "data": {
      "text/plain": [
       "(1000,)"
      ]
     },
     "execution_count": 34,
     "metadata": {},
     "output_type": "execute_result"
    }
   ],
   "source": [
    "y.shape"
   ]
  },
  {
   "cell_type": "code",
   "execution_count": 35,
   "id": "d4efbba1-318f-4f56-add1-cac61910b928",
   "metadata": {},
   "outputs": [],
   "source": [
    "x_=sm.add_constant(x)"
   ]
  },
  {
   "cell_type": "code",
   "execution_count": 36,
   "id": "f4f04ee3-d1e1-480a-ad6d-b41027f45c9d",
   "metadata": {},
   "outputs": [],
   "source": [
    "results = sm.OLS(y,x_).fit()"
   ]
  },
  {
   "cell_type": "code",
   "execution_count": 37,
   "id": "2b299b1c-e26d-4766-9ad7-d824a89d5a82",
   "metadata": {},
   "outputs": [
    {
     "data": {
      "text/html": [
       "<table class=\"simpletable\">\n",
       "<caption>OLS Regression Results</caption>\n",
       "<tr>\n",
       "  <th>Dep. Variable:</th>          <td>Loss</td>       <th>  R-squared:         </th> <td>   0.842</td> \n",
       "</tr>\n",
       "<tr>\n",
       "  <th>Model:</th>                   <td>OLS</td>       <th>  Adj. R-squared:    </th> <td>   0.842</td> \n",
       "</tr>\n",
       "<tr>\n",
       "  <th>Method:</th>             <td>Least Squares</td>  <th>  F-statistic:       </th> <td>   2664.</td> \n",
       "</tr>\n",
       "<tr>\n",
       "  <th>Date:</th>             <td>Sat, 27 May 2023</td> <th>  Prob (F-statistic):</th>  <td>  0.00</td>  \n",
       "</tr>\n",
       "<tr>\n",
       "  <th>Time:</th>                 <td>00:03:44</td>     <th>  Log-Likelihood:    </th> <td> -18408.</td> \n",
       "</tr>\n",
       "<tr>\n",
       "  <th>No. Observations:</th>      <td>  1000</td>      <th>  AIC:               </th> <td>3.682e+04</td>\n",
       "</tr>\n",
       "<tr>\n",
       "  <th>Df Residuals:</th>          <td>   997</td>      <th>  BIC:               </th> <td>3.684e+04</td>\n",
       "</tr>\n",
       "<tr>\n",
       "  <th>Df Model:</th>              <td>     2</td>      <th>                     </th>     <td> </td>    \n",
       "</tr>\n",
       "<tr>\n",
       "  <th>Covariance Type:</th>      <td>nonrobust</td>    <th>                     </th>     <td> </td>    \n",
       "</tr>\n",
       "</table>\n",
       "<table class=\"simpletable\">\n",
       "<tr>\n",
       "           <td></td>              <th>coef</th>     <th>std err</th>      <th>t</th>      <th>P>|t|</th>  <th>[0.025</th>    <th>0.975]</th>  \n",
       "</tr>\n",
       "<tr>\n",
       "  <th>const</th>               <td>  6.18e+06</td> <td> 8.47e+05</td> <td>    7.300</td> <td> 0.000</td> <td> 4.52e+06</td> <td> 7.84e+06</td>\n",
       "</tr>\n",
       "<tr>\n",
       "  <th>Product Development</th> <td>   13.8588</td> <td>    0.409</td> <td>   33.897</td> <td> 0.000</td> <td>   13.056</td> <td>   14.661</td>\n",
       "</tr>\n",
       "<tr>\n",
       "  <th>Advertisement</th>       <td>   -0.4175</td> <td>    0.173</td> <td>   -2.417</td> <td> 0.016</td> <td>   -0.756</td> <td>   -0.079</td>\n",
       "</tr>\n",
       "</table>\n",
       "<table class=\"simpletable\">\n",
       "<tr>\n",
       "  <th>Omnibus:</th>       <td>1056.831</td> <th>  Durbin-Watson:     </th> <td>   0.691</td> \n",
       "</tr>\n",
       "<tr>\n",
       "  <th>Prob(Omnibus):</th>  <td> 0.000</td>  <th>  Jarque-Bera (JB):  </th> <td>62954.664</td>\n",
       "</tr>\n",
       "<tr>\n",
       "  <th>Skew:</th>           <td> 5.077</td>  <th>  Prob(JB):          </th> <td>    0.00</td> \n",
       "</tr>\n",
       "<tr>\n",
       "  <th>Kurtosis:</th>       <td>40.521</td>  <th>  Cond. No.          </th> <td>1.34e+07</td> \n",
       "</tr>\n",
       "</table><br/><br/>Notes:<br/>[1] Standard Errors assume that the covariance matrix of the errors is correctly specified.<br/>[2] The condition number is large, 1.34e+07. This might indicate that there are<br/>strong multicollinearity or other numerical problems."
      ],
      "text/plain": [
       "<class 'statsmodels.iolib.summary.Summary'>\n",
       "\"\"\"\n",
       "                            OLS Regression Results                            \n",
       "==============================================================================\n",
       "Dep. Variable:                   Loss   R-squared:                       0.842\n",
       "Model:                            OLS   Adj. R-squared:                  0.842\n",
       "Method:                 Least Squares   F-statistic:                     2664.\n",
       "Date:                Sat, 27 May 2023   Prob (F-statistic):               0.00\n",
       "Time:                        00:03:44   Log-Likelihood:                -18408.\n",
       "No. Observations:                1000   AIC:                         3.682e+04\n",
       "Df Residuals:                     997   BIC:                         3.684e+04\n",
       "Df Model:                           2                                         \n",
       "Covariance Type:            nonrobust                                         \n",
       "=======================================================================================\n",
       "                          coef    std err          t      P>|t|      [0.025      0.975]\n",
       "---------------------------------------------------------------------------------------\n",
       "const                 6.18e+06   8.47e+05      7.300      0.000    4.52e+06    7.84e+06\n",
       "Product Development    13.8588      0.409     33.897      0.000      13.056      14.661\n",
       "Advertisement          -0.4175      0.173     -2.417      0.016      -0.756      -0.079\n",
       "==============================================================================\n",
       "Omnibus:                     1056.831   Durbin-Watson:                   0.691\n",
       "Prob(Omnibus):                  0.000   Jarque-Bera (JB):            62954.664\n",
       "Skew:                           5.077   Prob(JB):                         0.00\n",
       "Kurtosis:                      40.521   Cond. No.                     1.34e+07\n",
       "==============================================================================\n",
       "\n",
       "Notes:\n",
       "[1] Standard Errors assume that the covariance matrix of the errors is correctly specified.\n",
       "[2] The condition number is large, 1.34e+07. This might indicate that there are\n",
       "strong multicollinearity or other numerical problems.\n",
       "\"\"\""
      ]
     },
     "execution_count": 37,
     "metadata": {},
     "output_type": "execute_result"
    }
   ],
   "source": [
    "results.summary()"
   ]
  },
  {
   "cell_type": "code",
   "execution_count": 38,
   "id": "8c48374b-0909-48f1-b63c-f5707911a160",
   "metadata": {},
   "outputs": [],
   "source": [
    "reg = LinearRegression().fit(x,y)"
   ]
  },
  {
   "cell_type": "code",
   "execution_count": 40,
   "id": "e1ae3510-9774-443c-a1cf-f4c16e77d224",
   "metadata": {},
   "outputs": [
    {
     "data": {
      "text/plain": [
       "0.8423829190759519"
      ]
     },
     "execution_count": 40,
     "metadata": {},
     "output_type": "execute_result"
    }
   ],
   "source": [
    "reg.score(x,y)"
   ]
  },
  {
   "cell_type": "code",
   "execution_count": 41,
   "id": "21e5db72-1209-45ae-9350-788929743b31",
   "metadata": {},
   "outputs": [
    {
     "data": {
      "text/plain": [
       "array([13.85878362, -0.41749632])"
      ]
     },
     "execution_count": 41,
     "metadata": {},
     "output_type": "execute_result"
    }
   ],
   "source": [
    "reg.coef_"
   ]
  },
  {
   "cell_type": "code",
   "execution_count": 21,
   "id": "7f51a60d-fc9d-431c-95b3-69bb4670276b",
   "metadata": {},
   "outputs": [],
   "source": [
    "predictions= pd.DataFrame(reg.predict(x),columns=['predictions'])"
   ]
  },
  {
   "cell_type": "code",
   "execution_count": 22,
   "id": "40ada8df-1888-4da4-81ff-403f901d16f2",
   "metadata": {},
   "outputs": [
    {
     "data": {
      "text/html": [
       "<div>\n",
       "<style scoped>\n",
       "    .dataframe tbody tr th:only-of-type {\n",
       "        vertical-align: middle;\n",
       "    }\n",
       "\n",
       "    .dataframe tbody tr th {\n",
       "        vertical-align: top;\n",
       "    }\n",
       "\n",
       "    .dataframe thead th {\n",
       "        text-align: right;\n",
       "    }\n",
       "</style>\n",
       "<table border=\"1\" class=\"dataframe\">\n",
       "  <thead>\n",
       "    <tr style=\"text-align: right;\">\n",
       "      <th></th>\n",
       "      <th>predictions</th>\n",
       "    </tr>\n",
       "  </thead>\n",
       "  <tbody>\n",
       "    <tr>\n",
       "      <th>0</th>\n",
       "      <td>7.292574e+06</td>\n",
       "    </tr>\n",
       "    <tr>\n",
       "      <th>1</th>\n",
       "      <td>7.275449e+06</td>\n",
       "    </tr>\n",
       "    <tr>\n",
       "      <th>2</th>\n",
       "      <td>7.214504e+06</td>\n",
       "    </tr>\n",
       "    <tr>\n",
       "      <th>3</th>\n",
       "      <td>7.153382e+06</td>\n",
       "    </tr>\n",
       "    <tr>\n",
       "      <th>4</th>\n",
       "      <td>7.138871e+06</td>\n",
       "    </tr>\n",
       "    <tr>\n",
       "      <th>...</th>\n",
       "      <td>...</td>\n",
       "    </tr>\n",
       "    <tr>\n",
       "      <th>995</th>\n",
       "      <td>8.048092e+07</td>\n",
       "    </tr>\n",
       "    <tr>\n",
       "      <th>996</th>\n",
       "      <td>1.918572e+08</td>\n",
       "    </tr>\n",
       "    <tr>\n",
       "      <th>997</th>\n",
       "      <td>1.442009e+08</td>\n",
       "    </tr>\n",
       "    <tr>\n",
       "      <th>998</th>\n",
       "      <td>1.830283e+08</td>\n",
       "    </tr>\n",
       "    <tr>\n",
       "      <th>999</th>\n",
       "      <td>2.283244e+08</td>\n",
       "    </tr>\n",
       "  </tbody>\n",
       "</table>\n",
       "<p>1000 rows × 1 columns</p>\n",
       "</div>"
      ],
      "text/plain": [
       "      predictions\n",
       "0    7.292574e+06\n",
       "1    7.275449e+06\n",
       "2    7.214504e+06\n",
       "3    7.153382e+06\n",
       "4    7.138871e+06\n",
       "..            ...\n",
       "995  8.048092e+07\n",
       "996  1.918572e+08\n",
       "997  1.442009e+08\n",
       "998  1.830283e+08\n",
       "999  2.283244e+08\n",
       "\n",
       "[1000 rows x 1 columns]"
      ]
     },
     "execution_count": 22,
     "metadata": {},
     "output_type": "execute_result"
    }
   ],
   "source": [
    "predictions"
   ]
  },
  {
   "cell_type": "code",
   "execution_count": 50,
   "id": "7cd28cf0-ad8e-4799-95a9-8aac4f298458",
   "metadata": {},
   "outputs": [
    {
     "data": {
      "image/png": "[encoded data removed]",
      "text/plain": [
       "<Figure size 640x480 with 1 Axes>"
      ]
     },
     "metadata": {},
     "output_type": "display_data"
    }
   ],
   "source": [
    "plt.scatter(data['Product Development'],y)\n",
    "plt.ylabel('Loss', fontsize=20)\n",
    "plt.xlabel('Product Development')\n",
    "yhat = 13.8588*data['Advertisement'] + 6180000\n",
    "fig = plt.plot(data['Advertisement'],yhat, c = 'black')"
   ]
  },
  {
   "cell_type": "code",
   "execution_count": null,
   "id": "22cdf521-2b6d-43dc-a216-590516e05043",
   "metadata": {},
   "outputs": [],
   "source": []
  }
 ],
 "metadata": {
  "kernelspec": {
   "display_name": "Python 3 (ipykernel)",
   "language": "python",
   "name": "python3"
  },
  "language_info": {
   "codemirror_mode": {
    "name": "ipython",
    "version": 3
   },
   "file_extension": ".py",
   "mimetype": "text/x-python",
   "name": "python",
   "nbconvert_exporter": "python",
   "pygments_lexer": "ipython3",
   "version": "3.9.13"
  }
 },
 "nbformat": 4,
 "nbformat_minor": 5
}
