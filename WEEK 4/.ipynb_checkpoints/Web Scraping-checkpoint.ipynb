{
 "cells": [
  {
   "cell_type": "markdown",
   "id": "8d0b70b7-9883-4673-af7f-b6f0772223a8",
   "metadata": {},
   "source": [
    "# Web Scraping\n",
    "Web scraping is the process of collecting and parsing raw data from the Web, and the Python community has come up with some pretty powerful web scraping tools."
   ]
  },
  {
   "cell_type": "code",
   "execution_count": 15,
   "id": "c7dc5349-2a7b-49b0-8c80-fbeae6e4917c",
   "metadata": {},
   "outputs": [],
   "source": [
    "from bs4 import BeautifulSoup as bs\n",
    "import requests "
   ]
  },
  {
   "cell_type": "code",
   "execution_count": 16,
   "id": "b54ce512-9664-45d5-9145-ca460e4b02b7",
   "metadata": {},
   "outputs": [],
   "source": [
    "link = 'https://www.amazon.in/OnePlus-Mirror-Black-128GB-Storage/product-reviews/B07DJHV6VZ/ref=cm_cr_dp_d_show_all_btm?ie=UTF8&reviewerType=all_reviews'"
   ]
  },
  {
   "cell_type": "code",
   "execution_count": 17,
   "id": "17fe1bec-c7e5-4594-bc9b-7f0d85b909ff",
   "metadata": {},
   "outputs": [],
   "source": [
    "page = requests.get(link)"
   ]
  },
  {
   "cell_type": "code",
   "execution_count": 18,
   "id": "388a7d2a-6faf-4d92-8890-f3b8f759c953",
   "metadata": {},
   "outputs": [
    {
     "data": {
      "text/plain": [
       "<Response [200]>"
      ]
     },
     "execution_count": 18,
     "metadata": {},
     "output_type": "execute_result"
    }
   ],
   "source": [
    "page"
   ]
  },
  {
   "cell_type": "code",
   "execution_count": 20,
   "id": "0f010b8c-206b-48fa-8423-169a68e598a0",
   "metadata": {},
   "outputs": [],
   "source": [
    "#page.content"
   ]
  },
  {
   "cell_type": "code",
   "execution_count": 22,
   "id": "b5030b67-1a2e-4f8a-aecf-efcafe21e2f5",
   "metadata": {},
   "outputs": [],
   "source": [
    "soup = bs(page.content, 'html.parser')\n",
    "#print(soup.prettify())"
   ]
  },
  {
   "cell_type": "code",
   "execution_count": 23,
   "id": "a038ca3e-45f9-4da3-be86-8e9c254cffde",
   "metadata": {},
   "outputs": [],
   "source": [
    "names =soup.find_all('span', class_='a-profile-name')"
   ]
  },
  {
   "cell_type": "code",
   "execution_count": 25,
   "id": "154e65c3-5172-4a00-a422-a22fe1748bc8",
   "metadata": {},
   "outputs": [
    {
     "data": {
      "text/plain": [
       "[<span class=\"a-profile-name\">alimpan pal.</span>,\n",
       " <span class=\"a-profile-name\">Amazon Customer</span>,\n",
       " <span class=\"a-profile-name\">alimpan pal.</span>,\n",
       " <span class=\"a-profile-name\">alimpan pal.</span>,\n",
       " <span class=\"a-profile-name\">Divya Kothari</span>,\n",
       " <span class=\"a-profile-name\">Divya Kothari</span>,\n",
       " <span class=\"a-profile-name\">Arun kumar T.A</span>,\n",
       " <span class=\"a-profile-name\">Arun kumar T.A</span>,\n",
       " <span class=\"a-profile-name\">Aayush Patil</span>,\n",
       " <span class=\"a-profile-name\">Aayush Patil</span>,\n",
       " <span class=\"a-profile-name\">Kartik Kumar Agarwal</span>,\n",
       " <span class=\"a-profile-name\">Vijay</span>,\n",
       " <span class=\"a-profile-name\">CHANDAN CHOUDHURY</span>,\n",
       " <span class=\"a-profile-name\">CHANDAN CHOUDHURY</span>,\n",
       " <span class=\"a-profile-name\">Krishna Kumar</span>,\n",
       " <span class=\"a-profile-name\">Abhishek Baghel</span>,\n",
       " <span class=\"a-profile-name\">Abhishek Baghel</span>,\n",
       " <span class=\"a-profile-name\">Ashish Singh</span>]"
      ]
     },
     "execution_count": 25,
     "metadata": {},
     "output_type": "execute_result"
    }
   ],
   "source": [
    "names"
   ]
  },
  {
   "cell_type": "code",
   "execution_count": 26,
   "id": "a8990189-1a3f-410a-9bf7-20f4c6a701a0",
   "metadata": {},
   "outputs": [],
   "source": [
    "cust_name=[]\n",
    "for i in range(0,len(names)):\n",
    "    cust_name.append(names[i].get_text())"
   ]
  },
  {
   "cell_type": "code",
   "execution_count": 27,
   "id": "a443a78e-39c5-4dc4-8f06-645a843925be",
   "metadata": {},
   "outputs": [
    {
     "data": {
      "text/plain": [
       "['alimpan pal.',\n",
       " 'Amazon Customer',\n",
       " 'alimpan pal.',\n",
       " 'alimpan pal.',\n",
       " 'Divya Kothari',\n",
       " 'Divya Kothari',\n",
       " 'Arun kumar T.A',\n",
       " 'Arun kumar T.A',\n",
       " 'Aayush Patil',\n",
       " 'Aayush Patil',\n",
       " 'Kartik Kumar Agarwal',\n",
       " 'Vijay',\n",
       " 'CHANDAN CHOUDHURY',\n",
       " 'CHANDAN CHOUDHURY',\n",
       " 'Krishna Kumar',\n",
       " 'Abhishek Baghel',\n",
       " 'Abhishek Baghel',\n",
       " 'Ashish Singh']"
      ]
     },
     "execution_count": 27,
     "metadata": {},
     "output_type": "execute_result"
    }
   ],
   "source": [
    "cust_name"
   ]
  },
  {
   "cell_type": "code",
   "execution_count": 28,
   "id": "bf9e0925-e999-4a29-b7a5-39927176d950",
   "metadata": {},
   "outputs": [],
   "source": [
    "customer_name = []\n",
    "for i in cust_name:\n",
    "    if i not in customer_name:\n",
    "        customer_name.append(i)\n"
   ]
  },
  {
   "cell_type": "code",
   "execution_count": 52,
   "id": "b6f0aa68-d21b-4a74-9cc1-6609914eb897",
   "metadata": {},
   "outputs": [
    {
     "data": {
      "text/plain": [
       "['alimpan pal.',\n",
       " 'Amazon Customer',\n",
       " 'Divya Kothari',\n",
       " 'Arun kumar T.A',\n",
       " 'Aayush Patil',\n",
       " 'Kartik Kumar Agarwal',\n",
       " 'Vijay',\n",
       " 'CHANDAN CHOUDHURY',\n",
       " 'Krishna Kumar',\n",
       " 'Abhishek Baghel',\n",
       " 'Ashish Singh']"
      ]
     },
     "execution_count": 52,
     "metadata": {},
     "output_type": "execute_result"
    }
   ],
   "source": [
    "customer_name"
   ]
  },
  {
   "cell_type": "code",
   "execution_count": 57,
   "id": "1ea3f2e9-7763-4f3c-8216-4d3e6fe52613",
   "metadata": {},
   "outputs": [
    {
     "data": {
      "text/plain": [
       "['alimpan pal.',\n",
       " 'Divya Kothari',\n",
       " 'Arun kumar T.A',\n",
       " 'Aayush Patil',\n",
       " 'Kartik Kumar Agarwal',\n",
       " 'Vijay',\n",
       " 'CHANDAN CHOUDHURY',\n",
       " 'Krishna Kumar',\n",
       " 'Abhishek Baghel',\n",
       " 'Ashish Singh']"
      ]
     },
     "execution_count": 57,
     "metadata": {},
     "output_type": "execute_result"
    }
   ],
   "source": [
    "customer_name\n"
   ]
  },
  {
   "cell_type": "code",
   "execution_count": 38,
   "id": "c05c89c9-6d5b-483b-90da-2d362f33d82c",
   "metadata": {},
   "outputs": [],
   "source": [
    "title = soup.find_all('a', class_='a-size-base a-link-normal review-title a-color-base review-title-content a-text-bold')\n"
   ]
  },
  {
   "cell_type": "code",
   "execution_count": 39,
   "id": "eeaad63f-4965-4ccb-a18b-6219971101d1",
   "metadata": {},
   "outputs": [
    {
     "data": {
      "text/plain": [
       "[<a class=\"a-size-base a-link-normal review-title a-color-base review-title-content a-text-bold\" data-hook=\"review-title\" href=\"/gp/customer-reviews/R2KKIWE3QR0EWE?ASIN=B07DJHV6VZ\">\n",
       " <span>IS THIS IT FINALLY? SLOW FINGERPRINT SCANNER?</span>\n",
       " </a>,\n",
       " <a class=\"a-size-base a-link-normal review-title a-color-base review-title-content a-text-bold\" data-hook=\"review-title\" href=\"/gp/customer-reviews/RTFM0JIBAM1LG?ASIN=B07DJHV6VZ\">\n",
       " <span>After a weeks use, I feel this phone is awesome even with a few flaws or glitches, Details below:</span>\n",
       " </a>,\n",
       " <a class=\"a-size-base a-link-normal review-title a-color-base review-title-content a-text-bold\" data-hook=\"review-title\" href=\"/gp/customer-reviews/R3KMI9HO4C2SUM?ASIN=B07DJHV6VZ\">\n",
       " <span>Very good</span>\n",
       " </a>,\n",
       " <a class=\"a-size-base a-link-normal review-title a-color-base review-title-content a-text-bold\" data-hook=\"review-title\" href=\"/gp/customer-reviews/RVU2ROSP16XL1?ASIN=B07DJHV6VZ\">\n",
       " <span>Worth Every Rupee!!!</span>\n",
       " </a>,\n",
       " <a class=\"a-size-base a-link-normal review-title a-color-base review-title-content a-text-bold\" data-hook=\"review-title\" href=\"/gp/customer-reviews/R2RPQ7C59AH9VL?ASIN=B07DJHV6VZ\">\n",
       " <span>Amazing performance without breaking the bank!</span>\n",
       " </a>,\n",
       " <a class=\"a-size-base a-link-normal review-title a-color-base review-title-content a-text-bold\" data-hook=\"review-title\" href=\"/gp/customer-reviews/R3G84G4ZC51A4G?ASIN=B07DJHV6VZ\">\n",
       " <span>Great phone, for it's price and also otherwise</span>\n",
       " </a>,\n",
       " <a class=\"a-size-base a-link-normal review-title a-color-base review-title-content a-text-bold\" data-hook=\"review-title\" href=\"/gp/customer-reviews/R1NZCN9JYTQVH1?ASIN=B07DJHV6VZ\">\n",
       " <span>The Performance Beast is Here.</span>\n",
       " </a>,\n",
       " <a class=\"a-size-base a-link-normal review-title a-color-base review-title-content a-text-bold\" data-hook=\"review-title\" href=\"/gp/customer-reviews/RXLNSXDLIJ69E?ASIN=B07DJHV6VZ\">\n",
       " <span>Performance from last 4+ years</span>\n",
       " </a>,\n",
       " <a class=\"a-size-base a-link-normal review-title a-color-base review-title-content a-text-bold\" data-hook=\"review-title\" href=\"/gp/customer-reviews/R31SBOMFROZLM3?ASIN=B07DJHV6VZ\">\n",
       " <span>The smartphone you should buy !!</span>\n",
       " </a>,\n",
       " <a class=\"a-size-base a-link-normal review-title a-color-base review-title-content a-text-bold\" data-hook=\"review-title\" href=\"/gp/customer-reviews/R2PQPG7FGSLF0P?ASIN=B07DJHV6VZ\">\n",
       " <span>Need For Speed...?? Get the OnePlus 6t</span>\n",
       " </a>]"
      ]
     },
     "execution_count": 39,
     "metadata": {},
     "output_type": "execute_result"
    }
   ],
   "source": [
    "title"
   ]
  },
  {
   "cell_type": "code",
   "execution_count": 42,
   "id": "51ff3039-88bf-43b9-9302-22cb98609c9e",
   "metadata": {},
   "outputs": [],
   "source": [
    "review_title=[]\n",
    "for i in range(0,len(title)):\n",
    "    review_title.append(title[i].get_text())\n",
    "    "
   ]
  },
  {
   "cell_type": "code",
   "execution_count": 43,
   "id": "4e27423b-627d-47a9-ae8d-9636f2c5316d",
   "metadata": {},
   "outputs": [
    {
     "data": {
      "text/plain": [
       "['\\nIS THIS IT FINALLY? SLOW FINGERPRINT SCANNER?\\n',\n",
       " '\\nAfter a weeks use, I feel this phone is awesome even with a few flaws or glitches, Details below:\\n',\n",
       " '\\nVery good\\n',\n",
       " '\\nWorth Every Rupee!!!\\n',\n",
       " '\\nAmazing performance without breaking the bank!\\n',\n",
       " \"\\nGreat phone, for it's price and also otherwise\\n\",\n",
       " '\\nThe Performance Beast is Here.\\n',\n",
       " '\\nPerformance from last 4+ years\\n',\n",
       " '\\nThe smartphone you should buy !!\\n',\n",
       " '\\nNeed For Speed...?? Get the OnePlus 6t\\n']"
      ]
     },
     "execution_count": 43,
     "metadata": {},
     "output_type": "execute_result"
    }
   ],
   "source": [
    "review_title"
   ]
  },
  {
   "cell_type": "code",
   "execution_count": 49,
   "id": "b6516a4c-48cc-4434-ab69-25b64dd2447f",
   "metadata": {},
   "outputs": [],
   "source": [
    "review_title=[titles.strip('\\n') for titles in review_title]"
   ]
  },
  {
   "cell_type": "code",
   "execution_count": 50,
   "id": "b1bceadc-009d-41fb-9dca-62732c9bac23",
   "metadata": {},
   "outputs": [
    {
     "data": {
      "text/plain": [
       "['IS THIS IT FINALLY? SLOW FINGERPRINT SCANNER?',\n",
       " 'After a weeks use, I feel this phone is awesome even with a few flaws or glitches, Details below:',\n",
       " 'Very good',\n",
       " 'Worth Every Rupee!!!',\n",
       " 'Amazing performance without breaking the bank!',\n",
       " \"Great phone, for it's price and also otherwise\",\n",
       " 'The Performance Beast is Here.',\n",
       " 'Performance from last 4+ years',\n",
       " 'The smartphone you should buy !!',\n",
       " 'Need For Speed...?? Get the OnePlus 6t']"
      ]
     },
     "execution_count": 50,
     "metadata": {},
     "output_type": "execute_result"
    }
   ],
   "source": [
    "review_title"
   ]
  },
  {
   "cell_type": "code",
   "execution_count": 74,
   "id": "f6e65de9-c3f8-4b7a-a37c-69056eb58843",
   "metadata": {},
   "outputs": [],
   "source": [
    "ratings = soup.find_all('i',class_='review-rating')"
   ]
  },
  {
   "cell_type": "code",
   "execution_count": 75,
   "id": "d4cc62af-58c5-4d62-b7b1-616cfce2301a",
   "metadata": {},
   "outputs": [
    {
     "data": {
      "text/plain": [
       "[<i class=\"a-icon a-icon-star a-star-4 review-rating\" data-hook=\"review-star-rating-view-point\"><span class=\"a-icon-alt\">4.0 out of 5 stars</span></i>,\n",
       " <i class=\"a-icon a-icon-star a-star-3 review-rating\" data-hook=\"review-star-rating-view-point\"><span class=\"a-icon-alt\">3.0 out of 5 stars</span></i>,\n",
       " <i class=\"a-icon a-icon-star a-star-4 review-rating\" data-hook=\"review-star-rating\"><span class=\"a-icon-alt\">4.0 out of 5 stars</span></i>,\n",
       " <i class=\"a-icon a-icon-star a-star-4 review-rating\" data-hook=\"review-star-rating\"><span class=\"a-icon-alt\">4.0 out of 5 stars</span></i>,\n",
       " <i class=\"a-icon a-icon-star a-star-4 review-rating\" data-hook=\"review-star-rating\"><span class=\"a-icon-alt\">4.0 out of 5 stars</span></i>,\n",
       " <i class=\"a-icon a-icon-star a-star-5 review-rating\" data-hook=\"review-star-rating\"><span class=\"a-icon-alt\">5.0 out of 5 stars</span></i>,\n",
       " <i class=\"a-icon a-icon-star a-star-4 review-rating\" data-hook=\"review-star-rating\"><span class=\"a-icon-alt\">4.0 out of 5 stars</span></i>,\n",
       " <i class=\"a-icon a-icon-star a-star-5 review-rating\" data-hook=\"review-star-rating\"><span class=\"a-icon-alt\">5.0 out of 5 stars</span></i>,\n",
       " <i class=\"a-icon a-icon-star a-star-5 review-rating\" data-hook=\"review-star-rating\"><span class=\"a-icon-alt\">5.0 out of 5 stars</span></i>,\n",
       " <i class=\"a-icon a-icon-star a-star-5 review-rating\" data-hook=\"review-star-rating\"><span class=\"a-icon-alt\">5.0 out of 5 stars</span></i>,\n",
       " <i class=\"a-icon a-icon-star a-star-5 review-rating\" data-hook=\"review-star-rating\"><span class=\"a-icon-alt\">5.0 out of 5 stars</span></i>,\n",
       " <i class=\"a-icon a-icon-star a-star-5 review-rating\" data-hook=\"review-star-rating\"><span class=\"a-icon-alt\">5.0 out of 5 stars</span></i>]"
      ]
     },
     "execution_count": 75,
     "metadata": {},
     "output_type": "execute_result"
    }
   ],
   "source": [
    "ratings"
   ]
  },
  {
   "cell_type": "code",
   "execution_count": 80,
   "id": "c6579430-2989-46d1-8ea5-d9761ed74e23",
   "metadata": {},
   "outputs": [],
   "source": [
    "rates=[]\n",
    "for i in range(0,len(ratings)):\n",
    "    rates.append(ratings[i].get_text())"
   ]
  },
  {
   "cell_type": "code",
   "execution_count": 82,
   "id": "33870008-6110-4930-99c8-8a0e3ef6f995",
   "metadata": {},
   "outputs": [
    {
     "data": {
      "text/plain": [
       "['4.0 out of 5 stars',\n",
       " '3.0 out of 5 stars',\n",
       " '4.0 out of 5 stars',\n",
       " '4.0 out of 5 stars',\n",
       " '4.0 out of 5 stars',\n",
       " '5.0 out of 5 stars',\n",
       " '4.0 out of 5 stars',\n",
       " '5.0 out of 5 stars',\n",
       " '5.0 out of 5 stars',\n",
       " '5.0 out of 5 stars',\n",
       " '5.0 out of 5 stars',\n",
       " '5.0 out of 5 stars']"
      ]
     },
     "execution_count": 82,
     "metadata": {},
     "output_type": "execute_result"
    }
   ],
   "source": [
    "rates"
   ]
  },
  {
   "cell_type": "code",
   "execution_count": 83,
   "id": "f13f4fc9-0173-48a0-a1e2-5311ba08592a",
   "metadata": {},
   "outputs": [
    {
     "data": {
      "text/plain": [
       "'3.0 out of 5 stars'"
      ]
     },
     "execution_count": 83,
     "metadata": {},
     "output_type": "execute_result"
    }
   ],
   "source": [
    "rates.pop(1)"
   ]
  },
  {
   "cell_type": "code",
   "execution_count": 85,
   "id": "80770571-2529-45e2-81b7-86aa6e378ee1",
   "metadata": {},
   "outputs": [
    {
     "data": {
      "text/plain": [
       "'4.0 out of 5 stars'"
      ]
     },
     "execution_count": 85,
     "metadata": {},
     "output_type": "execute_result"
    }
   ],
   "source": [
    "rates.pop(0)"
   ]
  },
  {
   "cell_type": "code",
   "execution_count": 86,
   "id": "5ecf780a-e42a-47e9-8ebd-eece9da79e26",
   "metadata": {},
   "outputs": [
    {
     "data": {
      "text/plain": [
       "['4.0 out of 5 stars',\n",
       " '4.0 out of 5 stars',\n",
       " '4.0 out of 5 stars',\n",
       " '5.0 out of 5 stars',\n",
       " '4.0 out of 5 stars',\n",
       " '5.0 out of 5 stars',\n",
       " '5.0 out of 5 stars',\n",
       " '5.0 out of 5 stars',\n",
       " '5.0 out of 5 stars',\n",
       " '5.0 out of 5 stars']"
      ]
     },
     "execution_count": 86,
     "metadata": {},
     "output_type": "execute_result"
    }
   ],
   "source": [
    "rates"
   ]
  },
  {
   "cell_type": "code",
   "execution_count": 90,
   "id": "85bd9075-91bb-4caf-a4b2-4a2c7baa262e",
   "metadata": {},
   "outputs": [],
   "source": [
    "review_content= soup.find_all('span', class_='review-text-content')"
   ]
  },
  {
   "cell_type": "code",
   "execution_count": 91,
   "id": "7dab0cbf-a7c5-4782-8ce4-c9ff08eaefcb",
   "metadata": {},
   "outputs": [
    {
     "data": {
      "text/plain": [
       "[<span class=\"a-size-base review-text review-text-content\" data-hook=\"review-body\"><div class=\"a-section a-spacing-small a-spacing-top-mini video-block\" id=\"video-block-R2KKIWE3QR0EWE\">\n",
       " <div class=\"cr-video-desktop cr-video-desktop-placeholder\" data-review-id=\"R2KKIWE3QR0EWE\" data-thumbnail-url=\"https://m.media-amazon.com/images/I/81vPzkInTGS._SY256.png\" data-video-url=\"https://m.media-amazon.com/images/I/819pUGF7P8S.mp4\" id=\"review-video-id-R2KKIWE3QR0EWE\">\n",
       " <div class=\"cr-media-status-container\">\n",
       " <span class=\"a-spinner a-spinner-medium cr-media-spinner\"></span>\n",
       " <span class=\"a-color-inverse cr-media-error-msg\">\n",
       "                     The media could not be loaded.\n",
       "                 </span>\n",
       " </div>\n",
       " </div>\n",
       " </div><input class=\"video-url\" name=\"\" type=\"hidden\" value=\"https://m.media-amazon.com/images/I/819pUGF7P8S.mp4\"><input class=\"video-slate-img-url\" name=\"\" type=\"hidden\" value=\"https://m.media-amazon.com/images/I/81vPzkInTGS._SY256.png\">\n",
       " <span> apologies for the seemingly 'clickbait' title of this review. i'll be as concise as i can.<br/>tl;dr: great battery life, a well tuned camera. go for it (this isn't a paid/fake review lol)!<br/><br/>CAMERA: has a really high dynamic range. i have been doing street photography since two years now, all based out of a phone camera, as opposed to a dslr or something. although previously i have used budget devices (occasionally a flagship phone belonging to someone else), i have learned a lot. since my genre involves capturing a quick moment, a good/smart hdr process really comes handy. this phone retains details in the HIGHLIGHTS much, much better than a galaxy s9/note 9, iphone x, comparable to pixel 2xl. nope, no exxageration. zoom performance is okay, as it's digital. the secondary lens seems gimmicky, with the company claiming it to help with depth sensing. on covering the second lens, a message does pop up (in the portrait mode). i feel like they can utilize it better with different algorithms. i see wasted potential. the hardware is the same as op6. NIGHT SIGHT from the ported gcam app is INSANE. the stock app is also great at processing photos in LOWLIGHT. if you're like me, if you feel like capturing something in the middle of the night because it looks magical, this camera will not let you down.<br/>VIDEO: if you have tried any sort of filmmaking, you'll understand the importance of shooting in 60fps over 30. NOTE- ois is used for 1080/4k 60fps. eis is used for 1080/4k 30fps. eis is amazing during the day, but falls short at night. 4k 60 means you don't get as much light information at night, but it'll have better stabilization. i wish there was some way to manually change that. the final output, once you realize these certain points and use it to your advantage, then it's amazing! TRUST ME.<br/>SELFIE: video called to 1080p with eis, has a great dynamic range. but, i feel like the gcam mode performs better while taking selfies, especially selfie portraits.<br/>CAMERA final thoughts: if you know what you're doing, GO BUY THIS PHONE.<br/>if camera isn't as important to you, then please read on. 4 times out of 5 you'll be happy with what you capture.<br/><br/>*just realized i said i'll be concise hahahah* *i'll try again*<br/><br/>BATTERY LIFE: the first few days of extreme heavy usage set me back a bit disappointed, as i got a bit more than 6 hours of sot. DON'T MISUNDERSTAND- it's good. definitely. but it didn't quite match up to what i saw online. so get this, i'm not the only one who felt that way.<br/>BUT WAIT! after using this phone for 3 weeks (give or take) battery life has improved. i have provided a screenshot for the initial usage, which shows a little over 6 hours. YESTERDAY, i got nearly TEN HOURS.<br/>if you're an average user, but still feel like you use the phone heavily because of a few gaming sessions, you won't be disappointed. i don't play games much, but my camera usage is extreme. that explained why i felt disappointed.<br/>BATTERY FINAL THOUGHTS? most of you out there can use this phone easily for an entire day. if you're a casual user, then you'll be VERY happy with the battery backup.<br/><br/>CHARGING: dash/rapid/warp charge- as fast as ever. 10/10. doesn't throttle the performance. neither does the charging slow down with simultaneous use.<br/><br/>SCREEN: I LOVE THE ABILITY TO CHOOSE DIFFERENT CALIBRATED MODES! oneplus does it right. it's quite accurate. i use dci-p3. for most default is best, as the colors have a lot of saturation, with inky blacks. GOOD brightness, not great though with direct sunlight. BUT WAIT! a paid app (search high brightness mode) enables the actual potential. NOT KIDDING. basically, oneplus has restricted the maximum brightness you can get, to ensure longevity (FOR A GOOD REASON). use that app at your own risk, as toggling it on for long periods of time may be harmful for the phone, as that's not what was intended originally. please don't blame me if you use it without researching further. however, if you are smart about it, you'll be REALLY HAPPY with the results. HONESTLY!<br/><br/>DESIGN/BUILD QUALITY: this is something HIGHLY subjective. beauty lies in the eyes of the beholder. personally, i'm in love with the minimalism and symmetry. despite the beautiful glossy finish of mirror black, i feel like midnight black/thunder purple showcases how much oneplus cares about ERGONOMICS. i am usually horribly careless with my phones. and this has a glass back, way less durable, seemingly. YET, i feel safe while holding this. they have oaid attention to subtle things, like the amount of curve at the edges of the backside, to make it easier to grip. the matte texture feels so close to a metallic surface, im not lying. if anyone you know has a 6 or a 6t with a matte surface, please do check it out. NOTE: please make sure you have a case on, as glass is glass.<br/>i have dropped this phone 4-5 times (which made my heart skip a beat every time). one of the corners has a slight dent (which still makes me feel really sad). however, the materials used are really good. op6 had gorilla glass 5, this has gorilla glass 6. don't be fooled though, glass always has a high chance of breaking. oneplus phones last a long while. they don't have any water/dust resistance certification, but the phone won't be damaged if it comes in contact with water. please don't push it though.<br/><br/>FINGERPRINT SCANNER: *evil laugh* if you're still reading, i cannot thank you enough. i hope i was able to help you understand the experience a bit better. okay, i shouldn't stall amy more. the fingerprint scanner isn't as fast, or as secure, or as adept as a regular capacitive scanner (read: oneplus phones before 6t).<br/>DON'T MISUNDERSTAND THOUGH. if you don't compare, oneplus makes the experience seem really smooth. yes, the accuracy suffers a bit. BUT, the novelty of this feature, i feel, makes up for it. it makes me smile every time i use it.<br/>THAT'S NOT THE ENTIRE STORY THOUGH! oneplus claims it becomes faster with time. at first, in my first week, i felt like this was a smart way of creating a placebo effect. the words felt like a plain marketing talk. BUT, THEY WEREN'T WRONG. i understand the arguments against the scanner, mainly, a) it forces you to look at the screen everytime you want to unlock, in which case the face unlock despite being less secure, would be faster, b) the positioning could be better &amp; c) the feedback doesn't induce confidence if you actually unlocked or not. true, true and true. BUT, as skeptic as i was, i promise you, it has gotten better and faster. how do i attest that? well, earlier success rate was 75%. it did feel like a let down. it seemed half baked. change for the sake of change. NOW, IT'S UP TO 95%. initially it made me feel angry at oneplus, as it felt like 'IS THIS IT FINALLY? has oneplus SETTLED?' *there you go, the headline of my review* jokes aside, the angles that would fail before, wouldn't fail anymore. i do have a guess at how they're achieving this, but i don't feel like boring you any more than i already have. i tried my best to be as honest and unbiased as i could have. let that strengthen your confidence in my verdict about the scanner. trust me. it gets better with time. this is due to artificial intelligence and i'm glad that they didn't loosely throw around the term (*cough* LG/HUAWEI/OPPO *cough*). the way artificial intelligence works, i can ASSURE you that it should get better with time. it has, for me.<br/>NOTE: screen protectors do change the experience. oneplus recommends you to re-register the prints. this is definitely a huge annoyance, as it could lead to wastage of money just to figure out what works. i suggest go with reviews, ones which have a more number of reviews, especially 3-4 stars and not 5. if you see a 5 star rating, it probably was the brand itself.<br/><br/>i apologize for this long read. if you still are reading, then i think i can assume that you long for this phone. else you wouldn't have read this far. i understand. just, go for it. it's worth it as long as you don't have an op6. wait for 7 if you really want an improved experience. actually, the way they work, and if it means that much to you, wait for op7t. it'll be worth the wait. moreover the op6 will last you well over two years.<br/><br/>signing off,<br/>alimpan pal (op6t 8+256gb)<br/>ps: i dropped out of college to pursue filmmaking. would mean a lot if you visited my instagram page. currently working on my own domain. till then please check out my work, it's all based on phones, you'll definitely find it unique. look up _theunbreakablevow_ (with the underscores).</span>\n",
       " </input></input></span>,\n",
       " <span class=\"a-size-base review-text review-text-content\" data-hook=\"review-body\"><div class=\"a-section a-spacing-small a-spacing-top-mini video-block\" id=\"video-block-RTFM0JIBAM1LG\">\n",
       " <div class=\"cr-video-desktop cr-video-desktop-placeholder\" data-review-id=\"RTFM0JIBAM1LG\" data-thumbnail-url=\"https://m.media-amazon.com/images/I/41IVTDTb4rL._SY256._SY256.jpg\" data-video-url=\"https://m.media-amazon.com/images/S/vse-vms-transcoding-artifact-eu-west-1-prod/79f79112-a8f2-402b-a570-c9a73b456036/default.jobtemplate.hls.m3u8\" id=\"review-video-id-RTFM0JIBAM1LG\">\n",
       " <div class=\"cr-media-status-container\">\n",
       " <span class=\"a-spinner a-spinner-medium cr-media-spinner\"></span>\n",
       " <span class=\"a-color-inverse cr-media-error-msg\">\n",
       "                     The media could not be loaded.\n",
       "                 </span>\n",
       " </div>\n",
       " </div>\n",
       " </div><input class=\"video-url\" name=\"\" type=\"hidden\" value=\"https://m.media-amazon.com/images/S/vse-vms-transcoding-artifact-eu-west-1-prod/79f79112-a8f2-402b-a570-c9a73b456036/default.jobtemplate.mp4.480.mp4\"/><input class=\"video-slate-img-url\" name=\"\" type=\"hidden\" value=\"https://m.media-amazon.com/images/I/41IVTDTb4rL._SY256._SY256.jpg\"/>\n",
       " <span> (Pictures and videos attached)<br/><br/>(Star Rating out of 5)<br/>Phone Overall Rating:  ★ ★ ★ ★<br/>Camera Quality Rating ★ ★ ★ ★ ★<br/>Battery Backup  ★ ★ ★ ★<br/>Speed/Performance:  ★ ★ ★ ★ ★<br/>Operating System:  ★ ★ ★ ★<br/>Fingerprint Scanner:  ★ ★ ★ ★<br/>Usability/Gestures,etc:  ★ ★ ★ ★ ★<br/>Sound Quality:  ★ ★ ★ ★ ★<br/><br/>The in-box contents:<br/>• The 3.5mm audio jack to USB-C adaptor cable is really useful for the mass. OnePlus has taken care that removing the audio jack doesn't *force* one to buy new headphones.<br/><br/>• The *phone cover* is sufficient and one wouldn't need to buy a new cover unless one likes to have personalized phone covers.<br/><br/>Review<br/><br/>I reluctantly exchanged my note 4 for this but after weeks use, I feel this is awesome despite few glitches<br/><br/>My Experience as a power user of phones:<br/><br/>I bought this phone by using the exchange offer with the MI Note 4 that I had used for over two years. Being a power user, high-graphics gamer, freelance graphic designer, developer, an entrepreneur &amp; a multi tasker, I find OnePlus 6T (OxygenOS) so much worth the purchase. Specially so when I am transitioning from MI Note 4 (MIUI). OnePlus 6T is an incremental upgrade to the OnePlus 6T with subtle but significant upgrades. But there is always something positive and negative about a device so following is what I feel about it:<br/><br/>• The fingerprint scanner that was the key selling point for OnePlus 6T isnt as impressive as it seemed to be earlier before using the phone for a week. It is good but it isnt as fast as face recognition or back side fingerprint scanner. The major cause of this is that the back side fingerprint scanner in the previous model 6 was a definite point that was locatable but in 6T this area is on the screen and you need to tap the screen to get the area of fingerprint scanner to show and then you have to do the needful. This is like a step extra versus the previous models quick screen unlock with same level of security. This is a 2 second wasted only to unlock the screen.<br/><br/>• The sound quality and camera quality is exceptionally awesome. No flaws in them for this level of pricing. There are few so called better ones in other brands but then better is a debatable word with camera output quality.<br/><br/>• Storage / model options: I have seen the mirror version of version 6 with my friend and the midnight black that I have been using of version 6. Midnight black is just so so buttery smooth to enjoy and feel while using the phone that makes it seem like everything is on screen surface and covering the full screen area. Mirror version becomes boring and frustrating after a point because of the fingerprints that are left visible all over the back side of the body so easily everytime.<br/><br/>• In-display fingerprint scanner / sensor: OnePlus’s dedicated fingerprint scanner has always been a secure and fastest scanner around. With in-display scanner they have integrated the fingerprint scanner inside the device remarkably well. It is fast enough to call it quick but sure isn’t as fast as dedicated scanner module which it implemented in OnePlus 6’s rear.<br/><br/>• Blazing fast: There is nothing more pleasing that having a fluid experience using a phone and OnePlus 6T is blazing fast. Multi-tasking is such a breeze with 6T. Test it with almost any (and virtually as many) apps and 1+ 6T will deliver! Gaming Mode just adds to this beefy specs while you are gaming.<br/><br/>• Gestures: After using it once and I dont want to go back to using buttons (almost definitely). The gestures add so much to its intuitive, smooth user experience, while getting work done faster and without any hassle.<br/><br/>• Camera: I make some videos of indoor interviews often night light as well and some casual street photography. This 6T camera delivers to the price. Infact more, it is such an ease taking low-light photos without having to worry about setting up a light or finding a good light source.<br/><br/>• Audio: The audio in this phone is aptly loud and with nice bass that a mobile phone can pack. OnePlus 6 had a very shrieky noisy sort of high-volume issue. But this one has a much more crisp and clearer stereo like speaker feel.<br/><br/>• Faster charging: As always OnePlus is much loved for its fast charging and adding ~400 mAh to the battery 6T makes it all much more pleasing.<br/><br/>• Larger &amp; stronger display: The display is now Corning Gorilla Glass 6 sized at 6.41” which is just as much wide as OnePlus 6’s Corning GG 5 sized at 6.28” but with more height-giving aspect ratio of 19.5:9 aspect ratio and believe me watching movies, YouTube is such a bliss!!!<br/><br/>• Just a Notch: It’s a huge improvement over OnePlus 6’s slab shaped huge notch. The notch in 6T is tear drop shaped and well designed, sized. It rather makes the appearance of the screen very attractive  It improves the overall usability and feel of display by many folds.<br/><br/>• 3.5mm Audio jack is Gone: USB Type-C is all you need to charge the phone or listen to music. You need a type-C to 3.5mm audio jack/adapter within the package though which comes as a huge relief incase I am stuck with using an ordinary 3.5mm Headphones.<br/><br/>• If you are a One Plus 6 owner you would like this thing about the charger that it is of same specifications in terms of electric input and output. You can use the same charger for both the phones. This saves you from the hassle of storing two chargers for two same brand phones.<br/><br/>• 3700 mAh: Beefed up the battery (maybe that’s why the audio jack had to go). But this also means longer charging time with the same charger as OnePlus 6 but that is okay i think since it still is fast compared to other phones. Lot of people are crying for wireless charging. I guess they dont know about the slow charging speed and longer charging time for the smartphones. Everyone who has used the fast charger knows that wireless charging is not as great as it sounds.<br/><br/>•  The software feature of Screen Brightness is a big dislike. Since the new OS update, OP6 and OP6T both have had very bad transition scale in terms of screen brightness. Earlier the screen was enough bright at 30% thus saving batter, but now even indoor use requires screen brightness to be set at 60% to be able to use phone properly. This is a big let down as it consumes a lot of battery.<br/><br/>• The new software update has some improvements in Camera and gestures and some patch fixes. This is good, especially the nightscape camera features takes amazing low light contrast pictures (one nightscape mode shot pictures has been attached).<br/><br/>• But the new swipe gesture addition to switch between previous and next apps has caused the previously existent two gestures for going to the tray and going back has become way slower and sometimes non responsive. In an effort to add something just not required, the previous smooth gestures transitions has been sacrificed. This is just wasnt called for.</span>\n",
       " </span>,\n",
       " <span class=\"a-size-base review-text review-text-content\" data-hook=\"review-body\">\n",
       " <span>Verdict<br/>The OnePlus 6T brings new technology and worthwhile improvements to the table making this the best phone from OnePlus yet.<br/><br/>Pros<br/>New fingerprint sensor feels cutting-edge<br/>Up-to-date, versatile OS<br/>Fast Charge is still great<br/>Sleek, premium design<br/>Great performance<br/>Great battery life<br/>Cons<br/>Camera's Nightscape mode needs work<br/>Another headphone jack bites the dust<br/>Fingerprint sensor needs refinement<br/>Poor audio capabilities<br/>his affordable Android flagship sports a lightning-fast in-display fingerprint sensor and powerful performance for half the price of its rivals.<br/>Super-fast in-display fingerprint sensor<br/>Gorgeous display with tiny teardrop notch<br/>Improved camera support<br/>Android Pie out of the box.<br/>AGAINST<br/>No headphone jack<br/>Lacks wireless charging<br/>Camera: Improved, but not amazing<br/><br/>OnePlus didn't make any tweaks to the camera hardware in the 6T. Like the 6, the new model sports a dual-lens rear shooter with a 16-megapixel and 20-MP lens and a 20-MP front-facing lens.<br/><br/>But the company made some software enhancements to boost photo quality, particularly in portraits and at night. A new Night mode, which you can select from the lower menu in the camera preview, lengthens the exposure time to capture more detail in low-light settings.<br/>Unfortunately, that exposure doesn't do much to enhance the quality of a low-light image, as you can see in the below comparison of the same spooky Halloween display lit colorful lights and a street lamp. With Night mode activated, the shot is brighter overall but also looks overexposed, so you lose detail and contrast. The image isn't much better without Night mode, but looks slightly less grainy.<br/>The Pixel 3 captures the variation in the purple lights, and also brings up the contrast in the black spiders on the staircase. The red of the monstrous ghost's eyes and hands is far more vivid in the Pixel 3's shot. This is without the Pixel 3's forthcoming Night Sight mode, which reportedly makes the device's low-light shots dramatically better. The iPhone XR’s shot is more true-to-life — the purple and red hues look like they did in person, even if there's not as much contrast as in the Pixel 3's result.<br/>Performance: Flagship speed for less<br/><br/>The 6T shares the same specs as the 6, so performance is unchanged in the newer device. The phone's 8GB of RAM and Snapdragon 845 processor deliver flagship speeds, besting even Samsung's Galaxy Note 9 (with 6GB of RAM) and Google's Pixel 3 XL (4GB).<br/>Battery Life<br/><br/>The OnePlus 6T’s 3,700 mAh battery is slightly bigger than the OnePlus 6's 3,300 mAh pack, but the new device also has a slightly larger display. The two phones ran neck-and-neck in the Toms Guide Battery Test of continuous web-surfing over T-Mobile's LTE network, with the 6T lasting 10 hours and 23 minutes and the 6 lasting just 10 minutes longer. The smartphone average is 9:50.<br/><br/>In my five days of testing the 6T, I found it to be a champ. For instance, I charged up the 6T to 100 percent and then used it for 20 hours, from late afternoon to lunchtime the following day. I took the phone running, listening to the new Robyn album over Apple Music.<br/>OnePlus 6T vs. iPhone XR<br/><br/>The OnePlus 6T is cheaper than the iPhone XR while offering a bigger display. The 6.2-inch-long 6T is taller than the 5.9-inch-long iPhone XR, Apple's most affordable flagship iPhone. That extra height is all display — the 6T's 6.4-inch OLED panel is simply bigger than the XR's 6.1-inch screen.<br/><br/>For those of us with small hands, the taller screen makes it tougher to navigate the 6T one-handed than the XR, but there are worthwhile trade-offs.<br/>OnePlus 6T Cheat Sheet: What You Need to Know<br/><br/>The 6T is the first flagship phone released in the U.S. with an in-display fingerprint sensor. Spoiler alert: The sensor's lightning fast and amazing.<br/>T-Mobile customers can buy the 6T in-store, and it also supports Verizon's network.<br/>Farewell, headphone jack. OnePlus has parted ways with the 3.5mm port. A USB-C dongle is included in the box.<br/>Android 9.0 Pie with OyxgenOS doesn't feel bloated.<br/>New Night photography feature aims to improve low-light shots, but the Pixel 3 is better.<br/>A recently-released McLaren Edition offers 10GB of RAM, 256GB of storage and OnePlus' new Warp Charge system.<br/>Design: Matte beauty with teardrop notch<br/><br/>OnePlus isn't pushing any design boundaries with the 6T, which isn't necessarily a bad thing. The matte Midnight Black model I tested is a subtle standout in a sea of glassy black 6-inch slabs (i.e., almost every other Android flagship). The glossy Mirror Black shade is more run-of-the-mill. Unfortunately, OnePlus isn't releasing a Silk White variant of the 6T, at least not yet. The pearly finish of that OnePlus 6 model was one-of-a-kind. The Mirror and Midnight Black hues are standard for OnePlus, so it would be nice to see a fresh shade for the  6T.OnePlus has slightly refined its go-to aesthetic for the 6T with tweaks like a teardrop-shaped notch, which is significantly smaller than the iPhone X-style notch at the top of the OnePlus 6's display. The 6T's bottom bezel is also a smidge thinner than its predecessor's. But the overall dimensions have remained largely the same over the years, even as display size has increased and the fingerprint sensor has moved from chin to back to beneath the display.<br/>glass with the 6T and ditched the headphone jack (yes, it's true), the company has still shied away from supporting wireless charging.<br/><br/>Display: Still stunning<br/><br/>The OnePlus 6T’s display quality easily rivals flagships twice its price. The expansive, 6.4-inch AMOLED (2340 x 1080) panel is slightly taller than the OnePlus 6's screen, but the most noticeable difference is the less obtrusive dewdrop notch. OnePlus slimmed down the camera cut-out from the 6's iPhone X replica to one that resembles the short-lived Essential Phone. The design tweak makes the screen feel truly edge-to-edge in a way that notched flagships don't.<br/>AGAINST<br/>'Only' full HD resolution<br/>No microSD card slot</span>\n",
       " </span>,\n",
       " <span class=\"a-size-base review-text review-text-content\" data-hook=\"review-body\">\n",
       " <span>I'll split the review into sections to make it easy to understand.<br/><br/>Delivery 10/10: I placed the order on the 2nd since the 8/256 model was out of stock and I was supposed to receive the phone on the 4th however I was pleasantly surprised when the order shipped and was at my doorstep on the 2nd itself so kudos to the seller and Amazon for a great delivery experience.<br/><br/>Now onto the phone...<br/><br/>Build 8/10: The body of the phone is metal and the design is ergonomic. Not a huge change from the OP6 other than the lack of a fingerprint sensor. A lack of headphone jack is problematic.<br/><br/>Screen 10/10: 6.44 inch 2560x1080 AMOLED display. A gorgeous display with vivid colors and true blacks, feels better than many 2K screens and the load on the battery is reduced massively as well. The notch is improved massively as well as it feels less intrusive and easier to adopt. With an 86% screen to body ratio, the experience is immersive.<br/><br/>Internals and Software 10/10: 8GB RAM and 256GB of storage is future proof enough and can handle anything thrown at it. OxygenOS with Android Pie is greatly optimized with some useful features and the performance is fast, lag-free and snappy. SD845 is best in class and the GPU can handle heavy games with ease.<br/><br/>Camera 9/10: While it sports the same lens as its predecessor, the software tweaks and optimization makes it feel like a massive upgrade with noticeably better photos than the OP6 as well as great improvement with the Night mode in taking photos in low light. You can shoot 720p video at 480fps as well as 4K 60fps (limited to 5 minutes at a stretch) and the inclusion of pro mode makes it easier to tweak the camera according to your needs. The front camera is crisp and an improvement over its predecessor. While it may not be as exceptional as the Pixel 3 or Note 9, it is still the best camera in its price range.<br/><br/>Battery life ?/10: It's still too early to give an honest review about the battery life however the 3700mah capacity paired with the industry leading fast-charging technology makes it one of the best phone batteries. In my short use of the phone so far I've consistently got 4.5-5 hours SoT and the standby time is insane as well. This is one of the best phones battery management wise bar the Note 9.<br/><br/>New features: While the fingerprint sensor is now embedded under the screen, it is more of a positive point for the screen to body ratio than the security aspect of the phone. While it definitely is not gimmicky, it is not completely useful as well. It's plenty fast despite being a first-generation in-screen reader however still slower than physical button readers as well as the native face unlock (which is really really good and insanely fast even in low light) If you're someone who disables face unlock and will only use your fingerprint then it is good enough for your daily needs.<br/><br/>Sound 7/10: Due to the reduced notch, the earpiece is shifted into the top slit however it is still plenty audible and really clear. The speaker despite being a mono downward firing one is loud enough to play music and answer calls from far away. One issue I have with the bottom speaker is that despite being two grills, one on either side of the type C slot, there is only one speaker which is the left one which means if you cover it you will muffle 90% of the sound also by looking at the pictures you might assume it might be dual bottom firing speakers but it's only one (so it might seem like false advertising?) but still it doesn't affect the quality or the loudness of the sound one bit so I may be nitpicking here. A lack of headphone jack means you have to settle for bt audio or use the dongle provided by oneplus for free in the box. Since I am coming from an LG G6 which had a 32-bit Quad DAC it is a big letdown since USB-C audio is still garbage and wireless music still cannot compete in quality with wired.<br/><br/>Conclusion:<br/>+Screen<br/>+Battery<br/>+Internals<br/>+Software<br/>+Camera<br/>+Phone comes with screen protector pre-applied and with a free transparent TPU case in the box so good on OP to think about the customer<br/><br/>-no 3.5mm jack<br/>-no wireless charging (not important for me)<br/><br/>BEST FLAGSHIP FOR UNDER 50K DESPITE LOSING THE HEADPHONE JACK, THE OTHER GOOD FEATURES MORE THAN MAKE UP FOR IT. GO FOR IT!!!!</span>\n",
       " </span>,\n",
       " <span class=\"a-size-base review-text review-text-content\" data-hook=\"review-body\">\n",
       " <span>Overall: 8/10:<br/>A fantastic package at good value. 6T McLaren is'nt much different from the standard 6T except for the RAM and some minor cosmetic changes. But for a long time fan of the Silver Arrows from Mika Hakkinen's time, a small increase in price was worth it. Call me sentimental! :)<br/><br/>Unboxing &amp; contents: 8/10<br/>One of the coolest unboxing experiences. The McLaren box is very premium and the booklet starts with giving you a brief glimpse into the history of the brand and some cool pictures from the archives. It is an homage to Bruce McLaren to be honest. The Speed Mark (real Carbon Fire cutout of the McLaren logo) encased in acrylic is pretty good and can serve as a cool table top accessory or paper weight. If not for much it can be a good ice breaker for visitors to your home / office. The Charger and Cable are also customized for the McLaren edition. The Soft PU case is simple black and fits snugly. There was a missed opportunity to throw in some colour for the McLaren edition. All else is pretty much standard. Providing only a USB-C to 3.5 converter is a bummer. For the flagship offering at over 50K, throwing in a Bullet Earphone should have been standard.<br/><br/>First Impressions: 9/10<br/>The device is actually pretty impressive looking. Especially the orange accents at the Bezel on the back. When you change the angle under light, it almost looks like there are LEDs inside. It looks premium for sure though an actual Carbon Fibre body would have been awesome! Be warned though that the surface is a fingerprint magnet and not easy to wipe off unless you use a good cleaning spray. The Waterdrop notch is barely noticeable and is not much of an issue. The colours are vibrant and while setting up you can choose a profile that suits your taste.<br/><br/>Setup: 8/10<br/>The SIM Card tray is a standard two Nano-SIM one. No SD Card support still! But with 240 GB usable memory, not much of an issue to be honest. I used the OnePlus switch app to transfer my apps, data and settings. The transition was hassle free and took all of 15 minutes. Most apps worked immediately but a few needed to be uninstalled and reinstalled as they were acting up. I gave it a point less as I think the OnePlus Switch app should be integrated at the setup stage instead of making a new user download it. The phone heats up considerably but it was fine after the initial 30 minutes.<br/><br/>Battery: 7/10<br/>The unit came with 50% power out of the box and it took me a good 30 minutes to get it to 75% despite using the Warp Charge @ 30W. Probably it was due to the fact that close to 100 apps were being downloaded while it was charging. I will check the charging performance over the next few weeks and update review if required.<br/><br/>Performance: 9/10<br/>Gaming: Initial performance on gaming is very very good (Asphalt 9 Legends and Real Racing 3). Zero lag and super smooth rendering.  Bloons TD6 is a very resource hungry at lategame levels and the 6T McLaren  made short work of it.<br/><br/>Display: The display is really mind-blowing. Video on Youtube and other streaming apps was super smooth and brilliant to look at. One cool feature is that you can pinch zoom the content to include / exclude the waterdrop notch for front camera.  Adaptive brightness is annoying at times and I had to turn it off while playing the racing games.<br/><br/>Camera: Have not tested the Camera performance yet. Especially the 4K 60 FPS option. Will do it soon and update the review.<br/><br/>Hope this helps!</span>\n",
       " </span>,\n",
       " <span class=\"a-size-base review-text review-text-content\" data-hook=\"review-body\">\n",
       " <span>Never in my life I waited for a phone this bad and happy to say the wait was worth it. My LG started giving me issues just after a few months and the Samsung before that had 3 display issues in about 15 months. Tired of splurging on flagship Androids, I started looking for alternatives - the cheaper kinds, the more value for money kinds<br/><br/>OnePlus has a pretty loyal band of followers but I never appreciated the Chinese-ness of it but boy, the device is as premium as it can get. OnePlus 6 as I understood from my friends was a great device and OnePlus 6T ought to be better, right? Well, it is, objectively.<br/><br/>Call quality: Isn't that the primary purpose of any phone. Much better than the LG which was as good as unusable and slightly topping the Samsungs<br/><br/>Speaker: Reasonably loud to be useful but don't expect it to win sound quality awards. My LG with DAC stands defeated when I use it with my earphones and headphones. My Beyerdynamic cans are useless though as somehow connecting it results in ghost clicks<br/><br/>Display: Amazing, if you know what AMOLED is you'd know the bright contrast-y nature of the display with equally amazing blacks.. and better power management. For the first time ever, started watching movies on mobiles<br/><br/>Processor, RAM and graphics: Snappy and does make you feel you are holding a fast, latest, flagship device. Should hold good for probably 2 years<br/><br/>Build quality: Very unchinesy (for want of a better word). Edges feel strong yet beautifully carved, sides are solid and buttons are tactile yet feel built to last. The package comes with a case and I am using a case. Another personal first! Oh, the package was thoughtful like none other. Almost feels like a personalized gift box<br/><br/>Battery: Pretty darn good. I was 98% at 2200 hours, used for 3-4 hours non-stop in the night and it still took me thru to 1700 hours the other day with medium to heavy usage. I just recently let battery go under 5% and feel it's discharging faster now (could only be psychological). Don't let battery go too low though in most likelihood it doesn't do anything as the phone shuts down before it reaches true 0<br/><br/>Camera: I bet this is what people are interested in most - the reason why it's last here! The hardware is not much different from the OP6 but in a blind camera test, the T took slightly better low light images with the 6 blowing off highlights more. It could be an issue with that one device but suffice to say the camera is awesome and very capable unless you go comparing with the Pixel 3. I was literally blown from the result of clicking a really, really dark scene and it still had magically squeezed in almost natural light in the picture - just don't expect to create a 10x10 photo frame and you'll be fine. In regular night scenes with some ambient light, there isn't much difference between Auto and night mode. Photography under normal light condition is good - adequately sharp, not overtly saturated and we'll detailed. I find the white balance slightly off but can be fixed in \"pro\" settings. At times, the highlight gets blown out but that's okay for a phone at this price point and I believe many of the camera shortcomings can be fixed with a software upgrade. I would have preferred a wide-angle camera over the depth camera - mind you, the depth camera too works brilliantly in portrait mode and gives you a more natural bokeh effect than software enhanced background blur<br/><br/>All in all, I am quite satisfied with the purchase and probably gonna stick with OnePlus having experimented with most Android manufacturers. Highly recommended!</span>\n",
       " </span>,\n",
       " <span class=\"a-size-base review-text review-text-content\" data-hook=\"review-body\">\n",
       " <span>Design--<br/>The back is a swathe of curved glass 3D glass that sits comfortably against your palm. At launch the two colours: Midnight Black and Mirror Black, sport two distinctly different finishes. In my opinion, the Midnight Black model I tested is the better looking of the two, with a distinctive S-shaped reflection appearing across its back when the light hits it that has an almost opalescent quality.<br/><br/>Screen--<br/>The 6T packs the biggest display OnePlus has ever put on a phone. At 6.41-inches it’s sure to satisfy media-lovers, mobile photographers and gamers.6T supports the full DCI-P3 wide colour gamut and the company’s thrown in options for a variety other colour spaces too, such as sRGB, as well as a warm night and monochrome reading mode feature. The use of an AMOLED panel is appreciated too, ensuring great contrast and deep blacks, which again helps when enjoying video.<br/><br/>Performance--<br/>The ‘T’ series phones, like Google’s Pixel phones, come at an awkward time if you’re after the latest and greatest mobile processor on the market. The Qualcomm Snapdragon 845 chipset at the heart of the OnePlus 6T is an undeniable powerhouse, that’s featured in nearly every 2018 flagship Android phone but it’s about to be supplanted.<br/><br/>Software(OOS)--<br/>OnePlus was among a handful of manufacturers that promised to deliver fast Android updates and with the OnePlus 6, it certainly delivered. The OnePlus 6T runs an enhanced version of that same Android 9.0 Pie experience out the box with OnePlus’ OxygenOS overlay on top.<br/>There’s little more I can say that I want from OnePlus’ take on Android here. I’d like a one-handed mode that actually shrinks the entire UI but I think I’m in the minority there, and I’m curious to try out the promised fingerprint-sensor based shortcuts feature but beyond that, perhaps a few fewer of OnePlus’ own apps stepping on Google’s toes wouldn’t hurt.<br/><br/>Camera--<br/>The camera hardware at play here appears to be identical to that of its predecessor, with a dual 16/20-megapixel snapper taking point, rocking a respectably wide f/1.7 aperture and PDAF (phase detection autofocus), along with OIS (optical image stabilisation) and enlarged 1.22µm pixels on that main 16-megapixel sensor. There’s also a 16-megapixel front-facer which leverages EIS (electronic image stabilisation). It’s a promising hardware setup.<br/><br/>Battery Life--<br/>The OnePlus 6T’s 3700mAh power pack is a winner based on my experiences.<br/>With 13 hours away from the wall plug and four hours of screen-on time, my OnePlus 6T finished the day at an even 50% charge. In that time I streamed 30 minutes of Netflix, which sapped 6% of the charge (with the screen brightness at half), while a 30 minute stretch of PUBG Mobile, running through multiple short, sharp arcade matches, took 8% out of the battery.Fast Charge (formerly Dash Charge) is a big reason to buy a OnePlus. It’s been the best fast-charging standard out there for a while (although that’s starting to change) and the company has distilled the premise with simple elegance into the tagline, “a day’s power in half an hour”.<br/><br/>Pros:<br/>New fingerprint sensor feels cutting-edge<br/>Up-to-date, versatile OS<br/>Dash Charge is still great and better than OnePlus 6<br/>Sleek, premium design<br/>Great performance<br/>Great Camera<br/>Great battery life<br/><br/>Cons:<br/>Camera's Nightscape mode(Focus) needs work<br/>Another headphone jack bites the dust<br/>Fingerprint sensor needs refinement<br/>No LED notification light<br/>No more colour options<br/><br/>PUBG Settings:<br/>Graphics- Upto HDR<br/>Frame Rate- upto Ultra<br/><br/>Verdict:<br/>The OnePlus 6T brings new technology and worthwhile improvements to the table but still needs some tweaking.<br/><br/>If you find this review as helpful then please click the helpful button.<br/>Thanks to all.</span>\n",
       " </span>,\n",
       " <span class=\"a-size-base review-text review-text-content\" data-hook=\"review-body\">\n",
       " <span>Its been 4+ years and still no issues, going smooth</span>\n",
       " </span>,\n",
       " <span class=\"a-size-base review-text review-text-content\" data-hook=\"review-body\">\n",
       " <span>I have been using this phone since 3rd Nov, so after using it extensively for about 1 and a half month, here is what i think.<br/>• Performance : Overall performance is mind blowing.<br/>•Battery+Dash Charge : Battery life is just amazing and bundle it with the dash charging, u will never ever run out of power. (It makes up for no wireless charging and frankly it didnt even bother me)<br/>•Camera : Camera quality is superb, use it with pixels camera port and it can challenge any smartphone anyday. I have added one photo which i shot in very low light using night mode, u can check it.<br/>•Sound : Sound is also great (i have heard so many people complaining about absence of stereo speakers but i didn't notice much of a difference, it has performed upto the mark in every situation uptil now like in very noisy backgrounds)<br/>•Screen-Body Ratio : The bezels are so thin that u will fall in love with this phone if u watch videos and movies extensively on phones.<br/>•Display : The display is also very crsip and clear being fullhd+ display.<br/>•Security : Face unlock is lightning fast and u will not even see the lock screen most of the time during unlocking.<br/>•In-display fingerprint scanner is also good, not perfect as it sometimes dont recognise the finger but thats ok because with time u will get used to placing ur fingers in the required manner.<br/>•Build quality : It is very very Premium and u will feel really good while holding them in ur hands. Its design is very sleek and curvy edges makes them easy to hold.<br/>•Dual sim card, so that's another good thing.<br/>•Tiny Notch : I dont like notches but in todays world of notches its the best u can get, its very less intrusive and its so small that i dont even notice it now.<br/>•OxygenOs : its one of the reasons why i love one plus devices. The customisations available are just awesome. U can set up your phone the way u like it with pure stock android experience. Its just an icing on the cake.<br/>•Android Updates : its another thing which u will enjoy owning this device. Most of the companies dont provide that. (This is applicable to all one plus devices though)<br/>•Storage : Base storage is 128 gigs, thats huge.<br/><br/>The only drawback i find is absence of headphone jack which is not a deal breaker according to me as there are other alternatives to it, so u can easily move on to Bluetooth or type c headphones. Just like the time when touch screen phones were launched in the world of keypad phones people were sceptical back then also.<br/><br/>Notable mention : No IP rating is just a myth. Its totally water and dust resistant, i have seen a lot of videos on you tube confirming that. They just didn't want to increase the price to another 20-30$ in order to get that certification as they are very costly.<br/><br/>My opinion : Just go for it if you dont own one plus 6 or to some extent one plus 5t. Rest if u are looking for an upgrade, this is the one u should get.<br/><br/>I hope i cleared ur doubts. Thanks.</span>\n",
       " </span>,\n",
       " <span class=\"a-size-base review-text review-text-content\" data-hook=\"review-body\">\n",
       " <span>Waited 2 months for this beauty cum beast to launch and here I'm reviewing the same from the beast itself. Along with the OnePlus 6t, I had kept Poco F1 and Asus ZenFone 5Z as my other options but finally decided to go with the OnePlus 6t. Let's go through it's features point wise...<br/>1- Availability<br/>As a customer, waiting for something u want to buy badly is the worst thing. I made up my mind to buy this device after watching almost all the reviews on YouTube of OnePlus 6 , Poco F1 and Asus ZenFone 5Z but black colour was not my first choice. It was only available in black variant at the time of launch with no information about any other variant. This is why I could not avail offers during Diwali time. I had to wait 15 more days for the \"Thunder Purple\" variant to launch but that too was launched in flash sale fashion which is something not expected from OnePlus. Though later they made the thunder purple variant available all the time.<br/>Due to this marketing style, OnePlus ends up forcing some customers to choose the variant which may not be their first choice and as a customer u feel dissatisfied.<br/><br/>2-First Look and Build Quality<br/>It was like love at first sight. I could not get my eyes off this beauty. The purple colour merging with the black colour on the top looks mesmerising. Build quality, as heard in several reviews, is top notch. And talking of notch, the water drop notch adds up to the beauty to look even more stunning. Full marks in this section.<br/><br/>3- Performance<br/>Heard it, Seen it, Used it and Felt it. Undoubtedly it's the beast when it comes to performance. You'll feel the smoothness as u use the device. I have used my friend's Poco and Asus ZenFone 5z too...but the experience is smoother in this device for sure. Full marks and OnePlus for the awesome Oxygen OS in performance section<br/><br/>4- Sound Quality<br/>Decent enough but lacks the experience of a stereo speakers. What to do...Dil Maangey More h(Never Satisfied)<br/><br/>5- Battery Life<br/>Earlier I was using a mobile with 4200mah battery which was giving more than a day backup easily. I was ready for a decrease in the backup with OnePlus 6t as compared to my earlier device but the experience was just shocking. OnePlus 6t was giving the same backup as a 4200mah phone. Adding to this amazing battery life is the dash charger which charges the phone with such a great speed that you'll doubt who is in more hurry...You or your charger!!!<br/><br/>6-Picture Quality<br/>In normal lighting conditions it undoubtedly takes awesome pictures. Saturation level is just perfect...Colours captured are always close to the original apart from some rare moments when I felt that pics were on warmer side but that's just me!!!<br/>Night mode pictures are better than Poco and Asus ZenFone 5z but surely you don't want it to be compared with Google pixel's night mode!!!<br/><br/>7- Gaming<br/>I have 8gb variant and I must say that my gaming experience till now is amazing. With the specs and software provided in this device, u don't need to even think about your gaming experience... it's bound to be buttery smooth!!!</span>\n",
       " </span>]"
      ]
     },
     "execution_count": 91,
     "metadata": {},
     "output_type": "execute_result"
    }
   ],
   "source": [
    "review_content"
   ]
  },
  {
   "cell_type": "code",
   "execution_count": 95,
   "id": "990643d2-255f-4c10-8a95-23cd7f1d4c83",
   "metadata": {},
   "outputs": [],
   "source": [
    "review_contents =[]\n",
    "for i in range(0,len(review_content)):\n",
    "    review_contents.append((review_content[i]).get_text())"
   ]
  },
  {
   "cell_type": "code",
   "execution_count": 96,
   "id": "569a37fc-4bbb-4ffb-bf83-dbb98c3d6fc7",
   "metadata": {},
   "outputs": [
    {
     "data": {
      "text/plain": [
       "[\"\\n\\n\\n\\n\\n                    The media could not be loaded.\\n                \\n\\n\\n\\n\\xa0apologies for the seemingly 'clickbait' title of this review. i'll be as concise as i can.tl;dr: great battery life, a well tuned camera. go for it (this isn't a paid/fake review lol)!CAMERA: has a really high dynamic range. i have been doing street photography since two years now, all based out of a phone camera, as opposed to a dslr or something. although previously i have used budget devices (occasionally a flagship phone belonging to someone else), i have learned a lot. since my genre involves capturing a quick moment, a good/smart hdr process really comes handy. this phone retains details in the HIGHLIGHTS much, much better than a galaxy s9/note 9, iphone x, comparable to pixel 2xl. nope, no exxageration. zoom performance is okay, as it's digital. the secondary lens seems gimmicky, with the company claiming it to help with depth sensing. on covering the second lens, a message does pop up (in the portrait mode). i feel like they can utilize it better with different algorithms. i see wasted potential. the hardware is the same as op6. NIGHT SIGHT from the ported gcam app is INSANE. the stock app is also great at processing photos in LOWLIGHT. if you're like me, if you feel like capturing something in the middle of the night because it looks magical, this camera will not let you down.VIDEO: if you have tried any sort of filmmaking, you'll understand the importance of shooting in 60fps over 30. NOTE- ois is used for 1080/4k 60fps. eis is used for 1080/4k 30fps. eis is amazing during the day, but falls short at night. 4k 60 means you don't get as much light information at night, but it'll have better stabilization. i wish there was some way to manually change that. the final output, once you realize these certain points and use it to your advantage, then it's amazing! TRUST ME.SELFIE: video called to 1080p with eis, has a great dynamic range. but, i feel like the gcam mode performs better while taking selfies, especially selfie portraits.CAMERA final thoughts: if you know what you're doing, GO BUY THIS PHONE.if camera isn't as important to you, then please read on. 4 times out of 5 you'll be happy with what you capture.*just realized i said i'll be concise hahahah* *i'll try again*BATTERY LIFE: the first few days of extreme heavy usage set me back a bit disappointed, as i got a bit more than 6 hours of sot. DON'T MISUNDERSTAND- it's good. definitely. but it didn't quite match up to what i saw online. so get this, i'm not the only one who felt that way.BUT WAIT! after using this phone for 3 weeks (give or take) battery life has improved. i have provided a screenshot for the initial usage, which shows a little over 6 hours. YESTERDAY, i got nearly TEN HOURS.if you're an average user, but still feel like you use the phone heavily because of a few gaming sessions, you won't be disappointed. i don't play games much, but my camera usage is extreme. that explained why i felt disappointed.BATTERY FINAL THOUGHTS? most of you out there can use this phone easily for an entire day. if you're a casual user, then you'll be VERY happy with the battery backup.CHARGING: dash/rapid/warp charge- as fast as ever. 10/10. doesn't throttle the performance. neither does the charging slow down with simultaneous use.SCREEN: I LOVE THE ABILITY TO CHOOSE DIFFERENT CALIBRATED MODES! oneplus does it right. it's quite accurate. i use dci-p3. for most default is best, as the colors have a lot of saturation, with inky blacks. GOOD brightness, not great though with direct sunlight. BUT WAIT! a paid app (search high brightness mode) enables the actual potential. NOT KIDDING. basically, oneplus has restricted the maximum brightness you can get, to ensure longevity (FOR A GOOD REASON). use that app at your own risk, as toggling it on for long periods of time may be harmful for the phone, as that's not what was intended originally. please don't blame me if you use it without researching further. however, if you are smart about it, you'll be REALLY HAPPY with the results. HONESTLY!DESIGN/BUILD QUALITY: this is something HIGHLY subjective. beauty lies in the eyes of the beholder. personally, i'm in love with the minimalism and symmetry. despite the beautiful glossy finish of mirror black, i feel like midnight black/thunder purple showcases how much oneplus cares about ERGONOMICS. i am usually horribly careless with my phones. and this has a glass back, way less durable, seemingly. YET, i feel safe while holding this. they have oaid attention to subtle things, like the amount of curve at the edges of the backside, to make it easier to grip. the matte texture feels so close to a metallic surface, im not lying. if anyone you know has a 6 or a 6t with a matte surface, please do check it out. NOTE: please make sure you have a case on, as glass is glass.i have dropped this phone 4-5 times (which made my heart skip a beat every time). one of the corners has a slight dent (which still makes me feel really sad). however, the materials used are really good. op6 had gorilla glass 5, this has gorilla glass 6. don't be fooled though, glass always has a high chance of breaking. oneplus phones last a long while. they don't have any water/dust resistance certification, but the phone won't be damaged if it comes in contact with water. please don't push it though.FINGERPRINT SCANNER: *evil laugh* if you're still reading, i cannot thank you enough. i hope i was able to help you understand the experience a bit better. okay, i shouldn't stall amy more. the fingerprint scanner isn't as fast, or as secure, or as adept as a regular capacitive scanner (read: oneplus phones before 6t).DON'T MISUNDERSTAND THOUGH. if you don't compare, oneplus makes the experience seem really smooth. yes, the accuracy suffers a bit. BUT, the novelty of this feature, i feel, makes up for it. it makes me smile every time i use it.THAT'S NOT THE ENTIRE STORY THOUGH! oneplus claims it becomes faster with time. at first, in my first week, i felt like this was a smart way of creating a placebo effect. the words felt like a plain marketing talk. BUT, THEY WEREN'T WRONG. i understand the arguments against the scanner, mainly, a) it forces you to look at the screen everytime you want to unlock, in which case the face unlock despite being less secure, would be faster, b) the positioning could be better & c) the feedback doesn't induce confidence if you actually unlocked or not. true, true and true. BUT, as skeptic as i was, i promise you, it has gotten better and faster. how do i attest that? well, earlier success rate was 75%. it did feel like a let down. it seemed half baked. change for the sake of change. NOW, IT'S UP TO 95%. initially it made me feel angry at oneplus, as it felt like 'IS THIS IT FINALLY? has oneplus SETTLED?' *there you go, the headline of my review* jokes aside, the angles that would fail before, wouldn't fail anymore. i do have a guess at how they're achieving this, but i don't feel like boring you any more than i already have. i tried my best to be as honest and unbiased as i could have. let that strengthen your confidence in my verdict about the scanner. trust me. it gets better with time. this is due to artificial intelligence and i'm glad that they didn't loosely throw around the term (*cough* LG/HUAWEI/OPPO *cough*). the way artificial intelligence works, i can ASSURE you that it should get better with time. it has, for me.NOTE: screen protectors do change the experience. oneplus recommends you to re-register the prints. this is definitely a huge annoyance, as it could lead to wastage of money just to figure out what works. i suggest go with reviews, ones which have a more number of reviews, especially 3-4 stars and not 5. if you see a 5 star rating, it probably was the brand itself.i apologize for this long read. if you still are reading, then i think i can assume that you long for this phone. else you wouldn't have read this far. i understand. just, go for it. it's worth it as long as you don't have an op6. wait for 7 if you really want an improved experience. actually, the way they work, and if it means that much to you, wait for op7t. it'll be worth the wait. moreover the op6 will last you well over two years.signing off,alimpan pal (op6t 8+256gb)ps: i dropped out of college to pursue filmmaking. would mean a lot if you visited my instagram page. currently working on my own domain. till then please check out my work, it's all based on phones, you'll definitely find it unique. look up _theunbreakablevow_ (with the underscores).\\n\",\n",
       " \"\\n\\n\\n\\n\\n                    The media could not be loaded.\\n                \\n\\n\\n\\n\\xa0(Pictures and videos attached)(Star Rating out of 5)Phone Overall Rating:  ★ ★ ★ ★Camera Quality Rating ★ ★ ★ ★ ★Battery Backup  ★ ★ ★ ★Speed/Performance:  ★ ★ ★ ★ ★Operating System:  ★ ★ ★ ★Fingerprint Scanner:  ★ ★ ★ ★Usability/Gestures,etc:  ★ ★ ★ ★ ★Sound Quality:  ★ ★ ★ ★ ★The in-box contents:• The 3.5mm audio jack to USB-C adaptor cable is really useful for the mass. OnePlus has taken care that removing the audio jack doesn't *force* one to buy new headphones.• The *phone cover* is sufficient and one wouldn't need to buy a new cover unless one likes to have personalized phone covers.ReviewI reluctantly exchanged my note 4 for this but after weeks use, I feel this is awesome despite few glitchesMy Experience as a power user of phones:I bought this phone by using the exchange offer with the MI Note 4 that I had used for over two years. Being a power user, high-graphics gamer, freelance graphic designer, developer, an entrepreneur & a multi tasker, I find OnePlus 6T (OxygenOS) so much worth the purchase. Specially so when I am transitioning from MI Note 4 (MIUI). OnePlus 6T is an incremental upgrade to the OnePlus 6T with subtle but significant upgrades. But there is always something positive and negative about a device so following is what I feel about it:• The fingerprint scanner that was the key selling point for OnePlus 6T isnt as impressive as it seemed to be earlier before using the phone for a week. It is good but it isnt as fast as face recognition or back side fingerprint scanner. The major cause of this is that the back side fingerprint scanner in the previous model 6 was a definite point that was locatable but in 6T this area is on the screen and you need to tap the screen to get the area of fingerprint scanner to show and then you have to do the needful. This is like a step extra versus the previous models quick screen unlock with same level of security. This is a 2 second wasted only to unlock the screen.• The sound quality and camera quality is exceptionally awesome. No flaws in them for this level of pricing. There are few so called better ones in other brands but then better is a debatable word with camera output quality.• Storage / model options: I have seen the mirror version of version 6 with my friend and the midnight black that I have been using of version 6. Midnight black is just so so buttery smooth to enjoy and feel while using the phone that makes it seem like everything is on screen surface and covering the full screen area. Mirror version becomes boring and frustrating after a point because of the fingerprints that are left visible all over the back side of the body so easily everytime.• In-display fingerprint scanner / sensor: OnePlus’s dedicated fingerprint scanner has always been a secure and fastest scanner around. With in-display scanner they have integrated the fingerprint scanner inside the device remarkably well. It is fast enough to call it quick but sure isn’t as fast as dedicated scanner module which it implemented in OnePlus 6’s rear.• Blazing fast: There is nothing more pleasing that having a fluid experience using a phone and OnePlus 6T is blazing fast. Multi-tasking is such a breeze with 6T. Test it with almost any (and virtually as many) apps and 1+ 6T will deliver! Gaming Mode just adds to this beefy specs while you are gaming.• Gestures: After using it once and I dont want to go back to using buttons (almost definitely). The gestures add so much to its intuitive, smooth user experience, while getting work done faster and without any hassle.• Camera: I make some videos of indoor interviews often night light as well and some casual street photography. This 6T camera delivers to the price. Infact more, it is such an ease taking low-light photos without having to worry about setting up a light or finding a good light source.• Audio: The audio in this phone is aptly loud and with nice bass that a mobile phone can pack. OnePlus 6 had a very shrieky noisy sort of high-volume issue. But this one has a much more crisp and clearer stereo like speaker feel.• Faster charging: As always OnePlus is much loved for its fast charging and adding ~400 mAh to the battery 6T makes it all much more pleasing.• Larger & stronger display: The display is now Corning Gorilla Glass 6 sized at 6.41” which is just as much wide as OnePlus 6’s Corning GG 5 sized at 6.28” but with more height-giving aspect ratio of 19.5:9 aspect ratio and believe me watching movies, YouTube is such a bliss!!!• Just a Notch: It’s a huge improvement over OnePlus 6’s slab shaped huge notch. The notch in 6T is tear drop shaped and well designed, sized. It rather makes the appearance of the screen very attractive  It improves the overall usability and feel of display by many folds.• 3.5mm Audio jack is Gone: USB Type-C is all you need to charge the phone or listen to music. You need a type-C to 3.5mm audio jack/adapter within the package though which comes as a huge relief incase I am stuck with using an ordinary 3.5mm Headphones.• If you are a One Plus 6 owner you would like this thing about the charger that it is of same specifications in terms of electric input and output. You can use the same charger for both the phones. This saves you from the hassle of storing two chargers for two same brand phones.• 3700 mAh: Beefed up the battery (maybe that’s why the audio jack had to go). But this also means longer charging time with the same charger as OnePlus 6 but that is okay i think since it still is fast compared to other phones. Lot of people are crying for wireless charging. I guess they dont know about the slow charging speed and longer charging time for the smartphones. Everyone who has used the fast charger knows that wireless charging is not as great as it sounds.•  The software feature of Screen Brightness is a big dislike. Since the new OS update, OP6 and OP6T both have had very bad transition scale in terms of screen brightness. Earlier the screen was enough bright at 30% thus saving batter, but now even indoor use requires screen brightness to be set at 60% to be able to use phone properly. This is a big let down as it consumes a lot of battery.• The new software update has some improvements in Camera and gestures and some patch fixes. This is good, especially the nightscape camera features takes amazing low light contrast pictures (one nightscape mode shot pictures has been attached).• But the new swipe gesture addition to switch between previous and next apps has caused the previously existent two gestures for going to the tray and going back has become way slower and sometimes non responsive. In an effort to add something just not required, the previous smooth gestures transitions has been sacrificed. This is just wasnt called for.\\n\",\n",
       " \"\\nVerdictThe OnePlus 6T brings new technology and worthwhile improvements to the table making this the best phone from OnePlus yet.ProsNew fingerprint sensor feels cutting-edgeUp-to-date, versatile OSFast Charge is still greatSleek, premium designGreat performanceGreat battery lifeConsCamera's Nightscape mode needs workAnother headphone jack bites the dustFingerprint sensor needs refinementPoor audio capabilitieshis affordable Android flagship sports a lightning-fast in-display fingerprint sensor and powerful performance for half the price of its rivals.Super-fast in-display fingerprint sensorGorgeous display with tiny teardrop notchImproved camera supportAndroid Pie out of the box.AGAINSTNo headphone jackLacks wireless chargingCamera: Improved, but not amazingOnePlus didn't make any tweaks to the camera hardware in the 6T. Like the 6, the new model sports a dual-lens rear shooter with a 16-megapixel and 20-MP lens and a 20-MP front-facing lens.But the company made some software enhancements to boost photo quality, particularly in portraits and at night. A new Night mode, which you can select from the lower menu in the camera preview, lengthens the exposure time to capture more detail in low-light settings.Unfortunately, that exposure doesn't do much to enhance the quality of a low-light image, as you can see in the below comparison of the same spooky Halloween display lit colorful lights and a street lamp. With Night mode activated, the shot is brighter overall but also looks overexposed, so you lose detail and contrast. The image isn't much better without Night mode, but looks slightly less grainy.The Pixel 3 captures the variation in the purple lights, and also brings up the contrast in the black spiders on the staircase. The red of the monstrous ghost's eyes and hands is far more vivid in the Pixel 3's shot. This is without the Pixel 3's forthcoming Night Sight mode, which reportedly makes the device's low-light shots dramatically better. The iPhone XR’s shot is more true-to-life — the purple and red hues look like they did in person, even if there's not as much contrast as in the Pixel 3's result.Performance: Flagship speed for lessThe 6T shares the same specs as the 6, so performance is unchanged in the newer device. The phone's 8GB of RAM and Snapdragon 845 processor deliver flagship speeds, besting even Samsung's Galaxy Note 9 (with 6GB of RAM) and Google's Pixel 3 XL (4GB).Battery LifeThe OnePlus 6T’s 3,700 mAh battery is slightly bigger than the OnePlus 6's 3,300 mAh pack, but the new device also has a slightly larger display. The two phones ran neck-and-neck in the Toms Guide Battery Test of continuous web-surfing over T-Mobile's LTE network, with the 6T lasting 10 hours and 23 minutes and the 6 lasting just 10 minutes longer. The smartphone average is 9:50.In my five days of testing the 6T, I found it to be a champ. For instance, I charged up the 6T to 100 percent and then used it for 20 hours, from late afternoon to lunchtime the following day. I took the phone running, listening to the new Robyn album over Apple Music.OnePlus 6T vs. iPhone XRThe OnePlus 6T is cheaper than the iPhone XR while offering a bigger display. The 6.2-inch-long 6T is taller than the 5.9-inch-long iPhone XR, Apple's most affordable flagship iPhone. That extra height is all display — the 6T's 6.4-inch OLED panel is simply bigger than the XR's 6.1-inch screen.For those of us with small hands, the taller screen makes it tougher to navigate the 6T one-handed than the XR, but there are worthwhile trade-offs.OnePlus 6T Cheat Sheet: What You Need to KnowThe 6T is the first flagship phone released in the U.S. with an in-display fingerprint sensor. Spoiler alert: The sensor's lightning fast and amazing.T-Mobile customers can buy the 6T in-store, and it also supports Verizon's network.Farewell, headphone jack. OnePlus has parted ways with the 3.5mm port. A USB-C dongle is included in the box.Android 9.0 Pie with OyxgenOS doesn't feel bloated.New Night photography feature aims to improve low-light shots, but the Pixel 3 is better.A recently-released McLaren Edition offers 10GB of RAM, 256GB of storage and OnePlus' new Warp Charge system.Design: Matte beauty with teardrop notchOnePlus isn't pushing any design boundaries with the 6T, which isn't necessarily a bad thing. The matte Midnight Black model I tested is a subtle standout in a sea of glassy black 6-inch slabs (i.e., almost every other Android flagship). The glossy Mirror Black shade is more run-of-the-mill. Unfortunately, OnePlus isn't releasing a Silk White variant of the 6T, at least not yet. The pearly finish of that OnePlus 6 model was one-of-a-kind. The Mirror and Midnight Black hues are standard for OnePlus, so it would be nice to see a fresh shade for the  6T.OnePlus has slightly refined its go-to aesthetic for the 6T with tweaks like a teardrop-shaped notch, which is significantly smaller than the iPhone X-style notch at the top of the OnePlus 6's display. The 6T's bottom bezel is also a smidge thinner than its predecessor's. But the overall dimensions have remained largely the same over the years, even as display size has increased and the fingerprint sensor has moved from chin to back to beneath the display.glass with the 6T and ditched the headphone jack (yes, it's true), the company has still shied away from supporting wireless charging.Display: Still stunningThe OnePlus 6T’s display quality easily rivals flagships twice its price. The expansive, 6.4-inch AMOLED (2340 x 1080) panel is slightly taller than the OnePlus 6's screen, but the most noticeable difference is the less obtrusive dewdrop notch. OnePlus slimmed down the camera cut-out from the 6's iPhone X replica to one that resembles the short-lived Essential Phone. The design tweak makes the screen feel truly edge-to-edge in a way that notched flagships don't.AGAINST'Only' full HD resolutionNo microSD card slot\\n\",\n",
       " \"\\nI'll split the review into sections to make it easy to understand.Delivery 10/10: I placed the order on the 2nd since the 8/256 model was out of stock and I was supposed to receive the phone on the 4th however I was pleasantly surprised when the order shipped and was at my doorstep on the 2nd itself so kudos to the seller and Amazon for a great delivery experience.Now onto the phone...Build 8/10: The body of the phone is metal and the design is ergonomic. Not a huge change from the OP6 other than the lack of a fingerprint sensor. A lack of headphone jack is problematic.Screen 10/10: 6.44 inch 2560x1080 AMOLED display. A gorgeous display with vivid colors and true blacks, feels better than many 2K screens and the load on the battery is reduced massively as well. The notch is improved massively as well as it feels less intrusive and easier to adopt. With an 86% screen to body ratio, the experience is immersive.Internals and Software 10/10: 8GB RAM and 256GB of storage is future proof enough and can handle anything thrown at it. OxygenOS with Android Pie is greatly optimized with some useful features and the performance is fast, lag-free and snappy. SD845 is best in class and the GPU can handle heavy games with ease.Camera 9/10: While it sports the same lens as its predecessor, the software tweaks and optimization makes it feel like a massive upgrade with noticeably better photos than the OP6 as well as great improvement with the Night mode in taking photos in low light. You can shoot 720p video at 480fps as well as 4K 60fps (limited to 5 minutes at a stretch) and the inclusion of pro mode makes it easier to tweak the camera according to your needs. The front camera is crisp and an improvement over its predecessor. While it may not be as exceptional as the Pixel 3 or Note 9, it is still the best camera in its price range.Battery life ?/10: It's still too early to give an honest review about the battery life however the 3700mah capacity paired with the industry leading fast-charging technology makes it one of the best phone batteries. In my short use of the phone so far I've consistently got 4.5-5 hours SoT and the standby time is insane as well. This is one of the best phones battery management wise bar the Note 9.New features: While the fingerprint sensor is now embedded under the screen, it is more of a positive point for the screen to body ratio than the security aspect of the phone. While it definitely is not gimmicky, it is not completely useful as well. It's plenty fast despite being a first-generation in-screen reader however still slower than physical button readers as well as the native face unlock (which is really really good and insanely fast even in low light) If you're someone who disables face unlock and will only use your fingerprint then it is good enough for your daily needs.Sound 7/10: Due to the reduced notch, the earpiece is shifted into the top slit however it is still plenty audible and really clear. The speaker despite being a mono downward firing one is loud enough to play music and answer calls from far away. One issue I have with the bottom speaker is that despite being two grills, one on either side of the type C slot, there is only one speaker which is the left one which means if you cover it you will muffle 90% of the sound also by looking at the pictures you might assume it might be dual bottom firing speakers but it's only one (so it might seem like false advertising?) but still it doesn't affect the quality or the loudness of the sound one bit so I may be nitpicking here. A lack of headphone jack means you have to settle for bt audio or use the dongle provided by oneplus for free in the box. Since I am coming from an LG G6 which had a 32-bit Quad DAC it is a big letdown since USB-C audio is still garbage and wireless music still cannot compete in quality with wired.Conclusion:+Screen+Battery+Internals+Software+Camera+Phone comes with screen protector pre-applied and with a free transparent TPU case in the box so good on OP to think about the customer-no 3.5mm jack-no wireless charging (not important for me)BEST FLAGSHIP FOR UNDER 50K DESPITE LOSING THE HEADPHONE JACK, THE OTHER GOOD FEATURES MORE THAN MAKE UP FOR IT. GO FOR IT!!!!\\n\",\n",
       " \"\\nOverall: 8/10:A fantastic package at good value. 6T McLaren is'nt much different from the standard 6T except for the RAM and some minor cosmetic changes. But for a long time fan of the Silver Arrows from Mika Hakkinen's time, a small increase in price was worth it. Call me sentimental! :)Unboxing & contents: 8/10One of the coolest unboxing experiences. The McLaren box is very premium and the booklet starts with giving you a brief glimpse into the history of the brand and some cool pictures from the archives. It is an homage to Bruce McLaren to be honest. The Speed Mark (real Carbon Fire cutout of the McLaren logo) encased in acrylic is pretty good and can serve as a cool table top accessory or paper weight. If not for much it can be a good ice breaker for visitors to your home / office. The Charger and Cable are also customized for the McLaren edition. The Soft PU case is simple black and fits snugly. There was a missed opportunity to throw in some colour for the McLaren edition. All else is pretty much standard. Providing only a USB-C to 3.5 converter is a bummer. For the flagship offering at over 50K, throwing in a Bullet Earphone should have been standard.First Impressions: 9/10The device is actually pretty impressive looking. Especially the orange accents at the Bezel on the back. When you change the angle under light, it almost looks like there are LEDs inside. It looks premium for sure though an actual Carbon Fibre body would have been awesome! Be warned though that the surface is a fingerprint magnet and not easy to wipe off unless you use a good cleaning spray. The Waterdrop notch is barely noticeable and is not much of an issue. The colours are vibrant and while setting up you can choose a profile that suits your taste.Setup: 8/10The SIM Card tray is a standard two Nano-SIM one. No SD Card support still! But with 240 GB usable memory, not much of an issue to be honest. I used the OnePlus switch app to transfer my apps, data and settings. The transition was hassle free and took all of 15 minutes. Most apps worked immediately but a few needed to be uninstalled and reinstalled as they were acting up. I gave it a point less as I think the OnePlus Switch app should be integrated at the setup stage instead of making a new user download it. The phone heats up considerably but it was fine after the initial 30 minutes.Battery: 7/10The unit came with 50% power out of the box and it took me a good 30 minutes to get it to 75% despite using the Warp Charge @ 30W. Probably it was due to the fact that close to 100 apps were being downloaded while it was charging. I will check the charging performance over the next few weeks and update review if required.Performance: 9/10Gaming: Initial performance on gaming is very very good (Asphalt 9 Legends and Real Racing 3). Zero lag and super smooth rendering.  Bloons TD6 is a very resource hungry at lategame levels and the 6T McLaren  made short work of it.Display: The display is really mind-blowing. Video on Youtube and other streaming apps was super smooth and brilliant to look at. One cool feature is that you can pinch zoom the content to include / exclude the waterdrop notch for front camera.  Adaptive brightness is annoying at times and I had to turn it off while playing the racing games.Camera: Have not tested the Camera performance yet. Especially the 4K 60 FPS option. Will do it soon and update the review.Hope this helps!\\n\",\n",
       " '\\nNever in my life I waited for a phone this bad and happy to say the wait was worth it. My LG started giving me issues just after a few months and the Samsung before that had 3 display issues in about 15 months. Tired of splurging on flagship Androids, I started looking for alternatives - the cheaper kinds, the more value for money kindsOnePlus has a pretty loyal band of followers but I never appreciated the Chinese-ness of it but boy, the device is as premium as it can get. OnePlus 6 as I understood from my friends was a great device and OnePlus 6T ought to be better, right? Well, it is, objectively.Call quality: Isn\\'t that the primary purpose of any phone. Much better than the LG which was as good as unusable and slightly topping the SamsungsSpeaker: Reasonably loud to be useful but don\\'t expect it to win sound quality awards. My LG with DAC stands defeated when I use it with my earphones and headphones. My Beyerdynamic cans are useless though as somehow connecting it results in ghost clicksDisplay: Amazing, if you know what AMOLED is you\\'d know the bright contrast-y nature of the display with equally amazing blacks.. and better power management. For the first time ever, started watching movies on mobilesProcessor, RAM and graphics: Snappy and does make you feel you are holding a fast, latest, flagship device. Should hold good for probably 2 yearsBuild quality: Very unchinesy (for want of a better word). Edges feel strong yet beautifully carved, sides are solid and buttons are tactile yet feel built to last. The package comes with a case and I am using a case. Another personal first! Oh, the package was thoughtful like none other. Almost feels like a personalized gift boxBattery: Pretty darn good. I was 98% at 2200 hours, used for 3-4 hours non-stop in the night and it still took me thru to 1700 hours the other day with medium to heavy usage. I just recently let battery go under 5% and feel it\\'s discharging faster now (could only be psychological). Don\\'t let battery go too low though in most likelihood it doesn\\'t do anything as the phone shuts down before it reaches true 0Camera: I bet this is what people are interested in most - the reason why it\\'s last here! The hardware is not much different from the OP6 but in a blind camera test, the T took slightly better low light images with the 6 blowing off highlights more. It could be an issue with that one device but suffice to say the camera is awesome and very capable unless you go comparing with the Pixel 3. I was literally blown from the result of clicking a really, really dark scene and it still had magically squeezed in almost natural light in the picture - just don\\'t expect to create a 10x10 photo frame and you\\'ll be fine. In regular night scenes with some ambient light, there isn\\'t much difference between Auto and night mode. Photography under normal light condition is good - adequately sharp, not overtly saturated and we\\'ll detailed. I find the white balance slightly off but can be fixed in \"pro\" settings. At times, the highlight gets blown out but that\\'s okay for a phone at this price point and I believe many of the camera shortcomings can be fixed with a software upgrade. I would have preferred a wide-angle camera over the depth camera - mind you, the depth camera too works brilliantly in portrait mode and gives you a more natural bokeh effect than software enhanced background blurAll in all, I am quite satisfied with the purchase and probably gonna stick with OnePlus having experimented with most Android manufacturers. Highly recommended!\\n',\n",
       " \"\\nDesign--The back is a swathe of curved glass 3D glass that sits comfortably against your palm. At launch the two colours: Midnight Black and Mirror Black, sport two distinctly different finishes. In my opinion, the Midnight Black model I tested is the better looking of the two, with a distinctive S-shaped reflection appearing across its back when the light hits it that has an almost opalescent quality.Screen--The 6T packs the biggest display OnePlus has ever put on a phone. At 6.41-inches it’s sure to satisfy media-lovers, mobile photographers and gamers.6T supports the full DCI-P3 wide colour gamut and the company’s thrown in options for a variety other colour spaces too, such as sRGB, as well as a warm night and monochrome reading mode feature. The use of an AMOLED panel is appreciated too, ensuring great contrast and deep blacks, which again helps when enjoying video.Performance--The ‘T’ series phones, like Google’s Pixel phones, come at an awkward time if you’re after the latest and greatest mobile processor on the market. The Qualcomm Snapdragon 845 chipset at the heart of the OnePlus 6T is an undeniable powerhouse, that’s featured in nearly every 2018 flagship Android phone but it’s about to be supplanted.Software(OOS)--OnePlus was among a handful of manufacturers that promised to deliver fast Android updates and with the OnePlus 6, it certainly delivered. The OnePlus 6T runs an enhanced version of that same Android 9.0 Pie experience out the box with OnePlus’ OxygenOS overlay on top.There’s little more I can say that I want from OnePlus’ take on Android here. I’d like a one-handed mode that actually shrinks the entire UI but I think I’m in the minority there, and I’m curious to try out the promised fingerprint-sensor based shortcuts feature but beyond that, perhaps a few fewer of OnePlus’ own apps stepping on Google’s toes wouldn’t hurt.Camera--The camera hardware at play here appears to be identical to that of its predecessor, with a dual 16/20-megapixel snapper taking point, rocking a respectably wide f/1.7 aperture and PDAF (phase detection autofocus), along with OIS (optical image stabilisation) and enlarged 1.22µm pixels on that main 16-megapixel sensor. There’s also a 16-megapixel front-facer which leverages EIS (electronic image stabilisation). It’s a promising hardware setup.Battery Life--The OnePlus 6T’s 3700mAh power pack is a winner based on my experiences.With 13 hours away from the wall plug and four hours of screen-on time, my OnePlus 6T finished the day at an even 50% charge. In that time I streamed 30 minutes of Netflix, which sapped 6% of the charge (with the screen brightness at half), while a 30 minute stretch of PUBG Mobile, running through multiple short, sharp arcade matches, took 8% out of the battery.Fast Charge (formerly Dash Charge) is a big reason to buy a OnePlus. It’s been the best fast-charging standard out there for a while (although that’s starting to change) and the company has distilled the premise with simple elegance into the tagline, “a day’s power in half an hour”.Pros:New fingerprint sensor feels cutting-edgeUp-to-date, versatile OSDash Charge is still great and better than OnePlus 6Sleek, premium designGreat performanceGreat CameraGreat battery lifeCons:Camera's Nightscape mode(Focus) needs workAnother headphone jack bites the dustFingerprint sensor needs refinementNo LED notification lightNo more colour optionsPUBG Settings:Graphics- Upto HDRFrame Rate- upto UltraVerdict:The OnePlus 6T brings new technology and worthwhile improvements to the table but still needs some tweaking.If you find this review as helpful then please click the helpful button.Thanks to all.\\n\",\n",
       " '\\nIts been 4+ years and still no issues, going smooth\\n',\n",
       " \"\\nI have been using this phone since 3rd Nov, so after using it extensively for about 1 and a half month, here is what i think.• Performance : Overall performance is mind blowing.•Battery+Dash Charge : Battery life is just amazing and bundle it with the dash charging, u will never ever run out of power. (It makes up for no wireless charging and frankly it didnt even bother me)•Camera : Camera quality is superb, use it with pixels camera port and it can challenge any smartphone anyday. I have added one photo which i shot in very low light using night mode, u can check it.•Sound : Sound is also great (i have heard so many people complaining about absence of stereo speakers but i didn't notice much of a difference, it has performed upto the mark in every situation uptil now like in very noisy backgrounds)•Screen-Body Ratio : The bezels are so thin that u will fall in love with this phone if u watch videos and movies extensively on phones.•Display : The display is also very crsip and clear being fullhd+ display.•Security : Face unlock is lightning fast and u will not even see the lock screen most of the time during unlocking.•In-display fingerprint scanner is also good, not perfect as it sometimes dont recognise the finger but thats ok because with time u will get used to placing ur fingers in the required manner.•Build quality : It is very very Premium and u will feel really good while holding them in ur hands. Its design is very sleek and curvy edges makes them easy to hold.•Dual sim card, so that's another good thing.•Tiny Notch : I dont like notches but in todays world of notches its the best u can get, its very less intrusive and its so small that i dont even notice it now.•OxygenOs : its one of the reasons why i love one plus devices. The customisations available are just awesome. U can set up your phone the way u like it with pure stock android experience. Its just an icing on the cake.•Android Updates : its another thing which u will enjoy owning this device. Most of the companies dont provide that. (This is applicable to all one plus devices though)•Storage : Base storage is 128 gigs, thats huge.The only drawback i find is absence of headphone jack which is not a deal breaker according to me as there are other alternatives to it, so u can easily move on to Bluetooth or type c headphones. Just like the time when touch screen phones were launched in the world of keypad phones people were sceptical back then also.Notable mention : No IP rating is just a myth. Its totally water and dust resistant, i have seen a lot of videos on you tube confirming that. They just didn't want to increase the price to another 20-30$ in order to get that certification as they are very costly.My opinion : Just go for it if you dont own one plus 6 or to some extent one plus 5t. Rest if u are looking for an upgrade, this is the one u should get.I hope i cleared ur doubts. Thanks.\\n\",\n",
       " '\\nWaited 2 months for this beauty cum beast to launch and here I\\'m reviewing the same from the beast itself. Along with the OnePlus 6t, I had kept Poco F1 and Asus ZenFone 5Z as my other options but finally decided to go with the OnePlus 6t. Let\\'s go through it\\'s features point wise...1- AvailabilityAs a customer, waiting for something u want to buy badly is the worst thing. I made up my mind to buy this device after watching almost all the reviews on YouTube of OnePlus 6 , Poco F1 and Asus ZenFone 5Z but black colour was not my first choice. It was only available in black variant at the time of launch with no information about any other variant. This is why I could not avail offers during Diwali time. I had to wait 15 more days for the \"Thunder Purple\" variant to launch but that too was launched in flash sale fashion which is something not expected from OnePlus. Though later they made the thunder purple variant available all the time.Due to this marketing style, OnePlus ends up forcing some customers to choose the variant which may not be their first choice and as a customer u feel dissatisfied.2-First Look and Build QualityIt was like love at first sight. I could not get my eyes off this beauty. The purple colour merging with the black colour on the top looks mesmerising. Build quality, as heard in several reviews, is top notch. And talking of notch, the water drop notch adds up to the beauty to look even more stunning. Full marks in this section.3- PerformanceHeard it, Seen it, Used it and Felt it. Undoubtedly it\\'s the beast when it comes to performance. You\\'ll feel the smoothness as u use the device. I have used my friend\\'s Poco and Asus ZenFone 5z too...but the experience is smoother in this device for sure. Full marks and OnePlus for the awesome Oxygen OS in performance section4- Sound QualityDecent enough but lacks the experience of a stereo speakers. What to do...Dil Maangey More h(Never Satisfied)5- Battery LifeEarlier I was using a mobile with 4200mah battery which was giving more than a day backup easily. I was ready for a decrease in the backup with OnePlus 6t as compared to my earlier device but the experience was just shocking. OnePlus 6t was giving the same backup as a 4200mah phone. Adding to this amazing battery life is the dash charger which charges the phone with such a great speed that you\\'ll doubt who is in more hurry...You or your charger!!!6-Picture QualityIn normal lighting conditions it undoubtedly takes awesome pictures. Saturation level is just perfect...Colours captured are always close to the original apart from some rare moments when I felt that pics were on warmer side but that\\'s just me!!!Night mode pictures are better than Poco and Asus ZenFone 5z but surely you don\\'t want it to be compared with Google pixel\\'s night mode!!!7- GamingI have 8gb variant and I must say that my gaming experience till now is amazing. With the specs and software provided in this device, u don\\'t need to even think about your gaming experience... it\\'s bound to be buttery smooth!!!\\n']"
      ]
     },
     "execution_count": 96,
     "metadata": {},
     "output_type": "execute_result"
    }
   ],
   "source": [
    "review_contents"
   ]
  },
  {
   "cell_type": "code",
   "execution_count": 98,
   "id": "88374f1a-f1d1-4747-a001-855bd901f1d3",
   "metadata": {},
   "outputs": [
    {
     "data": {
      "text/plain": [
       "10"
      ]
     },
     "execution_count": 98,
     "metadata": {},
     "output_type": "execute_result"
    }
   ],
   "source": [
    "len(review_contents)"
   ]
  },
  {
   "cell_type": "code",
   "execution_count": 101,
   "id": "aa12526f-72bb-44ea-9733-f25e8cfd7f22",
   "metadata": {},
   "outputs": [],
   "source": [
    "review_contents=[review.strip('\\n') for review in review_contents]"
   ]
  },
  {
   "cell_type": "code",
   "execution_count": 102,
   "id": "adae57ba-d6ae-45c2-84a8-a14e43649b74",
   "metadata": {},
   "outputs": [
    {
     "data": {
      "text/plain": [
       "[\"                    The media could not be loaded.\\n                \\n\\n\\n\\n\\xa0apologies for the seemingly 'clickbait' title of this review. i'll be as concise as i can.tl;dr: great battery life, a well tuned camera. go for it (this isn't a paid/fake review lol)!CAMERA: has a really high dynamic range. i have been doing street photography since two years now, all based out of a phone camera, as opposed to a dslr or something. although previously i have used budget devices (occasionally a flagship phone belonging to someone else), i have learned a lot. since my genre involves capturing a quick moment, a good/smart hdr process really comes handy. this phone retains details in the HIGHLIGHTS much, much better than a galaxy s9/note 9, iphone x, comparable to pixel 2xl. nope, no exxageration. zoom performance is okay, as it's digital. the secondary lens seems gimmicky, with the company claiming it to help with depth sensing. on covering the second lens, a message does pop up (in the portrait mode). i feel like they can utilize it better with different algorithms. i see wasted potential. the hardware is the same as op6. NIGHT SIGHT from the ported gcam app is INSANE. the stock app is also great at processing photos in LOWLIGHT. if you're like me, if you feel like capturing something in the middle of the night because it looks magical, this camera will not let you down.VIDEO: if you have tried any sort of filmmaking, you'll understand the importance of shooting in 60fps over 30. NOTE- ois is used for 1080/4k 60fps. eis is used for 1080/4k 30fps. eis is amazing during the day, but falls short at night. 4k 60 means you don't get as much light information at night, but it'll have better stabilization. i wish there was some way to manually change that. the final output, once you realize these certain points and use it to your advantage, then it's amazing! TRUST ME.SELFIE: video called to 1080p with eis, has a great dynamic range. but, i feel like the gcam mode performs better while taking selfies, especially selfie portraits.CAMERA final thoughts: if you know what you're doing, GO BUY THIS PHONE.if camera isn't as important to you, then please read on. 4 times out of 5 you'll be happy with what you capture.*just realized i said i'll be concise hahahah* *i'll try again*BATTERY LIFE: the first few days of extreme heavy usage set me back a bit disappointed, as i got a bit more than 6 hours of sot. DON'T MISUNDERSTAND- it's good. definitely. but it didn't quite match up to what i saw online. so get this, i'm not the only one who felt that way.BUT WAIT! after using this phone for 3 weeks (give or take) battery life has improved. i have provided a screenshot for the initial usage, which shows a little over 6 hours. YESTERDAY, i got nearly TEN HOURS.if you're an average user, but still feel like you use the phone heavily because of a few gaming sessions, you won't be disappointed. i don't play games much, but my camera usage is extreme. that explained why i felt disappointed.BATTERY FINAL THOUGHTS? most of you out there can use this phone easily for an entire day. if you're a casual user, then you'll be VERY happy with the battery backup.CHARGING: dash/rapid/warp charge- as fast as ever. 10/10. doesn't throttle the performance. neither does the charging slow down with simultaneous use.SCREEN: I LOVE THE ABILITY TO CHOOSE DIFFERENT CALIBRATED MODES! oneplus does it right. it's quite accurate. i use dci-p3. for most default is best, as the colors have a lot of saturation, with inky blacks. GOOD brightness, not great though with direct sunlight. BUT WAIT! a paid app (search high brightness mode) enables the actual potential. NOT KIDDING. basically, oneplus has restricted the maximum brightness you can get, to ensure longevity (FOR A GOOD REASON). use that app at your own risk, as toggling it on for long periods of time may be harmful for the phone, as that's not what was intended originally. please don't blame me if you use it without researching further. however, if you are smart about it, you'll be REALLY HAPPY with the results. HONESTLY!DESIGN/BUILD QUALITY: this is something HIGHLY subjective. beauty lies in the eyes of the beholder. personally, i'm in love with the minimalism and symmetry. despite the beautiful glossy finish of mirror black, i feel like midnight black/thunder purple showcases how much oneplus cares about ERGONOMICS. i am usually horribly careless with my phones. and this has a glass back, way less durable, seemingly. YET, i feel safe while holding this. they have oaid attention to subtle things, like the amount of curve at the edges of the backside, to make it easier to grip. the matte texture feels so close to a metallic surface, im not lying. if anyone you know has a 6 or a 6t with a matte surface, please do check it out. NOTE: please make sure you have a case on, as glass is glass.i have dropped this phone 4-5 times (which made my heart skip a beat every time). one of the corners has a slight dent (which still makes me feel really sad). however, the materials used are really good. op6 had gorilla glass 5, this has gorilla glass 6. don't be fooled though, glass always has a high chance of breaking. oneplus phones last a long while. they don't have any water/dust resistance certification, but the phone won't be damaged if it comes in contact with water. please don't push it though.FINGERPRINT SCANNER: *evil laugh* if you're still reading, i cannot thank you enough. i hope i was able to help you understand the experience a bit better. okay, i shouldn't stall amy more. the fingerprint scanner isn't as fast, or as secure, or as adept as a regular capacitive scanner (read: oneplus phones before 6t).DON'T MISUNDERSTAND THOUGH. if you don't compare, oneplus makes the experience seem really smooth. yes, the accuracy suffers a bit. BUT, the novelty of this feature, i feel, makes up for it. it makes me smile every time i use it.THAT'S NOT THE ENTIRE STORY THOUGH! oneplus claims it becomes faster with time. at first, in my first week, i felt like this was a smart way of creating a placebo effect. the words felt like a plain marketing talk. BUT, THEY WEREN'T WRONG. i understand the arguments against the scanner, mainly, a) it forces you to look at the screen everytime you want to unlock, in which case the face unlock despite being less secure, would be faster, b) the positioning could be better & c) the feedback doesn't induce confidence if you actually unlocked or not. true, true and true. BUT, as skeptic as i was, i promise you, it has gotten better and faster. how do i attest that? well, earlier success rate was 75%. it did feel like a let down. it seemed half baked. change for the sake of change. NOW, IT'S UP TO 95%. initially it made me feel angry at oneplus, as it felt like 'IS THIS IT FINALLY? has oneplus SETTLED?' *there you go, the headline of my review* jokes aside, the angles that would fail before, wouldn't fail anymore. i do have a guess at how they're achieving this, but i don't feel like boring you any more than i already have. i tried my best to be as honest and unbiased as i could have. let that strengthen your confidence in my verdict about the scanner. trust me. it gets better with time. this is due to artificial intelligence and i'm glad that they didn't loosely throw around the term (*cough* LG/HUAWEI/OPPO *cough*). the way artificial intelligence works, i can ASSURE you that it should get better with time. it has, for me.NOTE: screen protectors do change the experience. oneplus recommends you to re-register the prints. this is definitely a huge annoyance, as it could lead to wastage of money just to figure out what works. i suggest go with reviews, ones which have a more number of reviews, especially 3-4 stars and not 5. if you see a 5 star rating, it probably was the brand itself.i apologize for this long read. if you still are reading, then i think i can assume that you long for this phone. else you wouldn't have read this far. i understand. just, go for it. it's worth it as long as you don't have an op6. wait for 7 if you really want an improved experience. actually, the way they work, and if it means that much to you, wait for op7t. it'll be worth the wait. moreover the op6 will last you well over two years.signing off,alimpan pal (op6t 8+256gb)ps: i dropped out of college to pursue filmmaking. would mean a lot if you visited my instagram page. currently working on my own domain. till then please check out my work, it's all based on phones, you'll definitely find it unique. look up _theunbreakablevow_ (with the underscores).\",\n",
       " \"                    The media could not be loaded.\\n                \\n\\n\\n\\n\\xa0(Pictures and videos attached)(Star Rating out of 5)Phone Overall Rating:  ★ ★ ★ ★Camera Quality Rating ★ ★ ★ ★ ★Battery Backup  ★ ★ ★ ★Speed/Performance:  ★ ★ ★ ★ ★Operating System:  ★ ★ ★ ★Fingerprint Scanner:  ★ ★ ★ ★Usability/Gestures,etc:  ★ ★ ★ ★ ★Sound Quality:  ★ ★ ★ ★ ★The in-box contents:• The 3.5mm audio jack to USB-C adaptor cable is really useful for the mass. OnePlus has taken care that removing the audio jack doesn't *force* one to buy new headphones.• The *phone cover* is sufficient and one wouldn't need to buy a new cover unless one likes to have personalized phone covers.ReviewI reluctantly exchanged my note 4 for this but after weeks use, I feel this is awesome despite few glitchesMy Experience as a power user of phones:I bought this phone by using the exchange offer with the MI Note 4 that I had used for over two years. Being a power user, high-graphics gamer, freelance graphic designer, developer, an entrepreneur & a multi tasker, I find OnePlus 6T (OxygenOS) so much worth the purchase. Specially so when I am transitioning from MI Note 4 (MIUI). OnePlus 6T is an incremental upgrade to the OnePlus 6T with subtle but significant upgrades. But there is always something positive and negative about a device so following is what I feel about it:• The fingerprint scanner that was the key selling point for OnePlus 6T isnt as impressive as it seemed to be earlier before using the phone for a week. It is good but it isnt as fast as face recognition or back side fingerprint scanner. The major cause of this is that the back side fingerprint scanner in the previous model 6 was a definite point that was locatable but in 6T this area is on the screen and you need to tap the screen to get the area of fingerprint scanner to show and then you have to do the needful. This is like a step extra versus the previous models quick screen unlock with same level of security. This is a 2 second wasted only to unlock the screen.• The sound quality and camera quality is exceptionally awesome. No flaws in them for this level of pricing. There are few so called better ones in other brands but then better is a debatable word with camera output quality.• Storage / model options: I have seen the mirror version of version 6 with my friend and the midnight black that I have been using of version 6. Midnight black is just so so buttery smooth to enjoy and feel while using the phone that makes it seem like everything is on screen surface and covering the full screen area. Mirror version becomes boring and frustrating after a point because of the fingerprints that are left visible all over the back side of the body so easily everytime.• In-display fingerprint scanner / sensor: OnePlus’s dedicated fingerprint scanner has always been a secure and fastest scanner around. With in-display scanner they have integrated the fingerprint scanner inside the device remarkably well. It is fast enough to call it quick but sure isn’t as fast as dedicated scanner module which it implemented in OnePlus 6’s rear.• Blazing fast: There is nothing more pleasing that having a fluid experience using a phone and OnePlus 6T is blazing fast. Multi-tasking is such a breeze with 6T. Test it with almost any (and virtually as many) apps and 1+ 6T will deliver! Gaming Mode just adds to this beefy specs while you are gaming.• Gestures: After using it once and I dont want to go back to using buttons (almost definitely). The gestures add so much to its intuitive, smooth user experience, while getting work done faster and without any hassle.• Camera: I make some videos of indoor interviews often night light as well and some casual street photography. This 6T camera delivers to the price. Infact more, it is such an ease taking low-light photos without having to worry about setting up a light or finding a good light source.• Audio: The audio in this phone is aptly loud and with nice bass that a mobile phone can pack. OnePlus 6 had a very shrieky noisy sort of high-volume issue. But this one has a much more crisp and clearer stereo like speaker feel.• Faster charging: As always OnePlus is much loved for its fast charging and adding ~400 mAh to the battery 6T makes it all much more pleasing.• Larger & stronger display: The display is now Corning Gorilla Glass 6 sized at 6.41” which is just as much wide as OnePlus 6’s Corning GG 5 sized at 6.28” but with more height-giving aspect ratio of 19.5:9 aspect ratio and believe me watching movies, YouTube is such a bliss!!!• Just a Notch: It’s a huge improvement over OnePlus 6’s slab shaped huge notch. The notch in 6T is tear drop shaped and well designed, sized. It rather makes the appearance of the screen very attractive  It improves the overall usability and feel of display by many folds.• 3.5mm Audio jack is Gone: USB Type-C is all you need to charge the phone or listen to music. You need a type-C to 3.5mm audio jack/adapter within the package though which comes as a huge relief incase I am stuck with using an ordinary 3.5mm Headphones.• If you are a One Plus 6 owner you would like this thing about the charger that it is of same specifications in terms of electric input and output. You can use the same charger for both the phones. This saves you from the hassle of storing two chargers for two same brand phones.• 3700 mAh: Beefed up the battery (maybe that’s why the audio jack had to go). But this also means longer charging time with the same charger as OnePlus 6 but that is okay i think since it still is fast compared to other phones. Lot of people are crying for wireless charging. I guess they dont know about the slow charging speed and longer charging time for the smartphones. Everyone who has used the fast charger knows that wireless charging is not as great as it sounds.•  The software feature of Screen Brightness is a big dislike. Since the new OS update, OP6 and OP6T both have had very bad transition scale in terms of screen brightness. Earlier the screen was enough bright at 30% thus saving batter, but now even indoor use requires screen brightness to be set at 60% to be able to use phone properly. This is a big let down as it consumes a lot of battery.• The new software update has some improvements in Camera and gestures and some patch fixes. This is good, especially the nightscape camera features takes amazing low light contrast pictures (one nightscape mode shot pictures has been attached).• But the new swipe gesture addition to switch between previous and next apps has caused the previously existent two gestures for going to the tray and going back has become way slower and sometimes non responsive. In an effort to add something just not required, the previous smooth gestures transitions has been sacrificed. This is just wasnt called for.\",\n",
       " \"VerdictThe OnePlus 6T brings new technology and worthwhile improvements to the table making this the best phone from OnePlus yet.ProsNew fingerprint sensor feels cutting-edgeUp-to-date, versatile OSFast Charge is still greatSleek, premium designGreat performanceGreat battery lifeConsCamera's Nightscape mode needs workAnother headphone jack bites the dustFingerprint sensor needs refinementPoor audio capabilitieshis affordable Android flagship sports a lightning-fast in-display fingerprint sensor and powerful performance for half the price of its rivals.Super-fast in-display fingerprint sensorGorgeous display with tiny teardrop notchImproved camera supportAndroid Pie out of the box.AGAINSTNo headphone jackLacks wireless chargingCamera: Improved, but not amazingOnePlus didn't make any tweaks to the camera hardware in the 6T. Like the 6, the new model sports a dual-lens rear shooter with a 16-megapixel and 20-MP lens and a 20-MP front-facing lens.But the company made some software enhancements to boost photo quality, particularly in portraits and at night. A new Night mode, which you can select from the lower menu in the camera preview, lengthens the exposure time to capture more detail in low-light settings.Unfortunately, that exposure doesn't do much to enhance the quality of a low-light image, as you can see in the below comparison of the same spooky Halloween display lit colorful lights and a street lamp. With Night mode activated, the shot is brighter overall but also looks overexposed, so you lose detail and contrast. The image isn't much better without Night mode, but looks slightly less grainy.The Pixel 3 captures the variation in the purple lights, and also brings up the contrast in the black spiders on the staircase. The red of the monstrous ghost's eyes and hands is far more vivid in the Pixel 3's shot. This is without the Pixel 3's forthcoming Night Sight mode, which reportedly makes the device's low-light shots dramatically better. The iPhone XR’s shot is more true-to-life — the purple and red hues look like they did in person, even if there's not as much contrast as in the Pixel 3's result.Performance: Flagship speed for lessThe 6T shares the same specs as the 6, so performance is unchanged in the newer device. The phone's 8GB of RAM and Snapdragon 845 processor deliver flagship speeds, besting even Samsung's Galaxy Note 9 (with 6GB of RAM) and Google's Pixel 3 XL (4GB).Battery LifeThe OnePlus 6T’s 3,700 mAh battery is slightly bigger than the OnePlus 6's 3,300 mAh pack, but the new device also has a slightly larger display. The two phones ran neck-and-neck in the Toms Guide Battery Test of continuous web-surfing over T-Mobile's LTE network, with the 6T lasting 10 hours and 23 minutes and the 6 lasting just 10 minutes longer. The smartphone average is 9:50.In my five days of testing the 6T, I found it to be a champ. For instance, I charged up the 6T to 100 percent and then used it for 20 hours, from late afternoon to lunchtime the following day. I took the phone running, listening to the new Robyn album over Apple Music.OnePlus 6T vs. iPhone XRThe OnePlus 6T is cheaper than the iPhone XR while offering a bigger display. The 6.2-inch-long 6T is taller than the 5.9-inch-long iPhone XR, Apple's most affordable flagship iPhone. That extra height is all display — the 6T's 6.4-inch OLED panel is simply bigger than the XR's 6.1-inch screen.For those of us with small hands, the taller screen makes it tougher to navigate the 6T one-handed than the XR, but there are worthwhile trade-offs.OnePlus 6T Cheat Sheet: What You Need to KnowThe 6T is the first flagship phone released in the U.S. with an in-display fingerprint sensor. Spoiler alert: The sensor's lightning fast and amazing.T-Mobile customers can buy the 6T in-store, and it also supports Verizon's network.Farewell, headphone jack. OnePlus has parted ways with the 3.5mm port. A USB-C dongle is included in the box.Android 9.0 Pie with OyxgenOS doesn't feel bloated.New Night photography feature aims to improve low-light shots, but the Pixel 3 is better.A recently-released McLaren Edition offers 10GB of RAM, 256GB of storage and OnePlus' new Warp Charge system.Design: Matte beauty with teardrop notchOnePlus isn't pushing any design boundaries with the 6T, which isn't necessarily a bad thing. The matte Midnight Black model I tested is a subtle standout in a sea of glassy black 6-inch slabs (i.e., almost every other Android flagship). The glossy Mirror Black shade is more run-of-the-mill. Unfortunately, OnePlus isn't releasing a Silk White variant of the 6T, at least not yet. The pearly finish of that OnePlus 6 model was one-of-a-kind. The Mirror and Midnight Black hues are standard for OnePlus, so it would be nice to see a fresh shade for the  6T.OnePlus has slightly refined its go-to aesthetic for the 6T with tweaks like a teardrop-shaped notch, which is significantly smaller than the iPhone X-style notch at the top of the OnePlus 6's display. The 6T's bottom bezel is also a smidge thinner than its predecessor's. But the overall dimensions have remained largely the same over the years, even as display size has increased and the fingerprint sensor has moved from chin to back to beneath the display.glass with the 6T and ditched the headphone jack (yes, it's true), the company has still shied away from supporting wireless charging.Display: Still stunningThe OnePlus 6T’s display quality easily rivals flagships twice its price. The expansive, 6.4-inch AMOLED (2340 x 1080) panel is slightly taller than the OnePlus 6's screen, but the most noticeable difference is the less obtrusive dewdrop notch. OnePlus slimmed down the camera cut-out from the 6's iPhone X replica to one that resembles the short-lived Essential Phone. The design tweak makes the screen feel truly edge-to-edge in a way that notched flagships don't.AGAINST'Only' full HD resolutionNo microSD card slot\",\n",
       " \"I'll split the review into sections to make it easy to understand.Delivery 10/10: I placed the order on the 2nd since the 8/256 model was out of stock and I was supposed to receive the phone on the 4th however I was pleasantly surprised when the order shipped and was at my doorstep on the 2nd itself so kudos to the seller and Amazon for a great delivery experience.Now onto the phone...Build 8/10: The body of the phone is metal and the design is ergonomic. Not a huge change from the OP6 other than the lack of a fingerprint sensor. A lack of headphone jack is problematic.Screen 10/10: 6.44 inch 2560x1080 AMOLED display. A gorgeous display with vivid colors and true blacks, feels better than many 2K screens and the load on the battery is reduced massively as well. The notch is improved massively as well as it feels less intrusive and easier to adopt. With an 86% screen to body ratio, the experience is immersive.Internals and Software 10/10: 8GB RAM and 256GB of storage is future proof enough and can handle anything thrown at it. OxygenOS with Android Pie is greatly optimized with some useful features and the performance is fast, lag-free and snappy. SD845 is best in class and the GPU can handle heavy games with ease.Camera 9/10: While it sports the same lens as its predecessor, the software tweaks and optimization makes it feel like a massive upgrade with noticeably better photos than the OP6 as well as great improvement with the Night mode in taking photos in low light. You can shoot 720p video at 480fps as well as 4K 60fps (limited to 5 minutes at a stretch) and the inclusion of pro mode makes it easier to tweak the camera according to your needs. The front camera is crisp and an improvement over its predecessor. While it may not be as exceptional as the Pixel 3 or Note 9, it is still the best camera in its price range.Battery life ?/10: It's still too early to give an honest review about the battery life however the 3700mah capacity paired with the industry leading fast-charging technology makes it one of the best phone batteries. In my short use of the phone so far I've consistently got 4.5-5 hours SoT and the standby time is insane as well. This is one of the best phones battery management wise bar the Note 9.New features: While the fingerprint sensor is now embedded under the screen, it is more of a positive point for the screen to body ratio than the security aspect of the phone. While it definitely is not gimmicky, it is not completely useful as well. It's plenty fast despite being a first-generation in-screen reader however still slower than physical button readers as well as the native face unlock (which is really really good and insanely fast even in low light) If you're someone who disables face unlock and will only use your fingerprint then it is good enough for your daily needs.Sound 7/10: Due to the reduced notch, the earpiece is shifted into the top slit however it is still plenty audible and really clear. The speaker despite being a mono downward firing one is loud enough to play music and answer calls from far away. One issue I have with the bottom speaker is that despite being two grills, one on either side of the type C slot, there is only one speaker which is the left one which means if you cover it you will muffle 90% of the sound also by looking at the pictures you might assume it might be dual bottom firing speakers but it's only one (so it might seem like false advertising?) but still it doesn't affect the quality or the loudness of the sound one bit so I may be nitpicking here. A lack of headphone jack means you have to settle for bt audio or use the dongle provided by oneplus for free in the box. Since I am coming from an LG G6 which had a 32-bit Quad DAC it is a big letdown since USB-C audio is still garbage and wireless music still cannot compete in quality with wired.Conclusion:+Screen+Battery+Internals+Software+Camera+Phone comes with screen protector pre-applied and with a free transparent TPU case in the box so good on OP to think about the customer-no 3.5mm jack-no wireless charging (not important for me)BEST FLAGSHIP FOR UNDER 50K DESPITE LOSING THE HEADPHONE JACK, THE OTHER GOOD FEATURES MORE THAN MAKE UP FOR IT. GO FOR IT!!!!\",\n",
       " \"Overall: 8/10:A fantastic package at good value. 6T McLaren is'nt much different from the standard 6T except for the RAM and some minor cosmetic changes. But for a long time fan of the Silver Arrows from Mika Hakkinen's time, a small increase in price was worth it. Call me sentimental! :)Unboxing & contents: 8/10One of the coolest unboxing experiences. The McLaren box is very premium and the booklet starts with giving you a brief glimpse into the history of the brand and some cool pictures from the archives. It is an homage to Bruce McLaren to be honest. The Speed Mark (real Carbon Fire cutout of the McLaren logo) encased in acrylic is pretty good and can serve as a cool table top accessory or paper weight. If not for much it can be a good ice breaker for visitors to your home / office. The Charger and Cable are also customized for the McLaren edition. The Soft PU case is simple black and fits snugly. There was a missed opportunity to throw in some colour for the McLaren edition. All else is pretty much standard. Providing only a USB-C to 3.5 converter is a bummer. For the flagship offering at over 50K, throwing in a Bullet Earphone should have been standard.First Impressions: 9/10The device is actually pretty impressive looking. Especially the orange accents at the Bezel on the back. When you change the angle under light, it almost looks like there are LEDs inside. It looks premium for sure though an actual Carbon Fibre body would have been awesome! Be warned though that the surface is a fingerprint magnet and not easy to wipe off unless you use a good cleaning spray. The Waterdrop notch is barely noticeable and is not much of an issue. The colours are vibrant and while setting up you can choose a profile that suits your taste.Setup: 8/10The SIM Card tray is a standard two Nano-SIM one. No SD Card support still! But with 240 GB usable memory, not much of an issue to be honest. I used the OnePlus switch app to transfer my apps, data and settings. The transition was hassle free and took all of 15 minutes. Most apps worked immediately but a few needed to be uninstalled and reinstalled as they were acting up. I gave it a point less as I think the OnePlus Switch app should be integrated at the setup stage instead of making a new user download it. The phone heats up considerably but it was fine after the initial 30 minutes.Battery: 7/10The unit came with 50% power out of the box and it took me a good 30 minutes to get it to 75% despite using the Warp Charge @ 30W. Probably it was due to the fact that close to 100 apps were being downloaded while it was charging. I will check the charging performance over the next few weeks and update review if required.Performance: 9/10Gaming: Initial performance on gaming is very very good (Asphalt 9 Legends and Real Racing 3). Zero lag and super smooth rendering.  Bloons TD6 is a very resource hungry at lategame levels and the 6T McLaren  made short work of it.Display: The display is really mind-blowing. Video on Youtube and other streaming apps was super smooth and brilliant to look at. One cool feature is that you can pinch zoom the content to include / exclude the waterdrop notch for front camera.  Adaptive brightness is annoying at times and I had to turn it off while playing the racing games.Camera: Have not tested the Camera performance yet. Especially the 4K 60 FPS option. Will do it soon and update the review.Hope this helps!\",\n",
       " 'Never in my life I waited for a phone this bad and happy to say the wait was worth it. My LG started giving me issues just after a few months and the Samsung before that had 3 display issues in about 15 months. Tired of splurging on flagship Androids, I started looking for alternatives - the cheaper kinds, the more value for money kindsOnePlus has a pretty loyal band of followers but I never appreciated the Chinese-ness of it but boy, the device is as premium as it can get. OnePlus 6 as I understood from my friends was a great device and OnePlus 6T ought to be better, right? Well, it is, objectively.Call quality: Isn\\'t that the primary purpose of any phone. Much better than the LG which was as good as unusable and slightly topping the SamsungsSpeaker: Reasonably loud to be useful but don\\'t expect it to win sound quality awards. My LG with DAC stands defeated when I use it with my earphones and headphones. My Beyerdynamic cans are useless though as somehow connecting it results in ghost clicksDisplay: Amazing, if you know what AMOLED is you\\'d know the bright contrast-y nature of the display with equally amazing blacks.. and better power management. For the first time ever, started watching movies on mobilesProcessor, RAM and graphics: Snappy and does make you feel you are holding a fast, latest, flagship device. Should hold good for probably 2 yearsBuild quality: Very unchinesy (for want of a better word). Edges feel strong yet beautifully carved, sides are solid and buttons are tactile yet feel built to last. The package comes with a case and I am using a case. Another personal first! Oh, the package was thoughtful like none other. Almost feels like a personalized gift boxBattery: Pretty darn good. I was 98% at 2200 hours, used for 3-4 hours non-stop in the night and it still took me thru to 1700 hours the other day with medium to heavy usage. I just recently let battery go under 5% and feel it\\'s discharging faster now (could only be psychological). Don\\'t let battery go too low though in most likelihood it doesn\\'t do anything as the phone shuts down before it reaches true 0Camera: I bet this is what people are interested in most - the reason why it\\'s last here! The hardware is not much different from the OP6 but in a blind camera test, the T took slightly better low light images with the 6 blowing off highlights more. It could be an issue with that one device but suffice to say the camera is awesome and very capable unless you go comparing with the Pixel 3. I was literally blown from the result of clicking a really, really dark scene and it still had magically squeezed in almost natural light in the picture - just don\\'t expect to create a 10x10 photo frame and you\\'ll be fine. In regular night scenes with some ambient light, there isn\\'t much difference between Auto and night mode. Photography under normal light condition is good - adequately sharp, not overtly saturated and we\\'ll detailed. I find the white balance slightly off but can be fixed in \"pro\" settings. At times, the highlight gets blown out but that\\'s okay for a phone at this price point and I believe many of the camera shortcomings can be fixed with a software upgrade. I would have preferred a wide-angle camera over the depth camera - mind you, the depth camera too works brilliantly in portrait mode and gives you a more natural bokeh effect than software enhanced background blurAll in all, I am quite satisfied with the purchase and probably gonna stick with OnePlus having experimented with most Android manufacturers. Highly recommended!',\n",
       " \"Design--The back is a swathe of curved glass 3D glass that sits comfortably against your palm. At launch the two colours: Midnight Black and Mirror Black, sport two distinctly different finishes. In my opinion, the Midnight Black model I tested is the better looking of the two, with a distinctive S-shaped reflection appearing across its back when the light hits it that has an almost opalescent quality.Screen--The 6T packs the biggest display OnePlus has ever put on a phone. At 6.41-inches it’s sure to satisfy media-lovers, mobile photographers and gamers.6T supports the full DCI-P3 wide colour gamut and the company’s thrown in options for a variety other colour spaces too, such as sRGB, as well as a warm night and monochrome reading mode feature. The use of an AMOLED panel is appreciated too, ensuring great contrast and deep blacks, which again helps when enjoying video.Performance--The ‘T’ series phones, like Google’s Pixel phones, come at an awkward time if you’re after the latest and greatest mobile processor on the market. The Qualcomm Snapdragon 845 chipset at the heart of the OnePlus 6T is an undeniable powerhouse, that’s featured in nearly every 2018 flagship Android phone but it’s about to be supplanted.Software(OOS)--OnePlus was among a handful of manufacturers that promised to deliver fast Android updates and with the OnePlus 6, it certainly delivered. The OnePlus 6T runs an enhanced version of that same Android 9.0 Pie experience out the box with OnePlus’ OxygenOS overlay on top.There’s little more I can say that I want from OnePlus’ take on Android here. I’d like a one-handed mode that actually shrinks the entire UI but I think I’m in the minority there, and I’m curious to try out the promised fingerprint-sensor based shortcuts feature but beyond that, perhaps a few fewer of OnePlus’ own apps stepping on Google’s toes wouldn’t hurt.Camera--The camera hardware at play here appears to be identical to that of its predecessor, with a dual 16/20-megapixel snapper taking point, rocking a respectably wide f/1.7 aperture and PDAF (phase detection autofocus), along with OIS (optical image stabilisation) and enlarged 1.22µm pixels on that main 16-megapixel sensor. There’s also a 16-megapixel front-facer which leverages EIS (electronic image stabilisation). It’s a promising hardware setup.Battery Life--The OnePlus 6T’s 3700mAh power pack is a winner based on my experiences.With 13 hours away from the wall plug and four hours of screen-on time, my OnePlus 6T finished the day at an even 50% charge. In that time I streamed 30 minutes of Netflix, which sapped 6% of the charge (with the screen brightness at half), while a 30 minute stretch of PUBG Mobile, running through multiple short, sharp arcade matches, took 8% out of the battery.Fast Charge (formerly Dash Charge) is a big reason to buy a OnePlus. It’s been the best fast-charging standard out there for a while (although that’s starting to change) and the company has distilled the premise with simple elegance into the tagline, “a day’s power in half an hour”.Pros:New fingerprint sensor feels cutting-edgeUp-to-date, versatile OSDash Charge is still great and better than OnePlus 6Sleek, premium designGreat performanceGreat CameraGreat battery lifeCons:Camera's Nightscape mode(Focus) needs workAnother headphone jack bites the dustFingerprint sensor needs refinementNo LED notification lightNo more colour optionsPUBG Settings:Graphics- Upto HDRFrame Rate- upto UltraVerdict:The OnePlus 6T brings new technology and worthwhile improvements to the table but still needs some tweaking.If you find this review as helpful then please click the helpful button.Thanks to all.\",\n",
       " 'Its been 4+ years and still no issues, going smooth',\n",
       " \"I have been using this phone since 3rd Nov, so after using it extensively for about 1 and a half month, here is what i think.• Performance : Overall performance is mind blowing.•Battery+Dash Charge : Battery life is just amazing and bundle it with the dash charging, u will never ever run out of power. (It makes up for no wireless charging and frankly it didnt even bother me)•Camera : Camera quality is superb, use it with pixels camera port and it can challenge any smartphone anyday. I have added one photo which i shot in very low light using night mode, u can check it.•Sound : Sound is also great (i have heard so many people complaining about absence of stereo speakers but i didn't notice much of a difference, it has performed upto the mark in every situation uptil now like in very noisy backgrounds)•Screen-Body Ratio : The bezels are so thin that u will fall in love with this phone if u watch videos and movies extensively on phones.•Display : The display is also very crsip and clear being fullhd+ display.•Security : Face unlock is lightning fast and u will not even see the lock screen most of the time during unlocking.•In-display fingerprint scanner is also good, not perfect as it sometimes dont recognise the finger but thats ok because with time u will get used to placing ur fingers in the required manner.•Build quality : It is very very Premium and u will feel really good while holding them in ur hands. Its design is very sleek and curvy edges makes them easy to hold.•Dual sim card, so that's another good thing.•Tiny Notch : I dont like notches but in todays world of notches its the best u can get, its very less intrusive and its so small that i dont even notice it now.•OxygenOs : its one of the reasons why i love one plus devices. The customisations available are just awesome. U can set up your phone the way u like it with pure stock android experience. Its just an icing on the cake.•Android Updates : its another thing which u will enjoy owning this device. Most of the companies dont provide that. (This is applicable to all one plus devices though)•Storage : Base storage is 128 gigs, thats huge.The only drawback i find is absence of headphone jack which is not a deal breaker according to me as there are other alternatives to it, so u can easily move on to Bluetooth or type c headphones. Just like the time when touch screen phones were launched in the world of keypad phones people were sceptical back then also.Notable mention : No IP rating is just a myth. Its totally water and dust resistant, i have seen a lot of videos on you tube confirming that. They just didn't want to increase the price to another 20-30$ in order to get that certification as they are very costly.My opinion : Just go for it if you dont own one plus 6 or to some extent one plus 5t. Rest if u are looking for an upgrade, this is the one u should get.I hope i cleared ur doubts. Thanks.\",\n",
       " 'Waited 2 months for this beauty cum beast to launch and here I\\'m reviewing the same from the beast itself. Along with the OnePlus 6t, I had kept Poco F1 and Asus ZenFone 5Z as my other options but finally decided to go with the OnePlus 6t. Let\\'s go through it\\'s features point wise...1- AvailabilityAs a customer, waiting for something u want to buy badly is the worst thing. I made up my mind to buy this device after watching almost all the reviews on YouTube of OnePlus 6 , Poco F1 and Asus ZenFone 5Z but black colour was not my first choice. It was only available in black variant at the time of launch with no information about any other variant. This is why I could not avail offers during Diwali time. I had to wait 15 more days for the \"Thunder Purple\" variant to launch but that too was launched in flash sale fashion which is something not expected from OnePlus. Though later they made the thunder purple variant available all the time.Due to this marketing style, OnePlus ends up forcing some customers to choose the variant which may not be their first choice and as a customer u feel dissatisfied.2-First Look and Build QualityIt was like love at first sight. I could not get my eyes off this beauty. The purple colour merging with the black colour on the top looks mesmerising. Build quality, as heard in several reviews, is top notch. And talking of notch, the water drop notch adds up to the beauty to look even more stunning. Full marks in this section.3- PerformanceHeard it, Seen it, Used it and Felt it. Undoubtedly it\\'s the beast when it comes to performance. You\\'ll feel the smoothness as u use the device. I have used my friend\\'s Poco and Asus ZenFone 5z too...but the experience is smoother in this device for sure. Full marks and OnePlus for the awesome Oxygen OS in performance section4- Sound QualityDecent enough but lacks the experience of a stereo speakers. What to do...Dil Maangey More h(Never Satisfied)5- Battery LifeEarlier I was using a mobile with 4200mah battery which was giving more than a day backup easily. I was ready for a decrease in the backup with OnePlus 6t as compared to my earlier device but the experience was just shocking. OnePlus 6t was giving the same backup as a 4200mah phone. Adding to this amazing battery life is the dash charger which charges the phone with such a great speed that you\\'ll doubt who is in more hurry...You or your charger!!!6-Picture QualityIn normal lighting conditions it undoubtedly takes awesome pictures. Saturation level is just perfect...Colours captured are always close to the original apart from some rare moments when I felt that pics were on warmer side but that\\'s just me!!!Night mode pictures are better than Poco and Asus ZenFone 5z but surely you don\\'t want it to be compared with Google pixel\\'s night mode!!!7- GamingI have 8gb variant and I must say that my gaming experience till now is amazing. With the specs and software provided in this device, u don\\'t need to even think about your gaming experience... it\\'s bound to be buttery smooth!!!']"
      ]
     },
     "execution_count": 102,
     "metadata": {},
     "output_type": "execute_result"
    }
   ],
   "source": [
    "review_contents"
   ]
  },
  {
   "cell_type": "code",
   "execution_count": null,
   "id": "cd6de0fd-c19c-4350-b77f-09a7c552a917",
   "metadata": {},
   "outputs": [],
   "source": [
    "customer_name\n",
    "review_title\n",
    "rates\n",
    "review_contents"
   ]
  },
  {
   "cell_type": "code",
   "execution_count": 103,
   "id": "a85adf4e-5879-4f61-bf61-f97e5571ca3e",
   "metadata": {},
   "outputs": [],
   "source": [
    "import pandas as pd"
   ]
  },
  {
   "cell_type": "code",
   "execution_count": 104,
   "id": "48bbec99-bb13-43eb-9be8-0138fd0f769c",
   "metadata": {},
   "outputs": [],
   "source": [
    "df = pd.DataFrame()"
   ]
  },
  {
   "cell_type": "code",
   "execution_count": 105,
   "id": "58ab13f8-f783-4874-aaf8-19d9a943d2bd",
   "metadata": {},
   "outputs": [
    {
     "data": {
      "text/html": [
       "<div>\n",
       "<style scoped>\n",
       "    .dataframe tbody tr th:only-of-type {\n",
       "        vertical-align: middle;\n",
       "    }\n",
       "\n",
       "    .dataframe tbody tr th {\n",
       "        vertical-align: top;\n",
       "    }\n",
       "\n",
       "    .dataframe thead th {\n",
       "        text-align: right;\n",
       "    }\n",
       "</style>\n",
       "<table border=\"1\" class=\"dataframe\">\n",
       "  <thead>\n",
       "    <tr style=\"text-align: right;\">\n",
       "      <th></th>\n",
       "    </tr>\n",
       "  </thead>\n",
       "  <tbody>\n",
       "  </tbody>\n",
       "</table>\n",
       "</div>"
      ],
      "text/plain": [
       "Empty DataFrame\n",
       "Columns: []\n",
       "Index: []"
      ]
     },
     "execution_count": 105,
     "metadata": {},
     "output_type": "execute_result"
    }
   ],
   "source": [
    "df"
   ]
  },
  {
   "cell_type": "code",
   "execution_count": 106,
   "id": "63c788c2-734c-4bd9-a9b1-fa123598b071",
   "metadata": {},
   "outputs": [],
   "source": [
    "df['Customer Name'] = customer_name\n",
    "df['Review Title']=review_title\n",
    "df['Ratings']= rates\n",
    "df['Reviews']= review_contents"
   ]
  },
  {
   "cell_type": "code",
   "execution_count": 107,
   "id": "c098aa2e-b966-41cc-adc5-73516144fa91",
   "metadata": {},
   "outputs": [
    {
     "data": {
      "text/html": [
       "<div>\n",
       "<style scoped>\n",
       "    .dataframe tbody tr th:only-of-type {\n",
       "        vertical-align: middle;\n",
       "    }\n",
       "\n",
       "    .dataframe tbody tr th {\n",
       "        vertical-align: top;\n",
       "    }\n",
       "\n",
       "    .dataframe thead th {\n",
       "        text-align: right;\n",
       "    }\n",
       "</style>\n",
       "<table border=\"1\" class=\"dataframe\">\n",
       "  <thead>\n",
       "    <tr style=\"text-align: right;\">\n",
       "      <th></th>\n",
       "      <th>Customer Name</th>\n",
       "      <th>Review Title</th>\n",
       "      <th>Ratings</th>\n",
       "      <th>Reviews</th>\n",
       "    </tr>\n",
       "  </thead>\n",
       "  <tbody>\n",
       "    <tr>\n",
       "      <th>0</th>\n",
       "      <td>alimpan pal.</td>\n",
       "      <td>IS THIS IT FINALLY? SLOW FINGERPRINT SCANNER?</td>\n",
       "      <td>4.0 out of 5 stars</td>\n",
       "      <td>The media could not be loa...</td>\n",
       "    </tr>\n",
       "    <tr>\n",
       "      <th>1</th>\n",
       "      <td>Divya Kothari</td>\n",
       "      <td>After a weeks use, I feel this phone is awesom...</td>\n",
       "      <td>4.0 out of 5 stars</td>\n",
       "      <td>The media could not be loa...</td>\n",
       "    </tr>\n",
       "    <tr>\n",
       "      <th>2</th>\n",
       "      <td>Arun kumar T.A</td>\n",
       "      <td>Very good</td>\n",
       "      <td>4.0 out of 5 stars</td>\n",
       "      <td>VerdictThe OnePlus 6T brings new technology an...</td>\n",
       "    </tr>\n",
       "    <tr>\n",
       "      <th>3</th>\n",
       "      <td>Aayush Patil</td>\n",
       "      <td>Worth Every Rupee!!!</td>\n",
       "      <td>5.0 out of 5 stars</td>\n",
       "      <td>I'll split the review into sections to make it...</td>\n",
       "    </tr>\n",
       "    <tr>\n",
       "      <th>4</th>\n",
       "      <td>Kartik Kumar Agarwal</td>\n",
       "      <td>Amazing performance without breaking the bank!</td>\n",
       "      <td>4.0 out of 5 stars</td>\n",
       "      <td>Overall: 8/10:A fantastic package at good valu...</td>\n",
       "    </tr>\n",
       "    <tr>\n",
       "      <th>5</th>\n",
       "      <td>Vijay</td>\n",
       "      <td>Great phone, for it's price and also otherwise</td>\n",
       "      <td>5.0 out of 5 stars</td>\n",
       "      <td>Never in my life I waited for a phone this bad...</td>\n",
       "    </tr>\n",
       "    <tr>\n",
       "      <th>6</th>\n",
       "      <td>CHANDAN CHOUDHURY</td>\n",
       "      <td>The Performance Beast is Here.</td>\n",
       "      <td>5.0 out of 5 stars</td>\n",
       "      <td>Design--The back is a swathe of curved glass 3...</td>\n",
       "    </tr>\n",
       "    <tr>\n",
       "      <th>7</th>\n",
       "      <td>Krishna Kumar</td>\n",
       "      <td>Performance from last 4+ years</td>\n",
       "      <td>5.0 out of 5 stars</td>\n",
       "      <td>Its been 4+ years and still no issues, going s...</td>\n",
       "    </tr>\n",
       "    <tr>\n",
       "      <th>8</th>\n",
       "      <td>Abhishek Baghel</td>\n",
       "      <td>The smartphone you should buy !!</td>\n",
       "      <td>5.0 out of 5 stars</td>\n",
       "      <td>I have been using this phone since 3rd Nov, so...</td>\n",
       "    </tr>\n",
       "    <tr>\n",
       "      <th>9</th>\n",
       "      <td>Ashish Singh</td>\n",
       "      <td>Need For Speed...?? Get the OnePlus 6t</td>\n",
       "      <td>5.0 out of 5 stars</td>\n",
       "      <td>Waited 2 months for this beauty cum beast to l...</td>\n",
       "    </tr>\n",
       "  </tbody>\n",
       "</table>\n",
       "</div>"
      ],
      "text/plain": [
       "          Customer Name                                       Review Title  \\\n",
       "0          alimpan pal.      IS THIS IT FINALLY? SLOW FINGERPRINT SCANNER?   \n",
       "1         Divya Kothari  After a weeks use, I feel this phone is awesom...   \n",
       "2        Arun kumar T.A                                          Very good   \n",
       "3          Aayush Patil                               Worth Every Rupee!!!   \n",
       "4  Kartik Kumar Agarwal     Amazing performance without breaking the bank!   \n",
       "5                 Vijay     Great phone, for it's price and also otherwise   \n",
       "6     CHANDAN CHOUDHURY                     The Performance Beast is Here.   \n",
       "7         Krishna Kumar                     Performance from last 4+ years   \n",
       "8       Abhishek Baghel                   The smartphone you should buy !!   \n",
       "9          Ashish Singh             Need For Speed...?? Get the OnePlus 6t   \n",
       "\n",
       "              Ratings                                            Reviews  \n",
       "0  4.0 out of 5 stars                      The media could not be loa...  \n",
       "1  4.0 out of 5 stars                      The media could not be loa...  \n",
       "2  4.0 out of 5 stars  VerdictThe OnePlus 6T brings new technology an...  \n",
       "3  5.0 out of 5 stars  I'll split the review into sections to make it...  \n",
       "4  4.0 out of 5 stars  Overall: 8/10:A fantastic package at good valu...  \n",
       "5  5.0 out of 5 stars  Never in my life I waited for a phone this bad...  \n",
       "6  5.0 out of 5 stars  Design--The back is a swathe of curved glass 3...  \n",
       "7  5.0 out of 5 stars  Its been 4+ years and still no issues, going s...  \n",
       "8  5.0 out of 5 stars  I have been using this phone since 3rd Nov, so...  \n",
       "9  5.0 out of 5 stars  Waited 2 months for this beauty cum beast to l...  "
      ]
     },
     "execution_count": 107,
     "metadata": {},
     "output_type": "execute_result"
    }
   ],
   "source": [
    "df"
   ]
  },
  {
   "cell_type": "code",
   "execution_count": 123,
   "id": "c47b1bff-45bc-4284-a97f-49b844bd2032",
   "metadata": {},
   "outputs": [
    {
     "ename": "PermissionError",
     "evalue": "[Errno 13] Permission denied: 'C:\\\\reviews.csv'",
     "output_type": "error",
     "traceback": [
      "\u001b[1;31m---------------------------------------------------------------------------\u001b[0m",
      "\u001b[1;31mPermissionError\u001b[0m                           Traceback (most recent call last)",
      "\u001b[1;32m~\\AppData\\Local\\Temp\\ipykernel_8552\\2391988509.py\u001b[0m in \u001b[0;36m<module>\u001b[1;34m\u001b[0m\n\u001b[1;32m----> 1\u001b[1;33m \u001b[0mdf\u001b[0m\u001b[1;33m.\u001b[0m\u001b[0mto_csv\u001b[0m\u001b[1;33m(\u001b[0m\u001b[1;34mr'C:\\reviews.csv'\u001b[0m\u001b[1;33m,\u001b[0m\u001b[0mindex\u001b[0m\u001b[1;33m=\u001b[0m\u001b[1;32mTrue\u001b[0m\u001b[1;33m)\u001b[0m\u001b[1;33m\u001b[0m\u001b[1;33m\u001b[0m\u001b[0m\n\u001b[0m",
      "\u001b[1;32mC:\\ProgramData\\Anaconda3\\lib\\site-packages\\pandas\\core\\generic.py\u001b[0m in \u001b[0;36mto_csv\u001b[1;34m(self, path_or_buf, sep, na_rep, float_format, columns, header, index, index_label, mode, encoding, compression, quoting, quotechar, line_terminator, chunksize, date_format, doublequote, escapechar, decimal, errors, storage_options)\u001b[0m\n\u001b[0;32m   3549\u001b[0m         )\n\u001b[0;32m   3550\u001b[0m \u001b[1;33m\u001b[0m\u001b[0m\n\u001b[1;32m-> 3551\u001b[1;33m         return DataFrameRenderer(formatter).to_csv(\n\u001b[0m\u001b[0;32m   3552\u001b[0m             \u001b[0mpath_or_buf\u001b[0m\u001b[1;33m,\u001b[0m\u001b[1;33m\u001b[0m\u001b[1;33m\u001b[0m\u001b[0m\n\u001b[0;32m   3553\u001b[0m             \u001b[0mline_terminator\u001b[0m\u001b[1;33m=\u001b[0m\u001b[0mline_terminator\u001b[0m\u001b[1;33m,\u001b[0m\u001b[1;33m\u001b[0m\u001b[1;33m\u001b[0m\u001b[0m\n",
      "\u001b[1;32mC:\\ProgramData\\Anaconda3\\lib\\site-packages\\pandas\\io\\formats\\format.py\u001b[0m in \u001b[0;36mto_csv\u001b[1;34m(self, path_or_buf, encoding, sep, columns, index_label, mode, compression, quoting, quotechar, line_terminator, chunksize, date_format, doublequote, escapechar, errors, storage_options)\u001b[0m\n\u001b[0;32m   1178\u001b[0m             \u001b[0mformatter\u001b[0m\u001b[1;33m=\u001b[0m\u001b[0mself\u001b[0m\u001b[1;33m.\u001b[0m\u001b[0mfmt\u001b[0m\u001b[1;33m,\u001b[0m\u001b[1;33m\u001b[0m\u001b[1;33m\u001b[0m\u001b[0m\n\u001b[0;32m   1179\u001b[0m         )\n\u001b[1;32m-> 1180\u001b[1;33m         \u001b[0mcsv_formatter\u001b[0m\u001b[1;33m.\u001b[0m\u001b[0msave\u001b[0m\u001b[1;33m(\u001b[0m\u001b[1;33m)\u001b[0m\u001b[1;33m\u001b[0m\u001b[1;33m\u001b[0m\u001b[0m\n\u001b[0m\u001b[0;32m   1181\u001b[0m \u001b[1;33m\u001b[0m\u001b[0m\n\u001b[0;32m   1182\u001b[0m         \u001b[1;32mif\u001b[0m \u001b[0mcreated_buffer\u001b[0m\u001b[1;33m:\u001b[0m\u001b[1;33m\u001b[0m\u001b[1;33m\u001b[0m\u001b[0m\n",
      "\u001b[1;32mC:\\ProgramData\\Anaconda3\\lib\\site-packages\\pandas\\io\\formats\\csvs.py\u001b[0m in \u001b[0;36msave\u001b[1;34m(self)\u001b[0m\n\u001b[0;32m    239\u001b[0m         \"\"\"\n\u001b[0;32m    240\u001b[0m         \u001b[1;31m# apply compression and byte/text conversion\u001b[0m\u001b[1;33m\u001b[0m\u001b[1;33m\u001b[0m\u001b[0m\n\u001b[1;32m--> 241\u001b[1;33m         with get_handle(\n\u001b[0m\u001b[0;32m    242\u001b[0m             \u001b[0mself\u001b[0m\u001b[1;33m.\u001b[0m\u001b[0mfilepath_or_buffer\u001b[0m\u001b[1;33m,\u001b[0m\u001b[1;33m\u001b[0m\u001b[1;33m\u001b[0m\u001b[0m\n\u001b[0;32m    243\u001b[0m             \u001b[0mself\u001b[0m\u001b[1;33m.\u001b[0m\u001b[0mmode\u001b[0m\u001b[1;33m,\u001b[0m\u001b[1;33m\u001b[0m\u001b[1;33m\u001b[0m\u001b[0m\n",
      "\u001b[1;32mC:\\ProgramData\\Anaconda3\\lib\\site-packages\\pandas\\io\\common.py\u001b[0m in \u001b[0;36mget_handle\u001b[1;34m(path_or_buf, mode, encoding, compression, memory_map, is_text, errors, storage_options)\u001b[0m\n\u001b[0;32m    784\u001b[0m         \u001b[1;32mif\u001b[0m \u001b[0mioargs\u001b[0m\u001b[1;33m.\u001b[0m\u001b[0mencoding\u001b[0m \u001b[1;32mand\u001b[0m \u001b[1;34m\"b\"\u001b[0m \u001b[1;32mnot\u001b[0m \u001b[1;32min\u001b[0m \u001b[0mioargs\u001b[0m\u001b[1;33m.\u001b[0m\u001b[0mmode\u001b[0m\u001b[1;33m:\u001b[0m\u001b[1;33m\u001b[0m\u001b[1;33m\u001b[0m\u001b[0m\n\u001b[0;32m    785\u001b[0m             \u001b[1;31m# Encoding\u001b[0m\u001b[1;33m\u001b[0m\u001b[1;33m\u001b[0m\u001b[0m\n\u001b[1;32m--> 786\u001b[1;33m             handle = open(\n\u001b[0m\u001b[0;32m    787\u001b[0m                 \u001b[0mhandle\u001b[0m\u001b[1;33m,\u001b[0m\u001b[1;33m\u001b[0m\u001b[1;33m\u001b[0m\u001b[0m\n\u001b[0;32m    788\u001b[0m                 \u001b[0mioargs\u001b[0m\u001b[1;33m.\u001b[0m\u001b[0mmode\u001b[0m\u001b[1;33m,\u001b[0m\u001b[1;33m\u001b[0m\u001b[1;33m\u001b[0m\u001b[0m\n",
      "\u001b[1;31mPermissionError\u001b[0m: [Errno 13] Permission denied: 'C:\\\\reviews.csv'"
     ]
    }
   ],
   "source": [
    "df.to_csv(r'C:\\reviews.csv',index=True)"
   ]
  },
  {
   "cell_type": "code",
   "execution_count": 122,
   "id": "ad3e0d4b-f0f3-4d43-bd3f-a50027c8b3c6",
   "metadata": {},
   "outputs": [],
   "source": [
    "import os\n"
   ]
  },
  {
   "cell_type": "code",
   "execution_count": null,
   "id": "e4d15c8f-58c2-46fa-a920-9b4f46cf12ad",
   "metadata": {},
   "outputs": [],
   "source": []
  }
 ],
 "metadata": {
  "kernelspec": {
   "display_name": "Python 3 (ipykernel)",
   "language": "python",
   "name": "python3"
  },
  "language_info": {
   "codemirror_mode": {
    "name": "ipython",
    "version": 3
   },
   "file_extension": ".py",
   "mimetype": "text/x-python",
   "name": "python",
   "nbconvert_exporter": "python",
   "pygments_lexer": "ipython3",
   "version": "3.9.13"
  }
 },
 "nbformat": 4,
 "nbformat_minor": 5
}
