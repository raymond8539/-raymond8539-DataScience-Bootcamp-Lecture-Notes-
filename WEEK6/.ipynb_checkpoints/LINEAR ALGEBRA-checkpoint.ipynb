{
 "cells": [
  {
   "cell_type": "markdown",
   "id": "0dc3f092-e93e-4a7d-abcf-86545150edfa",
   "metadata": {},
   "source": [
    "# WEEK6 DAY1- LINEAR ALGEBRA\n"
   ]
  },
  {
   "cell_type": "markdown",
   "id": "a31f8822-5649-4f9e-a43a-aebf52233276",
   "metadata": {},
   "source": [
    "## MATRIX\n",
    "Matrix is a collection of numbers arranged or ordered in rows and columns\n",
    "### SCALER :\n",
    "it has no dimension and has a single element e.g [2], [a].\n",
    "### VECTOR:\n",
    "It is practically the simplest algebraic object, and it has one dimension, it could either be a row vector or a column vector [2 3 4].It is two or more vectors that forms a two-dimensional matrix.\n",
    "### TENSOR:\n",
    "Tensor is like matrice inside a matrix\n"
   ]
  },
  {
   "cell_type": "markdown",
   "id": "3f2d261f-9061-4ca9-ae99-038fb46115af",
   "metadata": {},
   "source": [
    "## addition of matrix\n",
    "for matrix A and B to be added it must be of the same dimension "
   ]
  },
  {
   "cell_type": "code",
   "execution_count": 1,
   "id": "78bb6d0f-f9a8-41c3-8f97-48da60b54b28",
   "metadata": {},
   "outputs": [],
   "source": [
    "# import the librabries\n",
    "import numpy as np"
   ]
  },
  {
   "cell_type": "code",
   "execution_count": 18,
   "id": "c4c6410e-a47f-42ca-b69e-23fb955542b7",
   "metadata": {},
   "outputs": [],
   "source": [
    "A = np.array([3,5,7])\n",
    "B=np.array([2,4,6])"
   ]
  },
  {
   "cell_type": "code",
   "execution_count": 3,
   "id": "10fce696-11a9-44b0-a7c9-e7650ac70856",
   "metadata": {},
   "outputs": [],
   "source": [
    "C = (a+b)"
   ]
  },
  {
   "cell_type": "code",
   "execution_count": 4,
   "id": "5a5f02ee-0f4c-40f4-921d-ff1043049392",
   "metadata": {},
   "outputs": [
    {
     "data": {
      "text/plain": [
       "array([ 5,  9, 13])"
      ]
     },
     "execution_count": 4,
     "metadata": {},
     "output_type": "execute_result"
    }
   ],
   "source": [
    "C"
   ]
  },
  {
   "cell_type": "code",
   "execution_count": 5,
   "id": "4c3c2168-cffe-407a-9c76-5179e56a7465",
   "metadata": {},
   "outputs": [],
   "source": [
    "D = (a-b)"
   ]
  },
  {
   "cell_type": "code",
   "execution_count": 6,
   "id": "7e5dfc02-3626-43e8-9796-172f78aac4c5",
   "metadata": {},
   "outputs": [
    {
     "data": {
      "text/plain": [
       "array([1, 1, 1])"
      ]
     },
     "execution_count": 6,
     "metadata": {},
     "output_type": "execute_result"
    }
   ],
   "source": [
    "D"
   ]
  },
  {
   "cell_type": "code",
   "execution_count": 19,
   "id": "910d8125-5a3b-4c42-a4d0-2ffbc8a6c96c",
   "metadata": {},
   "outputs": [
    {
     "data": {
      "text/plain": [
       "array([5, 7, 9])"
      ]
     },
     "execution_count": 19,
     "metadata": {},
     "output_type": "execute_result"
    }
   ],
   "source": [
    "a+2"
   ]
  },
  {
   "cell_type": "code",
   "execution_count": 11,
   "id": "c3f232d1-2c48-480b-91bd-2305e00d4731",
   "metadata": {},
   "outputs": [],
   "source": [
    "# adding scaler\n",
    "5+5\n",
    "sc = np.array([4])\n",
    "ss = np.array([6])"
   ]
  },
  {
   "cell_type": "code",
   "execution_count": 12,
   "id": "3fea43e3-30e6-4a96-bc0b-39c2b872421c",
   "metadata": {},
   "outputs": [],
   "source": [
    "z = (sc+ss)"
   ]
  },
  {
   "cell_type": "code",
   "execution_count": 37,
   "id": "e61cd33a-588a-4af2-b10c-ad328d9d21fd",
   "metadata": {},
   "outputs": [
    {
     "data": {
      "text/plain": [
       "array([10])"
      ]
     },
     "execution_count": 37,
     "metadata": {},
     "output_type": "execute_result"
    }
   ],
   "source": [
    "z"
   ]
  },
  {
   "cell_type": "markdown",
   "id": "522031b8-acd7-43f7-84b8-222022df73b2",
   "metadata": {},
   "source": [
    "# Transpose of a matrix\n",
    "Transpose turns a row matrix into a column matrix and turns a column matrix into a row matrix"
   ]
  },
  {
   "cell_type": "code",
   "execution_count": 39,
   "id": "f660efdc-5865-4a83-bdbb-ac3cfabbe4f1",
   "metadata": {},
   "outputs": [
    {
     "data": {
      "text/plain": [
       "array([3, 5, 7])"
      ]
     },
     "execution_count": 39,
     "metadata": {},
     "output_type": "execute_result"
    }
   ],
   "source": [
    "A.T"
   ]
  },
  {
   "cell_type": "code",
   "execution_count": 40,
   "id": "228cf0db-3b56-4452-8de1-5b42d856f686",
   "metadata": {},
   "outputs": [],
   "source": [
    "G = np.array([[2,4,6],[3,5,7]])"
   ]
  },
  {
   "cell_type": "code",
   "execution_count": 41,
   "id": "229d32ab-8948-4795-8963-63586541c007",
   "metadata": {},
   "outputs": [
    {
     "data": {
      "text/plain": [
       "array([[2, 4, 6],\n",
       "       [3, 5, 7]])"
      ]
     },
     "execution_count": 41,
     "metadata": {},
     "output_type": "execute_result"
    }
   ],
   "source": [
    "G"
   ]
  },
  {
   "cell_type": "code",
   "execution_count": 42,
   "id": "81a5c089-73c5-4ba5-9c6c-5401bded5eba",
   "metadata": {},
   "outputs": [
    {
     "data": {
      "text/plain": [
       "array([[2, 3],\n",
       "       [4, 5],\n",
       "       [6, 7]])"
      ]
     },
     "execution_count": 42,
     "metadata": {},
     "output_type": "execute_result"
    }
   ],
   "source": [
    "G.T"
   ]
  },
  {
   "cell_type": "code",
   "execution_count": 43,
   "id": "998412fe-135c-4df1-a1d9-39485a2f78e4",
   "metadata": {},
   "outputs": [],
   "source": [
    "a_ = A.reshape(1,3)"
   ]
  },
  {
   "cell_type": "code",
   "execution_count": 44,
   "id": "80c32968-05bb-465f-b462-c3fadb957ce9",
   "metadata": {},
   "outputs": [
    {
     "data": {
      "text/plain": [
       "array([[3],\n",
       "       [5],\n",
       "       [7]])"
      ]
     },
     "execution_count": 44,
     "metadata": {},
     "output_type": "execute_result"
    }
   ],
   "source": [
    "a_.T"
   ]
  },
  {
   "cell_type": "code",
   "execution_count": 2,
   "id": "360bff93-27d3-4ef9-87bf-4dba1b0b9cb5",
   "metadata": {},
   "outputs": [],
   "source": [
    "v = np.array([[2,3],[5,6]])"
   ]
  },
  {
   "cell_type": "code",
   "execution_count": 3,
   "id": "0cf459df-a500-4956-ae11-6ce15cab8009",
   "metadata": {},
   "outputs": [
    {
     "data": {
      "text/plain": [
       "array([[2, 3],\n",
       "       [5, 6]])"
      ]
     },
     "execution_count": 3,
     "metadata": {},
     "output_type": "execute_result"
    }
   ],
   "source": [
    "v"
   ]
  },
  {
   "cell_type": "code",
   "execution_count": 4,
   "id": "6766edcf-5d1c-4b33-be23-49745363bd46",
   "metadata": {},
   "outputs": [
    {
     "data": {
      "text/plain": [
       "array([[2, 5],\n",
       "       [3, 6]])"
      ]
     },
     "execution_count": 4,
     "metadata": {},
     "output_type": "execute_result"
    }
   ],
   "source": [
    "v.T"
   ]
  },
  {
   "cell_type": "markdown",
   "id": "887d5880-581a-4723-ac96-ab728175dccf",
   "metadata": {},
   "source": [
    "### multiplying a matrix (dot product)"
   ]
  },
  {
   "cell_type": "code",
   "execution_count": 13,
   "id": "66c53fe1-087a-4fe4-b018-652cd9beff01",
   "metadata": {},
   "outputs": [
    {
     "data": {
      "text/plain": [
       "24"
      ]
     },
     "execution_count": 13,
     "metadata": {},
     "output_type": "execute_result"
    }
   ],
   "source": [
    "# multiplying a scaler \n",
    "np.dot(sc,ss)"
   ]
  },
  {
   "cell_type": "code",
   "execution_count": 14,
   "id": "a03dc9e6-53dd-4e1b-bc0e-f5d3595dbb41",
   "metadata": {},
   "outputs": [],
   "source": [
    "L = np.array([0,2,5,8])\n",
    "N = np.array([20,3,4,-1])"
   ]
  },
  {
   "cell_type": "code",
   "execution_count": 15,
   "id": "59d57e27-45a7-4ecc-9ed8-c3528fa776eb",
   "metadata": {},
   "outputs": [
    {
     "data": {
      "text/plain": [
       "18"
      ]
     },
     "execution_count": 15,
     "metadata": {},
     "output_type": "execute_result"
    }
   ],
   "source": [
    "np.dot(L,N)"
   ]
  },
  {
   "cell_type": "markdown",
   "id": "aa313ff3-52e4-491f-be0c-3bcf3e382a05",
   "metadata": {},
   "source": [
    "#### scaler * scaler"
   ]
  },
  {
   "cell_type": "code",
   "execution_count": 16,
   "id": "2ba12bb6-9c1f-4a62-b383-9037c93e18c8",
   "metadata": {},
   "outputs": [
    {
     "data": {
      "text/plain": [
       "30"
      ]
     },
     "execution_count": 16,
     "metadata": {},
     "output_type": "execute_result"
    }
   ],
   "source": [
    "np.dot(5,6)"
   ]
  },
  {
   "cell_type": "markdown",
   "id": "c1047ca0-9ae6-43be-8ca8-8bba7bbd6db6",
   "metadata": {},
   "source": [
    "#### scaler * vector"
   ]
  },
  {
   "cell_type": "code",
   "execution_count": 17,
   "id": "eab35c66-85cf-4c88-9725-140699632a8d",
   "metadata": {},
   "outputs": [
    {
     "data": {
      "text/plain": [
       "array([100,  15,  20,  -5])"
      ]
     },
     "execution_count": 17,
     "metadata": {},
     "output_type": "execute_result"
    }
   ],
   "source": [
    "5*N"
   ]
  },
  {
   "cell_type": "markdown",
   "id": "0a2f3d66-91c2-49f5-94b9-c8a603a5dde9",
   "metadata": {},
   "source": [
    "### Matrix * Matrix\n",
    "for []A to * []B the A column length must be equal to the B row length \n",
    "eg 4x5 . 5x2"
   ]
  },
  {
   "cell_type": "code",
   "execution_count": 22,
   "id": "7547cb27-f9ed-43d0-a2e8-71304ba58362",
   "metadata": {},
   "outputs": [],
   "source": [
    "M = np.array([[5,12,6],[-3,0,14]])\n",
    "O = np.array([[2,-1],[8,0],[3,0]])"
   ]
  },
  {
   "cell_type": "code",
   "execution_count": 23,
   "id": "a4012988-63bc-4042-ac6b-8d6afa3a6f17",
   "metadata": {},
   "outputs": [
    {
     "data": {
      "text/plain": [
       "array([[ 2, -1],\n",
       "       [ 8,  0],\n",
       "       [ 3,  0]])"
      ]
     },
     "execution_count": 23,
     "metadata": {},
     "output_type": "execute_result"
    }
   ],
   "source": [
    "O"
   ]
  },
  {
   "cell_type": "code",
   "execution_count": 24,
   "id": "72803def-865f-4345-99ac-d075c01a81df",
   "metadata": {},
   "outputs": [
    {
     "data": {
      "text/plain": [
       "array([[124,  -5],\n",
       "       [ 36,   3]])"
      ]
     },
     "execution_count": 24,
     "metadata": {},
     "output_type": "execute_result"
    }
   ],
   "source": [
    "np.dot(M,O)"
   ]
  },
  {
   "cell_type": "code",
   "execution_count": 26,
   "id": "62573dae-2e09-41a6-b7a9-741b5af1dc32",
   "metadata": {},
   "outputs": [],
   "source": [
    "H = np.array([[-12,5,-5,1,6],[6,-2,0,0,-3],[10,2,0,8,0],[9,-4,8,3,-6]])\n",
    "I = np.array([[6,-1],[8,-4],[2,-2],[7,4],[-6,-9]])"
   ]
  },
  {
   "cell_type": "code",
   "execution_count": 27,
   "id": "e91e2113-4a8c-40e3-9d9c-c4acded6312a",
   "metadata": {},
   "outputs": [
    {
     "data": {
      "text/plain": [
       "array([[-71, -48],\n",
       "       [ 38,  29],\n",
       "       [132,  14],\n",
       "       [ 95,  57]])"
      ]
     },
     "execution_count": 27,
     "metadata": {},
     "output_type": "execute_result"
    }
   ],
   "source": [
    "np.dot(H,I)"
   ]
  },
  {
   "cell_type": "code",
   "execution_count": null,
   "id": "bbb51bce-2f85-4b53-93ad-6ed265c48393",
   "metadata": {},
   "outputs": [],
   "source": []
  }
 ],
 "metadata": {
  "kernelspec": {
   "display_name": "Python 3 (ipykernel)",
   "language": "python",
   "name": "python3"
  },
  "language_info": {
   "codemirror_mode": {
    "name": "ipython",
    "version": 3
   },
   "file_extension": ".py",
   "mimetype": "text/x-python",
   "name": "python",
   "nbconvert_exporter": "python",
   "pygments_lexer": "ipython3",
   "version": "3.9.13"
  }
 },
 "nbformat": 4,
 "nbformat_minor": 5
}
