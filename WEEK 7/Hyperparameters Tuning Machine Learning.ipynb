{
 "cells": [
  {
   "cell_type": "markdown",
   "id": "2bc0a5f8-1d05-4473-8aba-c09fba50f42f",
   "metadata": {},
   "source": [
    "# WEEK 7: DAY 2 - Hyperparameter Tuning Machine Learning\n",
    "Hyperparameter defines the architecture of the model.\n",
    "The best part is that you get the choice of selecting these for your model. Although you must select from a specified list of hyperparameter for a given model as it varies from model to model."
   ]
  },
  {
   "cell_type": "markdown",
   "id": "490f66f9-06f9-49ef-a691-d9942f7ac94b",
   "metadata": {},
   "source": [
    "basically, we are not aware of the of optimal values for hyperparameters which would generates the best model output.So what we tell the model is to explore and select the optimal model architecture automatically. THis selection procedures for hyperparameters is called HYPERPARAMETER TUNING "
   ]
  },
  {
   "cell_type": "markdown",
   "id": "48abdee9-7c3c-41e4-9592-16c003ea64a2",
   "metadata": {},
   "source": [
    "### Manual Search "
   ]
  },
  {
   "cell_type": "markdown",
   "id": "ecd3a35e-515a-4fa1-b0ea-b76aa819368b",
   "metadata": {},
   "source": [
    "Here we select hyperparameter base on our gut or experience. this is to say that we have understanding on the dataset and sufficient experience to allow use select the best values for the hyperparameters"
   ]
  },
  {
   "cell_type": "markdown",
   "id": "74516671-5c8e-472a-af67-649edf4706d6",
   "metadata": {},
   "source": [
    "### Random Search"
   ]
  },
  {
   "cell_type": "markdown",
   "id": "50ccd1ce-6741-4a67-a737-55eae04ccb57",
   "metadata": {},
   "source": [
    "Here we give the multiple values for the hyperparameter all in one go to the model and allow the model to decide the one that suits best . Out of the multiple value given to the model, it randomly makes combinations on its own and try to fit the dataset and test the accuracy.  it is less expensive in terms of time and computation power . "
   ]
  },
  {
   "cell_type": "markdown",
   "id": "d1388861-ed26-4878-8ef1-6cf314b9e54b",
   "metadata": {},
   "source": [
    "### Grid Search\n"
   ]
  },
  {
   "cell_type": "markdown",
   "id": "ae0fc285-be08-4ee3-a1c9-4316ba133272",
   "metadata": {},
   "source": [
    "the methodology here is thesame as the random search , the difference is that the model goes through every value and every combination and at the end select the one that suits best or the one that is best accurate. It is expensive in terms of computation power  and time , But it is the most efficient method as there is the least possibility of missing out on an optimal solution for the model  "
   ]
  },
  {
   "cell_type": "markdown",
   "id": "98243b3b-01d7-48b2-8f01-ef25ee043f50",
   "metadata": {},
   "source": [
    "# Cross validation\n",
    "the data is usuallydivided into two train and test data .The train set is use to make the machine learn the pattern and create a model for future predictions. The test set is used to test the performance of the model."
   ]
  },
  {
   "cell_type": "code",
   "execution_count": null,
   "id": "be8a7b9d-9e01-4465-be45-1f160697db84",
   "metadata": {},
   "outputs": [],
   "source": [
    "# import the libraries\n",
    "import pandas as pd \n",
    "import numpy as np \n"
   ]
  }
 ],
 "metadata": {
  "kernelspec": {
   "display_name": "Python 3 (ipykernel)",
   "language": "python",
   "name": "python3"
  },
  "language_info": {
   "codemirror_mode": {
    "name": "ipython",
    "version": 3
   },
   "file_extension": ".py",
   "mimetype": "text/x-python",
   "name": "python",
   "nbconvert_exporter": "python",
   "pygments_lexer": "ipython3",
   "version": "3.9.13"
  }
 },
 "nbformat": 4,
 "nbformat_minor": 5
}
