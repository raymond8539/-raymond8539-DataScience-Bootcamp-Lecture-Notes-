{
 "cells": [
  {
   "cell_type": "markdown",
   "id": "6bb499c8-3851-4a8b-942a-bee4e9812a83",
   "metadata": {},
   "source": [
    "# WEEK6:DAY4- Maximum Likelihood Estimation"
   ]
  },
  {
   "cell_type": "markdown",
   "id": "04dcb681-22a7-40f0-910d-1fdadaf30e8b",
   "metadata": {},
   "source": [
    "## Parameters:\n",
    "parameter defines the blueprint for the this model "
   ]
  },
  {
   "cell_type": "markdown",
   "id": "ba5aa3b3-36d8-4ff3-8d21-43ce15315dd2",
   "metadata": {},
   "source": [
    "## Maximum Likelihood Estimation:\n",
    "The maximum likelihood estimation is a method that determines values for parameters of the model. It is the statistical method of estimating the parameters of the probability distribution by maximizing the likelihood function. The point in which the parameter value that maximizes the likelihood function is called the maximum likelihood estimate. "
   ]
  },
  {
   "cell_type": "code",
   "execution_count": 33,
   "id": "b513e590-bc74-4d22-9fa7-c1db7af6f52d",
   "metadata": {},
   "outputs": [],
   "source": [
    "import numpy as np \n",
    "import math \n"
   ]
  },
  {
   "cell_type": "code",
   "execution_count": 34,
   "id": "78fda0e0-96e2-45ff-8e0f-05972ff59245",
   "metadata": {},
   "outputs": [],
   "source": [
    "x = np.array([[1,2,3,4,5]])"
   ]
  },
  {
   "cell_type": "code",
   "execution_count": 35,
   "id": "bc152694-c0e5-46ad-ace9-f48e9426252c",
   "metadata": {},
   "outputs": [],
   "source": [
    "n = np.shape(x)[1]"
   ]
  },
  {
   "cell_type": "code",
   "execution_count": 38,
   "id": "08522aee-0512-4384-8dc2-48a2fb112394",
   "metadata": {},
   "outputs": [
    {
     "name": "stdout",
     "output_type": "stream",
     "text": [
      "the sample data: \n",
      " [[1 2 3 4 5]]\n",
      "the number of data present in x is :  5\n",
      "\n",
      "The mean is :  [[1 2 3 2 3]]\n",
      "The st. dev is :  [[1 2 2 3 3]]\n",
      "Mu sigma logL\n",
      "1 1 -16.995\n",
      "2 2 -5.376\n",
      "3 2 -4.751\n",
      "2 3 -5.214\n",
      "3 3 -4.937\n"
     ]
    }
   ],
   "source": [
    "print(\"the sample data: \\n\", x)\n",
    "print(\"the number of data present in x is : \", n)\n",
    "\n",
    "mu = np.array([[1,2,3,2,3]])\n",
    "sigma = np.array([[1,2,2,3,3]])\n",
    "print(\"\\nThe mean is : \", mu)\n",
    "print(\"The st. dev is : \",sigma)\n",
    "\n",
    "print(\"Mu sigma logL\")\n",
    "for i in range(5):\n",
    "    logL=-np.sum(np.square(x - mu[0,i])/(2*np.square(sigma[0,i]))) - (0.5*n*np.log10(2*math.pi)) -n*np.log10(sigma[0,i])\n",
    "    print(mu[0,i],sigma[0,i], np.round(logL,3))\n",
    "    \n",
    "    "
   ]
  },
  {
   "cell_type": "code",
   "execution_count": null,
   "id": "8b0a463d-b6bd-4e97-966f-f09be8377eea",
   "metadata": {},
   "outputs": [],
   "source": []
  }
 ],
 "metadata": {
  "kernelspec": {
   "display_name": "Python 3 (ipykernel)",
   "language": "python",
   "name": "python3"
  },
  "language_info": {
   "codemirror_mode": {
    "name": "ipython",
    "version": 3
   },
   "file_extension": ".py",
   "mimetype": "text/x-python",
   "name": "python",
   "nbconvert_exporter": "python",
   "pygments_lexer": "ipython3",
   "version": "3.9.13"
  }
 },
 "nbformat": 4,
 "nbformat_minor": 5
}
