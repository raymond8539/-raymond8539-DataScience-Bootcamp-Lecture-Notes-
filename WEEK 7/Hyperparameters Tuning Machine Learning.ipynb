{
 "cells": [
  {
   "cell_type": "markdown",
   "id": "2bc0a5f8-1d05-4473-8aba-c09fba50f42f",
   "metadata": {},
   "source": [
    "# WEEK 7: DAY 2 - Hyperparameter Tuning Machine Learning\n",
    "Hyperparameter defines the architecture of the model\n",
    "The best part is that you get the choice of selecting these for your model. Although you must select from a specified list of hyperparameter for a given model as it varies from model to model."
   ]
  },
  {
   "cell_type": "markdown",
   "id": "490f66f9-06f9-49ef-a691-d9942f7ac94b",
   "metadata": {},
   "source": [
    "basically, we are not aware of the of optimal values for hyperparameters which would generates the best model output.So what we tell the model is to explore and select the optimal model architecture automatically. THis selection procedures for hyperparameters is called HYPERPARAMETER TUNING "
   ]
  },
  {
   "cell_type": "markdown",
   "id": "48abdee9-7c3c-41e4-9592-16c003ea64a2",
   "metadata": {},
   "source": [
    "### Manual Search "
   ]
  },
  {
   "cell_type": "markdown",
   "id": "ecd3a35e-515a-4fa1-b0ea-b76aa819368b",
   "metadata": {},
   "source": [
    "Here we select hyperparameter base on our gut or experience. this is to say that we have understanding on the dataset and sufficient experience to allow use select the best values for the hyperparameters"
   ]
  },
  {
   "cell_type": "markdown",
   "id": "74516671-5c8e-472a-af67-649edf4706d6",
   "metadata": {},
   "source": [
    "### Random Search"
   ]
  },
  {
   "cell_type": "markdown",
   "id": "50ccd1ce-6741-4a67-a737-55eae04ccb57",
   "metadata": {},
   "source": [
    "Here we give the multiple values for the hyperparameter all in one go to the model and allow the model to decide the one that suits best . Out of the multiple value given to the model, it randomly makes combinations on its own and try to fit the dataset and test the accuracy.  it is less expensive in terms of time and computation power . "
   ]
  },
  {
   "cell_type": "markdown",
   "id": "d1388861-ed26-4878-8ef1-6cf314b9e54b",
   "metadata": {},
   "source": [
    "### Grid Search\n"
   ]
  },
  {
   "cell_type": "markdown",
   "id": "ae0fc285-be08-4ee3-a1c9-4316ba133272",
   "metadata": {},
   "source": [
    "the methodology here is thesame as the random search , the difference is that the model goes through every value and every combination and at the end select the one that suits best or the one that is best accurate. It is expensive in terms of computation power  and time , But it is the most efficient method as there is the least possibility of missing out on an optimal solution for the model  "
   ]
  },
  {
   "cell_type": "markdown",
   "id": "98243b3b-01d7-48b2-8f01-ef25ee043f50",
   "metadata": {},
   "source": [
    "# Cross validation\n",
    "the data is usuallydivided into two train and test data .The train set is use to make the machine learn the pattern and create a model for future predictions. The test set is used to test the performance of the model."
   ]
  },
  {
   "cell_type": "code",
   "execution_count": 46,
   "id": "be8a7b9d-9e01-4465-be45-1f160697db84",
   "metadata": {},
   "outputs": [],
   "source": [
    "# import the libraries\n",
    "import pandas as pd \n",
    "import numpy as np \n",
    "from sklearn.svm import SVC\n",
    "from sklearn.model_selection import train_test_split, GridSearchCV, RandomizedSearchCV\n",
    "from sklearn.preprocessing import StandardScaler\n",
    "from sklearn.metrics import confusion_matrix\n"
   ]
  },
  {
   "cell_type": "code",
   "execution_count": 3,
   "id": "1803964e-844f-421f-b690-9d8b345705a5",
   "metadata": {},
   "outputs": [],
   "source": [
    "# load the data \n",
    "dataset = pd.read_csv('Social_Network_Ads.csv')"
   ]
  },
  {
   "cell_type": "code",
   "execution_count": 4,
   "id": "244002d6-1458-482e-98c5-9e93d2b01daf",
   "metadata": {},
   "outputs": [
    {
     "data": {
      "text/html": [
       "<div>\n",
       "<style scoped>\n",
       "    .dataframe tbody tr th:only-of-type {\n",
       "        vertical-align: middle;\n",
       "    }\n",
       "\n",
       "    .dataframe tbody tr th {\n",
       "        vertical-align: top;\n",
       "    }\n",
       "\n",
       "    .dataframe thead th {\n",
       "        text-align: right;\n",
       "    }\n",
       "</style>\n",
       "<table border=\"1\" class=\"dataframe\">\n",
       "  <thead>\n",
       "    <tr style=\"text-align: right;\">\n",
       "      <th></th>\n",
       "      <th>User ID</th>\n",
       "      <th>Gender</th>\n",
       "      <th>Age</th>\n",
       "      <th>EstimatedSalary</th>\n",
       "      <th>Purchased</th>\n",
       "    </tr>\n",
       "  </thead>\n",
       "  <tbody>\n",
       "    <tr>\n",
       "      <th>0</th>\n",
       "      <td>15624510</td>\n",
       "      <td>Male</td>\n",
       "      <td>19</td>\n",
       "      <td>19000</td>\n",
       "      <td>0</td>\n",
       "    </tr>\n",
       "    <tr>\n",
       "      <th>1</th>\n",
       "      <td>15810944</td>\n",
       "      <td>Male</td>\n",
       "      <td>35</td>\n",
       "      <td>20000</td>\n",
       "      <td>0</td>\n",
       "    </tr>\n",
       "    <tr>\n",
       "      <th>2</th>\n",
       "      <td>15668575</td>\n",
       "      <td>Female</td>\n",
       "      <td>26</td>\n",
       "      <td>43000</td>\n",
       "      <td>0</td>\n",
       "    </tr>\n",
       "    <tr>\n",
       "      <th>3</th>\n",
       "      <td>15603246</td>\n",
       "      <td>Female</td>\n",
       "      <td>27</td>\n",
       "      <td>57000</td>\n",
       "      <td>0</td>\n",
       "    </tr>\n",
       "    <tr>\n",
       "      <th>4</th>\n",
       "      <td>15804002</td>\n",
       "      <td>Male</td>\n",
       "      <td>19</td>\n",
       "      <td>76000</td>\n",
       "      <td>0</td>\n",
       "    </tr>\n",
       "  </tbody>\n",
       "</table>\n",
       "</div>"
      ],
      "text/plain": [
       "    User ID  Gender  Age  EstimatedSalary  Purchased\n",
       "0  15624510    Male   19            19000          0\n",
       "1  15810944    Male   35            20000          0\n",
       "2  15668575  Female   26            43000          0\n",
       "3  15603246  Female   27            57000          0\n",
       "4  15804002    Male   19            76000          0"
      ]
     },
     "execution_count": 4,
     "metadata": {},
     "output_type": "execute_result"
    }
   ],
   "source": [
    "dataset.head()"
   ]
  },
  {
   "cell_type": "code",
   "execution_count": 6,
   "id": "c4088638-7040-4e57-9d2d-6003ca8d4007",
   "metadata": {},
   "outputs": [],
   "source": [
    "X= dataset[['Age', 'EstimatedSalary']]\n",
    "Y= dataset[['Purchased']]\n",
    "# this can also be done by using the iloc function \n",
    "#X = dataset.iloc[:,[2 ,3]]\n",
    "#Y = dataset.iloc[:,[4]]"
   ]
  },
  {
   "cell_type": "code",
   "execution_count": 7,
   "id": "2a7caaab-504b-4fd1-914b-485dff3f935b",
   "metadata": {},
   "outputs": [
    {
     "data": {
      "text/plain": [
       "(     Purchased\n",
       " 0            0\n",
       " 1            0\n",
       " 2            0\n",
       " 3            0\n",
       " 4            0\n",
       " ..         ...\n",
       " 395          1\n",
       " 396          1\n",
       " 397          1\n",
       " 398          0\n",
       " 399          1\n",
       " \n",
       " [400 rows x 1 columns],\n",
       "      Age  EstimatedSalary\n",
       " 0     19            19000\n",
       " 1     35            20000\n",
       " 2     26            43000\n",
       " 3     27            57000\n",
       " 4     19            76000\n",
       " ..   ...              ...\n",
       " 395   46            41000\n",
       " 396   51            23000\n",
       " 397   50            20000\n",
       " 398   36            33000\n",
       " 399   49            36000\n",
       " \n",
       " [400 rows x 2 columns])"
      ]
     },
     "execution_count": 7,
     "metadata": {},
     "output_type": "execute_result"
    }
   ],
   "source": [
    "Y,X"
   ]
  },
  {
   "cell_type": "code",
   "execution_count": 8,
   "id": "8f3ce614-8fca-419f-baf4-782dbb4049b7",
   "metadata": {},
   "outputs": [],
   "source": [
    "# splitting the dataset \n",
    "x_train,x_test,y_train,y_test = train_test_split(X,Y, test_size =0.25)"
   ]
  },
  {
   "cell_type": "code",
   "execution_count": 9,
   "id": "0ed3743c-3f21-4b49-9b6e-5ce2710f097b",
   "metadata": {},
   "outputs": [
    {
     "data": {
      "text/plain": [
       "(300, 2)"
      ]
     },
     "execution_count": 9,
     "metadata": {},
     "output_type": "execute_result"
    }
   ],
   "source": [
    "x_train.shape"
   ]
  },
  {
   "cell_type": "code",
   "execution_count": 10,
   "id": "91c24594-d2e2-4832-b9ea-9238341268b1",
   "metadata": {},
   "outputs": [
    {
     "data": {
      "text/plain": [
       "(100, 2)"
      ]
     },
     "execution_count": 10,
     "metadata": {},
     "output_type": "execute_result"
    }
   ],
   "source": [
    "x_test.shape"
   ]
  },
  {
   "cell_type": "code",
   "execution_count": 11,
   "id": "f0c717f9-7980-4a35-a133-1ca64925d416",
   "metadata": {},
   "outputs": [
    {
     "name": "stderr",
     "output_type": "stream",
     "text": [
      "C:\\ProgramData\\Anaconda3\\lib\\site-packages\\sklearn\\utils\\validation.py:993: DataConversionWarning: A column-vector y was passed when a 1d array was expected. Please change the shape of y to (n_samples, ), for example using ravel().\n",
      "  y = column_or_1d(y, warn=True)\n"
     ]
    }
   ],
   "source": [
    "clf = SVC().fit(x_train, y_train)"
   ]
  },
  {
   "cell_type": "code",
   "execution_count": 12,
   "id": "976bec98-9e93-451c-8d73-8122ac85eec6",
   "metadata": {},
   "outputs": [],
   "source": [
    "y_pred = clf.predict(x_test)"
   ]
  },
  {
   "cell_type": "code",
   "execution_count": 13,
   "id": "c8dc7175-eec2-4930-94d3-6f8f9b141b65",
   "metadata": {},
   "outputs": [
    {
     "data": {
      "text/plain": [
       "array([0, 0, 0, 0, 0, 1, 0, 0, 0, 0, 0, 0, 0, 1, 0, 0, 1, 0, 0, 0, 0, 0,\n",
       "       0, 0, 0, 0, 0, 0, 0, 0, 0, 0, 0, 0, 0, 0, 0, 0, 0, 1, 0, 0, 1, 0,\n",
       "       0, 1, 0, 0, 1, 0, 1, 0, 0, 0, 0, 0, 0, 0, 0, 0, 0, 0, 0, 0, 0, 0,\n",
       "       0, 1, 1, 0, 0, 1, 0, 0, 0, 0, 1, 0, 0, 0, 0, 0, 0, 0, 1, 0, 1, 0,\n",
       "       0, 0, 0, 0, 0, 0, 0, 1, 0, 1, 0, 0], dtype=int64)"
      ]
     },
     "execution_count": 13,
     "metadata": {},
     "output_type": "execute_result"
    }
   ],
   "source": [
    "y_pred "
   ]
  },
  {
   "cell_type": "code",
   "execution_count": 15,
   "id": "92259d47-e860-481d-bb61-16df6a12ce76",
   "metadata": {},
   "outputs": [],
   "source": [
    "from sklearn.metrics import accuracy_score"
   ]
  },
  {
   "cell_type": "code",
   "execution_count": 16,
   "id": "3135309e-0f75-4f9e-ba6f-186404a4571b",
   "metadata": {},
   "outputs": [
    {
     "data": {
      "text/plain": [
       "0.75"
      ]
     },
     "execution_count": 16,
     "metadata": {},
     "output_type": "execute_result"
    }
   ],
   "source": [
    "accuracy_score(y_test, y_pred)"
   ]
  },
  {
   "cell_type": "code",
   "execution_count": 18,
   "id": "4078008d-4a59-4787-8976-b4724f5f8db4",
   "metadata": {},
   "outputs": [],
   "source": [
    "grid={'c':[1, 10, 100, 1000], 'kernel':['rbf','linear'], \n",
    "     'gamma': [0.1,0.2,0.3,0.4,0.5,0.6,0.7,0.8,0.9]}"
   ]
  },
  {
   "cell_type": "code",
   "execution_count": 25,
   "id": "93bdb49f-59bc-4719-ac56-ea39d50826c6",
   "metadata": {},
   "outputs": [],
   "source": [
    "scaler = StandardScaler()\n",
    "x_train_scaled = scaler.fit_transform(x_train)\n",
    "x_test_scaled = scaler.transform(x_test)"
   ]
  },
  {
   "cell_type": "code",
   "execution_count": 26,
   "id": "8b58b513-65ab-4239-ad73-837feefe5f8f",
   "metadata": {},
   "outputs": [],
   "source": [
    "clf = SVC()"
   ]
  },
  {
   "cell_type": "code",
   "execution_count": 28,
   "id": "244a3444-f4ba-48d7-bfdf-ec2c4077de40",
   "metadata": {},
   "outputs": [],
   "source": [
    "y_pred = clf.predict(x_test_scaled)"
   ]
  },
  {
   "cell_type": "code",
   "execution_count": 29,
   "id": "1df4590e-7b01-47e7-b8e5-292ae7e10899",
   "metadata": {},
   "outputs": [
    {
     "data": {
      "text/plain": [
       "0.9"
      ]
     },
     "execution_count": 29,
     "metadata": {},
     "output_type": "execute_result"
    }
   ],
   "source": [
    "accuracy_score(y_test, y_pred)"
   ]
  },
  {
   "cell_type": "code",
   "execution_count": 36,
   "id": "0f20c723-dd24-48ba-a261-a133a11c01b9",
   "metadata": {},
   "outputs": [],
   "source": [
    "cvb grid={'C':[1, 10, 100, 1000], 'kernel':['rbf','linear'], \n",
    "     'gamma': [0.1,0.2,0.3,0.4,0.5,0.6,0.7,0.8,0.9]}"
   ]
  },
  {
   "cell_type": "code",
   "execution_count": 37,
   "id": "42d4c4c5-b49a-4d17-b006-405b573d5f4d",
   "metadata": {},
   "outputs": [],
   "source": [
    "grid_search_cv = GridSearchCV(SVC(), param_grid= grid, scoring = 'accuracy', n_jobs= -1)"
   ]
  },
  {
   "cell_type": "code",
   "execution_count": 38,
   "id": "e5fa3214-bcec-4a6d-8e98-3c36c225e8c8",
   "metadata": {},
   "outputs": [
    {
     "name": "stderr",
     "output_type": "stream",
     "text": [
      "C:\\ProgramData\\Anaconda3\\lib\\site-packages\\sklearn\\utils\\validation.py:993: DataConversionWarning: A column-vector y was passed when a 1d array was expected. Please change the shape of y to (n_samples, ), for example using ravel().\n",
      "  y = column_or_1d(y, warn=True)\n"
     ]
    },
    {
     "data": {
      "text/plain": [
       "GridSearchCV(estimator=SVC(), n_jobs=-1,\n",
       "             param_grid={'C': [1, 10, 100, 1000],\n",
       "                         'gamma': [0.1, 0.2, 0.3, 0.4, 0.5, 0.6, 0.7, 0.8, 0.9],\n",
       "                         'kernel': ['rbf', 'linear']},\n",
       "             scoring='accuracy')"
      ]
     },
     "execution_count": 38,
     "metadata": {},
     "output_type": "execute_result"
    }
   ],
   "source": [
    "grid_search_cv.fit(x_train_scaled, y_train)"
   ]
  },
  {
   "cell_type": "code",
   "execution_count": 39,
   "id": "555cf7e0-41a8-4e86-b859-86fc255cc0ea",
   "metadata": {},
   "outputs": [
    {
     "data": {
      "text/plain": [
       "0.9233333333333335"
      ]
     },
     "execution_count": 39,
     "metadata": {},
     "output_type": "execute_result"
    }
   ],
   "source": [
    "grid_search_cv.best_score_"
   ]
  },
  {
   "cell_type": "code",
   "execution_count": 40,
   "id": "0bf084f5-9a0f-4f66-8c87-fb2991fc3bb2",
   "metadata": {},
   "outputs": [
    {
     "data": {
      "text/plain": [
       "{'C': 100, 'gamma': 0.6, 'kernel': 'rbf'}"
      ]
     },
     "execution_count": 40,
     "metadata": {},
     "output_type": "execute_result"
    }
   ],
   "source": [
    "grid_search_cv.best_params_"
   ]
  },
  {
   "cell_type": "code",
   "execution_count": 42,
   "id": "288d7c29-8187-42d7-bb87-836ea3cfdfe7",
   "metadata": {},
   "outputs": [],
   "source": [
    "rdm_search_cv = RandomizedSearchCV(SVC(), param_distributions= grid, n_jobs= -1)"
   ]
  },
  {
   "cell_type": "code",
   "execution_count": 43,
   "id": "8b30cb20-5c15-47a5-a188-0933dfd44cda",
   "metadata": {},
   "outputs": [
    {
     "name": "stderr",
     "output_type": "stream",
     "text": [
      "C:\\ProgramData\\Anaconda3\\lib\\site-packages\\sklearn\\utils\\validation.py:993: DataConversionWarning: A column-vector y was passed when a 1d array was expected. Please change the shape of y to (n_samples, ), for example using ravel().\n",
      "  y = column_or_1d(y, warn=True)\n"
     ]
    },
    {
     "data": {
      "text/plain": [
       "RandomizedSearchCV(estimator=SVC(), n_jobs=-1,\n",
       "                   param_distributions={'C': [1, 10, 100, 1000],\n",
       "                                        'gamma': [0.1, 0.2, 0.3, 0.4, 0.5, 0.6,\n",
       "                                                  0.7, 0.8, 0.9],\n",
       "                                        'kernel': ['rbf', 'linear']})"
      ]
     },
     "execution_count": 43,
     "metadata": {},
     "output_type": "execute_result"
    }
   ],
   "source": [
    "rdm_search_cv.fit(x_train_scaled, y_train)"
   ]
  },
  {
   "cell_type": "code",
   "execution_count": 44,
   "id": "4e1e07fc-98d9-420d-b78d-5048892add61",
   "metadata": {},
   "outputs": [
    {
     "data": {
      "text/plain": [
       "0.9166666666666667"
      ]
     },
     "execution_count": 44,
     "metadata": {},
     "output_type": "execute_result"
    }
   ],
   "source": [
    "rdm_search_cv.best_score_"
   ]
  },
  {
   "cell_type": "code",
   "execution_count": 45,
   "id": "649e515d-8b0f-49f6-b1ef-250b444d0722",
   "metadata": {},
   "outputs": [
    {
     "data": {
      "text/plain": [
       "{'kernel': 'rbf', 'gamma': 0.5, 'C': 1}"
      ]
     },
     "execution_count": 45,
     "metadata": {},
     "output_type": "execute_result"
    }
   ],
   "source": [
    "rdm_search_cv.best_params_"
   ]
  },
  {
   "cell_type": "code",
   "execution_count": 47,
   "id": "b87f6fc9-d346-4e08-afd7-5e35d3e5bd51",
   "metadata": {},
   "outputs": [
    {
     "ename": "TypeError",
     "evalue": "confusion_matrix() missing 2 required positional arguments: 'y_true' and 'y_pred'",
     "output_type": "error",
     "traceback": [
      "\u001b[1;31m---------------------------------------------------------------------------\u001b[0m",
      "\u001b[1;31mTypeError\u001b[0m                                 Traceback (most recent call last)",
      "\u001b[1;32m~\\AppData\\Local\\Temp\\ipykernel_1368\\3457583154.py\u001b[0m in \u001b[0;36m<module>\u001b[1;34m\u001b[0m\n\u001b[1;32m----> 1\u001b[1;33m \u001b[0mcm\u001b[0m \u001b[1;33m=\u001b[0m \u001b[0mconfusion_matrix\u001b[0m\u001b[1;33m(\u001b[0m\u001b[1;33m)\u001b[0m\u001b[1;33m\u001b[0m\u001b[1;33m\u001b[0m\u001b[0m\n\u001b[0m",
      "\u001b[1;31mTypeError\u001b[0m: confusion_matrix() missing 2 required positional arguments: 'y_true' and 'y_pred'"
     ]
    }
   ],
   "source": []
  },
  {
   "cell_type": "code",
   "execution_count": null,
   "id": "9ea80fb0-b71a-4993-b7b3-637ed2cbf1c2",
   "metadata": {},
   "outputs": [],
   "source": []
  }
 ],
 "metadata": {
  "kernelspec": {
   "display_name": "Python 3 (ipykernel)",
   "language": "python",
   "name": "python3"
  },
  "language_info": {
   "codemirror_mode": {
    "name": "ipython",
    "version": 3
   },
   "file_extension": ".py",
   "mimetype": "text/x-python",
   "name": "python",
   "nbconvert_exporter": "python",
   "pygments_lexer": "ipython3",
   "version": "3.9.13"
  }
 },
 "nbformat": 4,
 "nbformat_minor": 5
}
