{
 "cells": [
  {
   "cell_type": "markdown",
   "id": "a0217f1c-86e6-4420-9532-15e67523addc",
   "metadata": {},
   "source": [
    "# Week One: Day 2- Variables, Booleans, and Conditionals"
   ]
  },
  {
   "cell_type": "markdown",
   "id": "2487cfaf-6078-47e1-84ad-e6f9648b1662",
   "metadata": {},
   "source": [
    "# Variables\n",
    "Variable is a named place in the memory of a computer where a programmer can store data and later retrieve the data using the variable i.e it is a symbolic name that is a refrence or a pointer to an object. Once an object is assigned to a variable, you can refer to the object by that name."
   ]
  },
  {
   "cell_type": "code",
   "execution_count": 2,
   "id": "d0d0e21d-b615-48a8-a1e2-522d918e2a6d",
   "metadata": {},
   "outputs": [
    {
     "name": "stdout",
     "output_type": "stream",
     "text": [
      "100\n"
     ]
    }
   ],
   "source": [
    "# example\n",
    "n=100\n",
    "print(n)\n"
   ]
  },
  {
   "cell_type": "markdown",
   "id": "48eb9548-24cd-48a5-9186-ad80fbc64b03",
   "metadata": {},
   "source": [
    " where n is the variable, 100 is the assigned value and the \"=\" is used to assign the value to the variable\n"
   ]
  },
  {
   "cell_type": "code",
   "execution_count": 3,
   "id": "daa429c9-a498-4584-b848-6c914fbd5fb9",
   "metadata": {},
   "outputs": [
    {
     "name": "stdout",
     "output_type": "stream",
     "text": [
      "300\n"
     ]
    }
   ],
   "source": [
    "n=300\n",
    "m=n\n",
    "print(m)\n"
   ]
  },
  {
   "cell_type": "markdown",
   "id": "07ee8b5b-da35-4ff5-9aad-c4deec6d01f9",
   "metadata": {},
   "source": [
    "here python only created a new name referencing thesame object n is pointing to.\n",
    "\n",
    "Officially,variable names in python can be of any length  and can consist of upper case and lower case letters (A-z, a-z), digits(0-9), and the underscore character (_)."
   ]
  },
  {
   "cell_type": "markdown",
   "id": "f2af6f77-d3be-4584-bc54-80886cbf7fc8",
   "metadata": {},
   "source": [
    "# Rules for creating a variable\n",
    "1) it must not start with a digit\n",
    "2) it must not contain any special character\n",
    "3) it can start with either upper case or lower case\n",
    "4) it can also be started with underscore\n",
    "5) python reserved names must not be use as a variable\n"
   ]
  },
  {
   "cell_type": "code",
   "execution_count": 6,
   "id": "9ed8ab98-9924-48fa-89fd-b35828534f9b",
   "metadata": {},
   "outputs": [
    {
     "name": "stdout",
     "output_type": "stream",
     "text": [
      "Raymond 30 4\n",
      "evangel\n"
     ]
    }
   ],
   "source": [
    "# example;\n",
    "name= 'Raymond'\n",
    "Age= 30\n",
    "course_no= 4\n",
    "print(name, Age, course_no)\n",
    "_school= 'evangel'\n",
    "print(_school)\n"
   ]
  },
  {
   "cell_type": "markdown",
   "id": "19b24c39-67d4-4ac8-b92b-510d782e3398",
   "metadata": {},
   "source": [
    "# Boolean Expessions\n",
    "A boolean expression is a logical statement that is either true or false. Boolean expression can comparedata of any type as long as both parts of the expression have the same basic data type. You can also test data to see if it is equal to, greater than, or less than other data.\n",
    "A boolean expression can consist of boolean data such as;\n",
    "1)Boolean value (True and False)\n",
    "2)Booleans formulars\n",
    "3)functions that can yield boolean result\n",
    "4)Boolean values calculatedby comparison.\n",
    "# Creating Boolean Expressions\n",
    "A Booleanexpression is a three-part clause that consists of two items to be compared , separated by a comparison operator. You can create a more complex boolean expression by joining any of these three-parts expression with the AND and OR logical operators. Each expression that is connected by AND or OR must be a complete boolean expression in itself, even when it means specifying the same variable several times.\n",
    "FOr example \n",
    "sale SE 3000 AND BA 1000 is not valid because the second part is incomplete.\n",
    "this is the complete ; sales SE 3000 AND sales BA 1000\n",
    "This true and false have thier own type, they are not string.\n"
   ]
  },
  {
   "cell_type": "code",
   "execution_count": 3,
   "id": "d68a8a43-7a44-4e6a-827a-00f1fafdeabf",
   "metadata": {},
   "outputs": [
    {
     "data": {
      "text/plain": [
       "bool"
      ]
     },
     "execution_count": 3,
     "metadata": {},
     "output_type": "execute_result"
    }
   ],
   "source": [
    "type(True)\n"
   ]
  },
  {
   "cell_type": "code",
   "execution_count": 4,
   "id": "7c45802e-5976-4db1-a7e7-45f74e0ba8c3",
   "metadata": {},
   "outputs": [
    {
     "data": {
      "text/plain": [
       "bool"
      ]
     },
     "execution_count": 4,
     "metadata": {},
     "output_type": "execute_result"
    }
   ],
   "source": [
    "type(False)"
   ]
  },
  {
   "cell_type": "code",
   "execution_count": 5,
   "id": "0c683f51-7cf6-45eb-af36-a228377f37cb",
   "metadata": {
    "jp-MarkdownHeadingCollapsed": true,
    "tags": []
   },
   "outputs": [],
   "source": [
    "# operators that are used for comparison\n",
    "# x < y   x is less than y\n",
    "# x > y   x is greater than y\n",
    "# x < =y  x is less than or equal to y\n",
    "# x > =y  x is greater than or equal to y\n",
    "# x !=y   x is not equal to y\n",
    "# x is y   x is thesame as y\n",
    "# x is not y  x is not thesame as y\n"
   ]
  },
  {
   "cell_type": "code",
   "execution_count": 1,
   "id": "94cba125-cc2a-49d8-a4d8-b740437174a4",
   "metadata": {},
   "outputs": [
    {
     "data": {
      "text/plain": [
       "True"
      ]
     },
     "execution_count": 1,
     "metadata": {},
     "output_type": "execute_result"
    }
   ],
   "source": [
    "# Examples;\n",
    "r=5\n",
    "r==5\n"
   ]
  },
  {
   "cell_type": "code",
   "execution_count": 2,
   "id": "22c83d1e-aff9-4f67-8c0c-d90030d77cd1",
   "metadata": {},
   "outputs": [
    {
     "data": {
      "text/plain": [
       "False"
      ]
     },
     "execution_count": 2,
     "metadata": {},
     "output_type": "execute_result"
    }
   ],
   "source": [
    "r==6"
   ]
  },
  {
   "cell_type": "code",
   "execution_count": 7,
   "id": "f80ec168-bfc7-4747-a42c-9ac230a61412",
   "metadata": {},
   "outputs": [
    {
     "data": {
      "text/plain": [
       "True"
      ]
     },
     "execution_count": 7,
     "metadata": {},
     "output_type": "execute_result"
    }
   ],
   "source": [
    "r>4"
   ]
  },
  {
   "cell_type": "code",
   "execution_count": 8,
   "id": "61362038-f5fd-4d5a-a1a6-2966bd1e82ec",
   "metadata": {},
   "outputs": [
    {
     "data": {
      "text/plain": [
       "False"
      ]
     },
     "execution_count": 8,
     "metadata": {},
     "output_type": "execute_result"
    }
   ],
   "source": [
    "r>10"
   ]
  },
  {
   "cell_type": "code",
   "execution_count": 1,
   "id": "55aac314-39c6-4bfd-bfe2-f21dd846b599",
   "metadata": {},
   "outputs": [
    {
     "data": {
      "text/plain": [
       "True"
      ]
     },
     "execution_count": 1,
     "metadata": {},
     "output_type": "execute_result"
    }
   ],
   "source": [
    "10%2==0\n"
   ]
  },
  {
   "cell_type": "code",
   "execution_count": 2,
   "id": "6150e8ea-caf9-42a2-adaa-4b1da473b406",
   "metadata": {},
   "outputs": [
    {
     "data": {
      "text/plain": [
       "False"
      ]
     },
     "execution_count": 2,
     "metadata": {},
     "output_type": "execute_result"
    }
   ],
   "source": [
    "10%3==0"
   ]
  },
  {
   "cell_type": "markdown",
   "id": "a6b2cc1e-d2ae-4e39-af8a-756484481263",
   "metadata": {},
   "source": [
    "# conditionals \n",
    "In order to write useful programs sometimes, we most always need to check conditions and change the behaviour of the program accordingly. Conditionals gives us thia ability. The simplest for is the if statement:\n",
    "if x < 0:\n",
    "print('x is positive')\n",
    "The boolean expression after the if statement is the condition. WE end the if statement with a colon (:), and the line(s) after the if statement are indented.\n",
    "If the logical condition is true, the indented statement gets executed, but if the logical condition is false , the indented statement is skipped.\n",
    "\n",
    "\n"
   ]
  },
  {
   "cell_type": "markdown",
   "id": "7045a6bd-504a-4c57-b586-71688484377c",
   "metadata": {},
   "source": [
    "# ALternative execution\n",
    "A second form of the if  statement is the alternative execution, inwhich there are two possibilities and the condition determines which one gets executed. The syntax looks like this;\n",
    "\n"
   ]
  },
  {
   "cell_type": "markdown",
   "id": "f05793ec-8764-4fdb-ba3b-7536da4ca786",
   "metadata": {},
   "source": [
    " \n",
    "    if x%2 == 0 :\n",
    "        print('x is even')\n",
    "        else:\n",
    "            print('x is odd')\n",
    "            "
   ]
  },
  {
   "cell_type": "markdown",
   "id": "da66d3ea-203c-4d40-bf29-e0632d3f4304",
   "metadata": {},
   "source": [
    "If the remainder when x is divided by 2 is 0, then we know that x is an even number and the program display a message to that effect. If the condition is false, the second set of the statement is executed.\n",
    "Since the condition must either be true or false, exactly one of the statement must be executed. the alternatives are called branches, because they are branches in the flow of execution."
   ]
  },
  {
   "cell_type": "markdown",
   "id": "97732728-ca50-482e-99ca-f5a4a7c37854",
   "metadata": {},
   "source": [
    "# chained conditionals\n",
    "Sometimes there are more than two possibilities and we need more than two branches. One way to express a computation like that is chained conditional:"
   ]
  },
  {
   "cell_type": "code",
   "execution_count": null,
   "id": "ba98a508-d8ec-4f4f-a957-d4fd60543b15",
   "metadata": {},
   "outputs": [],
   "source": [
    "if x < y:\n",
    "    print('x is less than y')\n",
    "    elif x > y: \n",
    "        print('x is greater than y')\n",
    "        else:\n",
    "            print('x and y are equal')\n",
    "            "
   ]
  },
  {
   "cell_type": "markdown",
   "id": "b21a0667-dcc1-4764-b2ed-bb03bdb98b90",
   "metadata": {},
   "source": [
    "elif is an abbreviation of \"else if\", and there is no limit on the number of elif statements. If there is an else clause, it has to be the end, but there does not have to be one."
   ]
  },
  {
   "cell_type": "code",
   "execution_count": null,
   "id": "b189b296-000c-4b16-b63e-7d1d4e9fc96b",
   "metadata": {},
   "outputs": [],
   "source": [
    "if choice == 'a' :\n",
    "    print('bad guess')\n",
    "    elif choice == 'b' : \n",
    "        print('good choice')\n",
    "        elif choice == 'c' :\n",
    "            print('close, but not correct')\n",
    "            \n",
    "        "
   ]
  },
  {
   "cell_type": "markdown",
   "id": "89d4a025-166b-440a-b3ea-08c9a7a75e7c",
   "metadata": {},
   "source": [
    "# Nested conditional\n",
    "Each condition is checked in order. If the first is false, the next is checked, and so on. If one of them is true, the corresponding branch executes, and the statement ends. Even if more than one condition is true, only the first true branch executes. One conditional can also be nested within another. We could have written the three bracnh example like this."
   ]
  },
  {
   "cell_type": "code",
   "execution_count": null,
   "id": "dc745ea7-7069-4ef1-9ba8-5c88977b6fa5",
   "metadata": {},
   "outputs": [],
   "source": [
    "if x == y :\n",
    "    print('x and y are equal')\n",
    "    else:\n",
    "        if x < y:\n",
    "            print('x is less than y')\n",
    "            else:\n",
    "                 print('x is greater than y')\n",
    "            "
   ]
  },
  {
   "cell_type": "code",
   "execution_count": null,
   "id": "98e571da-d468-40fc-bf93-cb30923825dc",
   "metadata": {},
   "outputs": [],
   "source": []
  }
 ],
 "metadata": {
  "kernelspec": {
   "display_name": "Python 3 (ipykernel)",
   "language": "python",
   "name": "python3"
  },
  "language_info": {
   "codemirror_mode": {
    "name": "ipython",
    "version": 3
   },
   "file_extension": ".py",
   "mimetype": "text/x-python",
   "name": "python",
   "nbconvert_exporter": "python",
   "pygments_lexer": "ipython3",
   "version": "3.9.13"
  }
 },
 "nbformat": 4,
 "nbformat_minor": 5
}
